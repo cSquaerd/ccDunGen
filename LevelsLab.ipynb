{
 "cells": [
  {
   "cell_type": "code",
   "execution_count": 1,
   "id": "37145b59-524e-45d9-89a7-78fc484e014c",
   "metadata": {},
   "outputs": [],
   "source": [
    "import numpy as np\n",
    "np.set_printoptions(linewidth = 144)"
   ]
  },
  {
   "cell_type": "code",
   "execution_count": 2,
   "id": "09dedc60-2bcb-4e53-80e9-8cb85326155b",
   "metadata": {},
   "outputs": [
    {
     "data": {
      "text/plain": [
       "array([ 1,  2,  3,  4,  5,  6,  7,  8,  9, 10])"
      ]
     },
     "execution_count": 2,
     "metadata": {},
     "output_type": "execute_result"
    }
   ],
   "source": [
    "np.arange(1,11)"
   ]
  },
  {
   "cell_type": "code",
   "execution_count": 3,
   "id": "5fd09568-1911-4148-acfb-1968609c41d1",
   "metadata": {},
   "outputs": [
    {
     "data": {
      "text/plain": [
       "(1, (10,))"
      ]
     },
     "execution_count": 3,
     "metadata": {},
     "output_type": "execute_result"
    }
   ],
   "source": [
    "_.ndim, _.shape"
   ]
  },
  {
   "cell_type": "code",
   "execution_count": 4,
   "id": "8a706c2b-fc3d-4b96-aa0d-92aeb20673a8",
   "metadata": {},
   "outputs": [
    {
     "data": {
      "text/plain": [
       "array([0.05, 0.1 , 0.15, 0.2 , 0.25, 0.3 , 0.35, 0.4 , 0.45, 0.5 , 0.55, 0.6 , 0.65, 0.7 , 0.75, 0.8 , 0.85, 0.9 , 0.95])"
      ]
     },
     "execution_count": 4,
     "metadata": {},
     "output_type": "execute_result"
    }
   ],
   "source": [
    "np.linspace(0.05, 0.95, 19)"
   ]
  },
  {
   "cell_type": "code",
   "execution_count": 5,
   "id": "a1076358-edbb-480b-a27f-119b47d867f3",
   "metadata": {},
   "outputs": [
    {
     "data": {
      "text/plain": [
       "array([  1,   1,   1,   2,   2,   2,   3,   3,   4,   5,   6,   8,  11,  16,  24,  41,  79, 201, 990])"
      ]
     },
     "execution_count": 5,
     "metadata": {},
     "output_type": "execute_result"
    }
   ],
   "source": [
    "(10 ** -np.log(1. - np.linspace(0.05, 0.95, 19))).round().astype(int)"
   ]
  },
  {
   "cell_type": "code",
   "execution_count": 6,
   "id": "d48ecd93-1eac-4c94-95ff-5eb8dbe054e6",
   "metadata": {},
   "outputs": [
    {
     "data": {
      "text/plain": [
       "(1, (19,))"
      ]
     },
     "execution_count": 6,
     "metadata": {},
     "output_type": "execute_result"
    }
   ],
   "source": [
    "_.ndim, _.shape"
   ]
  },
  {
   "cell_type": "code",
   "execution_count": 7,
   "id": "a52af1e0-cddf-4256-9d4d-c9ba57c5ea8f",
   "metadata": {},
   "outputs": [
    {
     "data": {
      "text/plain": [
       "array([[  1,   2,   3,   4,   5,   6,   7,   8,   9,  10],\n",
       "       [  2,   4,   6,   8,  10,  12,  14,  16,  18,  20],\n",
       "       [  3,   6,   9,  12,  15,  18,  21,  24,  27,  30],\n",
       "       [  4,   8,  12,  16,  20,  24,  28,  32,  36,  40],\n",
       "       [  5,  10,  15,  20,  25,  30,  35,  40,  45,  50],\n",
       "       [  6,  12,  18,  24,  30,  36,  42,  48,  54,  60],\n",
       "       [  7,  14,  21,  28,  35,  42,  49,  56,  63,  70],\n",
       "       [  8,  16,  24,  32,  40,  48,  56,  64,  72,  80],\n",
       "       [  9,  18,  27,  36,  45,  54,  63,  72,  81,  90],\n",
       "       [ 10,  20,  30,  40,  50,  60,  70,  80,  90, 100]])"
      ]
     },
     "execution_count": 7,
     "metadata": {},
     "output_type": "execute_result"
    }
   ],
   "source": [
    "np.arange(1, 11).reshape(10, 1) @ np.arange(1, 11).reshape(1, 10)"
   ]
  },
  {
   "cell_type": "code",
   "execution_count": 8,
   "id": "b915fe25-2c53-4d1d-af1f-e37667359015",
   "metadata": {},
   "outputs": [
    {
     "data": {
      "text/plain": [
       "array([[ 1],\n",
       "       [ 2],\n",
       "       [ 3],\n",
       "       [ 4],\n",
       "       [ 5],\n",
       "       [ 6],\n",
       "       [ 7],\n",
       "       [ 8],\n",
       "       [ 9],\n",
       "       [10]])"
      ]
     },
     "execution_count": 8,
     "metadata": {},
     "output_type": "execute_result"
    }
   ],
   "source": [
    "np.arange(1, 11).reshape(10, 1)"
   ]
  },
  {
   "cell_type": "code",
   "execution_count": 9,
   "id": "c84640a0-c238-4df6-8a07-9b4d8f2ef408",
   "metadata": {},
   "outputs": [
    {
     "data": {
      "text/plain": [
       "(2, (10, 1))"
      ]
     },
     "execution_count": 9,
     "metadata": {},
     "output_type": "execute_result"
    }
   ],
   "source": [
    "_.ndim, _.shape"
   ]
  },
  {
   "cell_type": "code",
   "execution_count": 10,
   "id": "485495f0-95e9-499e-b0ad-3c9949f9a764",
   "metadata": {},
   "outputs": [
    {
     "data": {
      "text/plain": [
       "array([[   3],\n",
       "       [   4],\n",
       "       [   5],\n",
       "       [   6],\n",
       "       [   7],\n",
       "       [   8],\n",
       "       [  10],\n",
       "       [  13],\n",
       "       [  17],\n",
       "       [  22],\n",
       "       [  30],\n",
       "       [  41],\n",
       "       [  58],\n",
       "       [  88],\n",
       "       [ 140],\n",
       "       [ 246],\n",
       "       [ 502],\n",
       "       [1342],\n",
       "       [6960]])"
      ]
     },
     "execution_count": 10,
     "metadata": {},
     "output_type": "execute_result"
    }
   ],
   "source": [
    "F = np.linspace(0.05, 0.95, 19)\n",
    "(\n",
    "    10 ** (\n",
    "        -np.log(\n",
    "            1. - F\n",
    "        )\n",
    "    ) * np.e ** (1. + F)\n",
    ").round().astype(int).reshape(19, 1)"
   ]
  },
  {
   "cell_type": "code",
   "execution_count": 11,
   "id": "f89d8d06-3204-4172-97af-ddb1f7be25fb",
   "metadata": {},
   "outputs": [
    {
     "data": {
      "text/plain": [
       "(2, (19, 1))"
      ]
     },
     "execution_count": 11,
     "metadata": {},
     "output_type": "execute_result"
    }
   ],
   "source": [
    "_.ndim, _.shape"
   ]
  },
  {
   "cell_type": "code",
   "execution_count": 12,
   "id": "678e5129-e80b-413d-bc5b-6490e49ef963",
   "metadata": {},
   "outputs": [
    {
     "data": {
      "text/plain": [
       "array([[    3,     4,     5,     6,     7,     8,    10,    13,    17,    22,    30,    41,    58,    88,   140,   246,   502,  1342,  6960],\n",
       "       [    6,     8,    10,    12,    14,    16,    20,    26,    34,    44,    60,    82,   116,   176,   280,   492,  1004,  2684, 13920],\n",
       "       [    9,    12,    15,    18,    21,    24,    30,    39,    51,    66,    90,   123,   174,   264,   420,   738,  1506,  4026, 20880],\n",
       "       [   12,    16,    20,    24,    28,    32,    40,    52,    68,    88,   120,   164,   232,   352,   560,   984,  2008,  5368, 27840],\n",
       "       [   15,    20,    25,    30,    35,    40,    50,    65,    85,   110,   150,   205,   290,   440,   700,  1230,  2510,  6710, 34800],\n",
       "       [   18,    24,    30,    36,    42,    48,    60,    78,   102,   132,   180,   246,   348,   528,   840,  1476,  3012,  8052, 41760],\n",
       "       [   21,    28,    35,    42,    49,    56,    70,    91,   119,   154,   210,   287,   406,   616,   980,  1722,  3514,  9394, 48720],\n",
       "       [   24,    32,    40,    48,    56,    64,    80,   104,   136,   176,   240,   328,   464,   704,  1120,  1968,  4016, 10736, 55680],\n",
       "       [   27,    36,    45,    54,    63,    72,    90,   117,   153,   198,   270,   369,   522,   792,  1260,  2214,  4518, 12078, 62640],\n",
       "       [   30,    40,    50,    60,    70,    80,   100,   130,   170,   220,   300,   410,   580,   880,  1400,  2460,  5020, 13420, 69600]])"
      ]
     },
     "execution_count": 12,
     "metadata": {},
     "output_type": "execute_result"
    }
   ],
   "source": [
    "np.arange(1, 11).reshape(10, 1) @ (\n",
    "    10 ** -np.log(\n",
    "        1. - F\n",
    "    ) * np.e ** (1. + F)\n",
    ").round().astype(int).reshape(1, 19)"
   ]
  },
  {
   "cell_type": "code",
   "execution_count": 13,
   "id": "7382f629-fb0a-4596-be0b-0a92be899fc1",
   "metadata": {},
   "outputs": [],
   "source": [
    "from ccDGLevels import Catacombs"
   ]
  },
  {
   "cell_type": "code",
   "execution_count": 14,
   "id": "303b8c38-a62a-4747-b2f6-15d493147062",
   "metadata": {},
   "outputs": [],
   "source": [
    "from matplotlib import pyplot as plot"
   ]
  },
  {
   "cell_type": "code",
   "execution_count": 18,
   "id": "d6fef00d-cb7a-443e-aea0-b3c10406bd44",
   "metadata": {},
   "outputs": [
    {
     "data": {
      "text/plain": [
       "A 100 wide by 60 tall dungeon,\n",
       "with 8 rooms of about 08% average area each,\n",
       "or of average dimension 28 wide by 16 tall,\n",
       "with an average of 2 hallways out of each room;\n",
       "Rooms are padded by at least 3 East-West & 3 North-South,\n",
       "and have a length variance of +/-12 wide and +/- 2 tall."
      ]
     },
     "execution_count": 18,
     "metadata": {},
     "output_type": "execute_result"
    }
   ],
   "source": [
    "d1 = Catacombs(100, 60, 8, 2, 0.08, 12, 2, 3, 3)\n",
    "d1"
   ]
  },
  {
   "cell_type": "code",
   "execution_count": 19,
   "id": "49c14abb-6fe6-4a22-9379-bbfe7623fd06",
   "metadata": {},
   "outputs": [
    {
     "name": "stdout",
     "output_type": "stream",
     "text": [
      "[-4  0] (24, 16) (9, 42)\n",
      "A   24 by   16 Rectangle cornered at (   9,   42).\n",
      "A   30 by   22 Rectangle cornered at (   6,   39).\n",
      "\n",
      "[-6  0] (22, 16) (57, 2)\n",
      "A   22 by   16 Rectangle cornered at (  57,    2).\n",
      "A   28 by   22 Rectangle cornered at (  54,    0).\n",
      "\n",
      "[-9  1] (19, 17) (74, 41)\n",
      "A   19 by   17 Rectangle cornered at (  74,   41).\n",
      "A   25 by   23 Rectangle cornered at (  71,   38).\n",
      "\n",
      "[6 1] (34, 17) (3, 17)\n",
      "A   34 by   17 Rectangle cornered at (   3,   17).\n",
      "A   40 by   23 Rectangle cornered at (   0,   14).\n",
      "\n",
      "[-11   2] (17, 18) (45, 21)\n",
      "A   17 by   18 Rectangle cornered at (  45,   21).\n",
      "A   23 by   24 Rectangle cornered at (  42,   18).\n",
      "\n",
      "[-9 -1] (19, 15) (67, 23)\n",
      "A   19 by   15 Rectangle cornered at (  67,   23).\n",
      "A   25 by   21 Rectangle cornered at (  64,   20).\n",
      "\n",
      "[-6  0] (22, 16) (37, 43)\n",
      "A   22 by   16 Rectangle cornered at (  37,   43).\n",
      "A   28 by   22 Rectangle cornered at (  34,   40).\n",
      "\n",
      "Warning: maximum room generation attempts reached.\n",
      "Your dungeon will only have 7 rooms\n",
      "Attemped room generations 3902 times.\n"
     ]
    },
    {
     "data": {
      "image/png": "[encoded data removed]",
      "text/plain": [
       "<Figure size 640x480 with 1 Axes>"
      ]
     },
     "metadata": {},
     "output_type": "display_data"
    },
    {
     "name": "stdout",
     "output_type": "stream",
     "text": [
      "[-4 -1] (24, 15) (37, 29)\n",
      "A   24 by   15 Rectangle cornered at (  37,   29).\n",
      "A   30 by   21 Rectangle cornered at (  34,   26).\n",
      "\n",
      "[-8  0] (20, 16) (68, 29)\n",
      "A   20 by   16 Rectangle cornered at (  68,   29).\n",
      "A   26 by   22 Rectangle cornered at (  65,   26).\n",
      "\n",
      "[12  2] (40, 18) (15, 4)\n",
      "A   40 by   18 Rectangle cornered at (  15,    4).\n",
      "A   46 by   24 Rectangle cornered at (  12,    1).\n",
      "\n",
      "[-7  1] (21, 17) (64, 5)\n",
      "A   21 by   17 Rectangle cornered at (  64,    5).\n",
      "A   27 by   23 Rectangle cornered at (  61,    2).\n",
      "\n",
      "[-3  0] (25, 16) (4, 28)\n",
      "A   25 by   16 Rectangle cornered at (   4,   28).\n",
      "A   31 by   22 Rectangle cornered at (   1,   25).\n",
      "\n",
      "Warning: maximum room generation attempts reached.\n",
      "Your dungeon will only have 5 rooms\n",
      "Attemped room generations 3902 times.\n"
     ]
    },
    {
     "data": {
      "image/png": "[encoded data removed]",
      "text/plain": [
       "<Figure size 640x480 with 1 Axes>"
      ]
     },
     "metadata": {},
     "output_type": "display_data"
    },
    {
     "name": "stdout",
     "output_type": "stream",
     "text": [
      "[11  1] (39, 17) (28, 34)\n",
      "A   39 by   17 Rectangle cornered at (  28,   34).\n",
      "A   45 by   23 Rectangle cornered at (  25,   31).\n",
      "\n",
      "[11 -2] (39, 14) (2, 5)\n",
      "A   39 by   14 Rectangle cornered at (   2,    5).\n",
      "A   45 by   20 Rectangle cornered at (   0,    2).\n",
      "\n",
      "[-1 -2] (27, 14) (60, 12)\n",
      "A   27 by   14 Rectangle cornered at (  60,   12).\n",
      "A   33 by   20 Rectangle cornered at (  57,    9).\n",
      "\n",
      "[-6  2] (22, 18) (71, 34)\n",
      "A   22 by   18 Rectangle cornered at (  71,   34).\n",
      "A   28 by   24 Rectangle cornered at (  68,   31).\n",
      "\n",
      "[-11   1] (17, 17) (5, 24)\n",
      "A   17 by   17 Rectangle cornered at (   5,   24).\n",
      "A   23 by   23 Rectangle cornered at (   2,   21).\n",
      "\n",
      "Warning: maximum room generation attempts reached.\n",
      "Your dungeon will only have 5 rooms\n",
      "Attemped room generations 3902 times.\n"
     ]
    },
    {
     "data": {
      "image/png": "[encoded data removed]",
      "text/plain": [
       "<Figure size 640x480 with 1 Axes>"
      ]
     },
     "metadata": {},
     "output_type": "display_data"
    },
    {
     "name": "stdout",
     "output_type": "stream",
     "text": [
      "[ 3 -2] (31, 14) (53, 27)\n",
      "A   31 by   14 Rectangle cornered at (  53,   27).\n",
      "A   37 by   20 Rectangle cornered at (  50,   24).\n",
      "\n",
      "[-5 -1] (23, 15) (10, 27)\n",
      "A   23 by   15 Rectangle cornered at (  10,   27).\n",
      "A   29 by   21 Rectangle cornered at (   7,   24).\n",
      "\n",
      "[ 0 -2] (28, 14) (0, 0)\n",
      "A   28 by   14 Rectangle cornered at (   0,    0).\n",
      "A   34 by   20 Rectangle cornered at (   0,    0).\n",
      "\n",
      "[-7  2] (21, 18) (42, 1)\n",
      "A   21 by   18 Rectangle cornered at (  42,    1).\n",
      "A   27 by   24 Rectangle cornered at (  39,    0).\n",
      "\n",
      "[-10   2] (18, 18) (74, 4)\n",
      "A   18 by   18 Rectangle cornered at (  74,    4).\n",
      "A   24 by   24 Rectangle cornered at (  71,    1).\n",
      "\n",
      "[-6 -2] (22, 14) (30, 45)\n",
      "A   22 by   14 Rectangle cornered at (  30,   45).\n",
      "A   28 by   20 Rectangle cornered at (  27,   42).\n",
      "\n",
      "[-2 -2] (26, 14) (59, 44)\n",
      "A   26 by   14 Rectangle cornered at (  59,   44).\n",
      "A   32 by   20 Rectangle cornered at (  56,   41).\n",
      "\n",
      "Warning: maximum room generation attempts reached.\n",
      "Your dungeon will only have 7 rooms\n",
      "Attemped room generations 3902 times.\n"
     ]
    },
    {
     "data": {
      "image/png": "[encoded data removed]",
      "text/plain": [
       "<Figure size 640x480 with 1 Axes>"
      ]
     },
     "metadata": {},
     "output_type": "display_data"
    },
    {
     "name": "stdout",
     "output_type": "stream",
     "text": [
      "[ 6 -2] (34, 14) (21, 25)\n",
      "A   34 by   14 Rectangle cornered at (  21,   25).\n",
      "A   40 by   20 Rectangle cornered at (  18,   22).\n",
      "\n",
      "[8 1] (36, 17) (15, 3)\n",
      "A   36 by   17 Rectangle cornered at (  15,    3).\n",
      "A   42 by   23 Rectangle cornered at (  12,    0).\n",
      "\n",
      "[-2 -1] (26, 15) (67, 29)\n",
      "A   26 by   15 Rectangle cornered at (  67,   29).\n",
      "A   32 by   21 Rectangle cornered at (  64,   26).\n",
      "\n",
      "[-1 -2] (27, 14) (13, 42)\n",
      "A   27 by   14 Rectangle cornered at (  13,   42).\n",
      "A   33 by   20 Rectangle cornered at (  10,   39).\n",
      "\n",
      "[11  2] (39, 18) (60, 5)\n",
      "A   39 by   18 Rectangle cornered at (  60,    5).\n",
      "A   45 by   24 Rectangle cornered at (  57,    2).\n",
      "\n",
      "[-12  -1] (16, 15) (46, 43)\n",
      "A   16 by   15 Rectangle cornered at (  46,   43).\n",
      "A   22 by   21 Rectangle cornered at (  43,   40).\n",
      "\n",
      "Warning: maximum room generation attempts reached.\n",
      "Your dungeon will only have 6 rooms\n",
      "Attemped room generations 3902 times.\n"
     ]
    },
    {
     "data": {
      "image/png": "[encoded data removed]",
      "text/plain": [
       "<Figure size 640x480 with 1 Axes>"
      ]
     },
     "metadata": {},
     "output_type": "display_data"
    },
    {
     "name": "stdout",
     "output_type": "stream",
     "text": [
      "[3 0] (31, 16) (53, 6)\n",
      "A   31 by   16 Rectangle cornered at (  53,    6).\n",
      "A   37 by   22 Rectangle cornered at (  50,    3).\n",
      "\n",
      "[3 2] (31, 18) (13, 12)\n",
      "A   31 by   18 Rectangle cornered at (  13,   12).\n",
      "A   37 by   24 Rectangle cornered at (  10,    9).\n",
      "\n",
      "[-6 -2] (22, 14) (9, 45)\n",
      "A   22 by   14 Rectangle cornered at (   9,   45).\n",
      "A   28 by   20 Rectangle cornered at (   6,   42).\n",
      "\n",
      "[7 0] (35, 16) (55, 25)\n",
      "A   35 by   16 Rectangle cornered at (  55,   25).\n",
      "A   41 by   22 Rectangle cornered at (  52,   22).\n",
      "\n",
      "[-8 -2] (20, 14) (51, 45)\n",
      "A   20 by   14 Rectangle cornered at (  51,   45).\n",
      "A   26 by   20 Rectangle cornered at (  48,   42).\n",
      "\n",
      "[-4 -2] (24, 14) (75, 44)\n",
      "A   24 by   14 Rectangle cornered at (  75,   44).\n",
      "A   30 by   20 Rectangle cornered at (  72,   41).\n",
      "\n",
      "Warning: maximum room generation attempts reached.\n",
      "Your dungeon will only have 6 rooms\n",
      "Attemped room generations 3902 times.\n"
     ]
    },
    {
     "data": {
      "image/png": "[encoded data removed]",
      "text/plain": [
       "<Figure size 640x480 with 1 Axes>"
      ]
     },
     "metadata": {},
     "output_type": "display_data"
    },
    {
     "name": "stdout",
     "output_type": "stream",
     "text": [
      "[12 -2] (40, 14) (4, 7)\n",
      "A   40 by   14 Rectangle cornered at (   4,    7).\n",
      "A   46 by   20 Rectangle cornered at (   1,    4).\n",
      "\n",
      "[-11  -1] (17, 15) (36, 36)\n",
      "A   17 by   15 Rectangle cornered at (  36,   36).\n",
      "A   23 by   21 Rectangle cornered at (  33,   33).\n",
      "\n",
      "[-6 -1] (22, 15) (75, 15)\n",
      "A   22 by   15 Rectangle cornered at (  75,   15).\n",
      "A   28 by   21 Rectangle cornered at (  72,   12).\n",
      "\n",
      "[-10   2] (18, 18) (65, 36)\n",
      "A   18 by   18 Rectangle cornered at (  65,   36).\n",
      "A   24 by   24 Rectangle cornered at (  62,   33).\n",
      "\n",
      "[-2  1] (26, 17) (1, 32)\n",
      "A   26 by   17 Rectangle cornered at (   1,   32).\n",
      "A   32 by   23 Rectangle cornered at (   0,   29).\n",
      "\n",
      "[-6  1] (22, 17) (50, 9)\n",
      "A   22 by   17 Rectangle cornered at (  50,    9).\n",
      "A   28 by   23 Rectangle cornered at (  47,    6).\n",
      "\n",
      "Warning: maximum room generation attempts reached.\n",
      "Your dungeon will only have 6 rooms\n",
      "Attemped room generations 3902 times.\n"
     ]
    },
    {
     "data": {
      "image/png": "[encoded data removed]",
      "text/plain": [
       "<Figure size 640x480 with 1 Axes>"
      ]
     },
     "metadata": {},
     "output_type": "display_data"
    },
    {
     "name": "stdout",
     "output_type": "stream",
     "text": [
      "[2 0] (30, 16) (42, 25)\n",
      "A   30 by   16 Rectangle cornered at (  42,   25).\n",
      "A   36 by   22 Rectangle cornered at (  39,   22).\n",
      "\n",
      "[-8 -1] (20, 15) (2, 10)\n",
      "A   20 by   15 Rectangle cornered at (   2,   10).\n",
      "A   26 by   21 Rectangle cornered at (   0,    7).\n",
      "\n",
      "[ 6 -2] (34, 14) (42, 44)\n",
      "A   34 by   14 Rectangle cornered at (  42,   44).\n",
      "A   40 by   20 Rectangle cornered at (  39,   41).\n",
      "\n",
      "[-7  2] (21, 18) (31, 4)\n",
      "A   21 by   18 Rectangle cornered at (  31,    4).\n",
      "A   27 by   24 Rectangle cornered at (  28,    1).\n",
      "\n",
      "[-11   0] (17, 16) (73, 6)\n",
      "A   17 by   16 Rectangle cornered at (  73,    6).\n",
      "A   23 by   22 Rectangle cornered at (  70,    3).\n",
      "\n",
      "[-3 -1] (25, 15) (13, 42)\n",
      "A   25 by   15 Rectangle cornered at (  13,   42).\n",
      "A   31 by   21 Rectangle cornered at (  10,   39).\n",
      "\n",
      "[-12   0] (16, 16) (79, 39)\n",
      "A   16 by   16 Rectangle cornered at (  79,   39).\n",
      "A   22 by   22 Rectangle cornered at (  76,   36).\n",
      "\n",
      "Warning: maximum room generation attempts reached.\n",
      "Your dungeon will only have 7 rooms\n",
      "Attemped room generations 3902 times.\n"
     ]
    },
    {
     "data": {
      "image/png": "[encoded data removed]",
      "text/plain": [
       "<Figure size 640x480 with 1 Axes>"
      ]
     },
     "metadata": {},
     "output_type": "display_data"
    },
    {
     "name": "stdout",
     "output_type": "stream",
     "text": [
      "[-7  2] (21, 18) (36, 6)\n",
      "A   21 by   18 Rectangle cornered at (  36,    6).\n",
      "A   27 by   24 Rectangle cornered at (  33,    3).\n",
      "\n",
      "[12  1] (40, 17) (28, 27)\n",
      "A   40 by   17 Rectangle cornered at (  28,   27).\n",
      "A   46 by   23 Rectangle cornered at (  25,   24).\n",
      "\n",
      "[ 0 -1] (28, 15) (60, 7)\n",
      "A   28 by   15 Rectangle cornered at (  60,    7).\n",
      "A   34 by   21 Rectangle cornered at (  57,    4).\n",
      "\n",
      "[-9  1] (19, 17) (78, 42)\n",
      "A   19 by   17 Rectangle cornered at (  78,   42).\n",
      "A   25 by   23 Rectangle cornered at (  75,   39).\n",
      "\n",
      "[-12   1] (16, 17) (9, 12)\n",
      "A   16 by   17 Rectangle cornered at (   9,   12).\n",
      "A   22 by   23 Rectangle cornered at (   6,    9).\n",
      "\n",
      "[-12   1] (16, 17) (2, 38)\n",
      "A   16 by   17 Rectangle cornered at (   2,   38).\n",
      "A   22 by   23 Rectangle cornered at (   0,   35).\n",
      "\n",
      "Warning: maximum room generation attempts reached.\n",
      "Your dungeon will only have 6 rooms\n",
      "Attemped room generations 3902 times.\n"
     ]
    },
    {
     "data": {
      "image/png": "[encoded data removed]",
      "text/plain": [
       "<Figure size 640x480 with 1 Axes>"
      ]
     },
     "metadata": {},
     "output_type": "display_data"
    },
    {
     "name": "stdout",
     "output_type": "stream",
     "text": [
      "[-12   0] (16, 16) (43, 24)\n",
      "A   16 by   16 Rectangle cornered at (  43,   24).\n",
      "A   22 by   22 Rectangle cornered at (  40,   21).\n",
      "\n",
      "[ 3 -2] (31, 14) (62, 8)\n",
      "A   31 by   14 Rectangle cornered at (  62,    8).\n",
      "A   37 by   20 Rectangle cornered at (  59,    5).\n",
      "\n",
      "[-10  -1] (18, 15) (20, 41)\n",
      "A   18 by   15 Rectangle cornered at (  20,   41).\n",
      "A   24 by   21 Rectangle cornered at (  17,   38).\n",
      "\n",
      "[-8 -2] (20, 14) (76, 45)\n",
      "A   20 by   14 Rectangle cornered at (  76,   45).\n",
      "A   26 by   20 Rectangle cornered at (  73,   42).\n",
      "\n",
      "[-10  -2] (18, 14) (41, 3)\n",
      "A   18 by   14 Rectangle cornered at (  41,    3).\n",
      "A   24 by   20 Rectangle cornered at (  38,    0).\n",
      "\n",
      "[-10  -2] (18, 14) (64, 27)\n",
      "A   18 by   14 Rectangle cornered at (  64,   27).\n",
      "A   24 by   20 Rectangle cornered at (  61,   24).\n",
      "\n",
      "[-7  2] (21, 18) (4, 8)\n",
      "A   21 by   18 Rectangle cornered at (   4,    8).\n",
      "A   27 by   24 Rectangle cornered at (   1,    5).\n",
      "\n",
      "[-2 -2] (26, 14) (42, 44)\n",
      "A   26 by   14 Rectangle cornered at (  42,   44).\n",
      "A   32 by   20 Rectangle cornered at (  39,   41).\n",
      "\n",
      "Attemped room generations 763 times.\n"
     ]
    },
    {
     "data": {
      "image/png": "[encoded data removed]",
      "text/plain": [
       "<Figure size 640x480 with 1 Axes>"
      ]
     },
     "metadata": {},
     "output_type": "display_data"
    }
   ],
   "source": [
    "for i in range(10):\n",
    "    d1.genRooms(reset = True)\n",
    "    plot.imshow(d1.draw())\n",
    "    plot.show()"
   ]
  },
  {
   "cell_type": "code",
   "execution_count": null,
   "id": "ba92773c-2acb-4c68-bdc3-0240c1d4c18d",
   "metadata": {},
   "outputs": [],
   "source": []
  }
 ],
 "metadata": {
  "kernelspec": {
   "display_name": "Python 3 (ipykernel)",
   "language": "python",
   "name": "python3"
  },
  "language_info": {
   "codemirror_mode": {
    "name": "ipython",
    "version": 3
   },
   "file_extension": ".py",
   "mimetype": "text/x-python",
   "name": "python",
   "nbconvert_exporter": "python",
   "pygments_lexer": "ipython3",
   "version": "3.10.8"
  }
 },
 "nbformat": 4,
 "nbformat_minor": 5
}
