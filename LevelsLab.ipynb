{
 "cells": [
  {
   "cell_type": "code",
   "execution_count": 1,
   "id": "37145b59-524e-45d9-89a7-78fc484e014c",
   "metadata": {},
   "outputs": [],
   "source": [
    "import numpy as np\n",
    "np.set_printoptions(linewidth = 144)"
   ]
  },
  {
   "cell_type": "code",
   "execution_count": 2,
   "id": "09dedc60-2bcb-4e53-80e9-8cb85326155b",
   "metadata": {},
   "outputs": [
    {
     "data": {
      "text/plain": [
       "array([ 1,  2,  3,  4,  5,  6,  7,  8,  9, 10])"
      ]
     },
     "execution_count": 2,
     "metadata": {},
     "output_type": "execute_result"
    }
   ],
   "source": [
    "np.arange(1,11)"
   ]
  },
  {
   "cell_type": "code",
   "execution_count": 3,
   "id": "5fd09568-1911-4148-acfb-1968609c41d1",
   "metadata": {},
   "outputs": [
    {
     "data": {
      "text/plain": [
       "(1, (10,))"
      ]
     },
     "execution_count": 3,
     "metadata": {},
     "output_type": "execute_result"
    }
   ],
   "source": [
    "_.ndim, _.shape"
   ]
  },
  {
   "cell_type": "code",
   "execution_count": 4,
   "id": "8a706c2b-fc3d-4b96-aa0d-92aeb20673a8",
   "metadata": {},
   "outputs": [
    {
     "data": {
      "text/plain": [
       "array([0.05, 0.1 , 0.15, 0.2 , 0.25, 0.3 , 0.35, 0.4 , 0.45, 0.5 , 0.55, 0.6 , 0.65, 0.7 , 0.75, 0.8 , 0.85, 0.9 , 0.95])"
      ]
     },
     "execution_count": 4,
     "metadata": {},
     "output_type": "execute_result"
    }
   ],
   "source": [
    "np.linspace(0.05, 0.95, 19)"
   ]
  },
  {
   "cell_type": "code",
   "execution_count": 5,
   "id": "a1076358-edbb-480b-a27f-119b47d867f3",
   "metadata": {},
   "outputs": [
    {
     "data": {
      "text/plain": [
       "array([  1,   1,   1,   2,   2,   2,   3,   3,   4,   5,   6,   8,  11,  16,  24,  41,  79, 201, 990])"
      ]
     },
     "execution_count": 5,
     "metadata": {},
     "output_type": "execute_result"
    }
   ],
   "source": [
    "(10 ** -np.log(1. - np.linspace(0.05, 0.95, 19))).round().astype(int)"
   ]
  },
  {
   "cell_type": "code",
   "execution_count": 6,
   "id": "d48ecd93-1eac-4c94-95ff-5eb8dbe054e6",
   "metadata": {},
   "outputs": [
    {
     "data": {
      "text/plain": [
       "(1, (19,))"
      ]
     },
     "execution_count": 6,
     "metadata": {},
     "output_type": "execute_result"
    }
   ],
   "source": [
    "_.ndim, _.shape"
   ]
  },
  {
   "cell_type": "code",
   "execution_count": 7,
   "id": "a52af1e0-cddf-4256-9d4d-c9ba57c5ea8f",
   "metadata": {},
   "outputs": [
    {
     "data": {
      "text/plain": [
       "array([[  1,   2,   3,   4,   5,   6,   7,   8,   9,  10],\n",
       "       [  2,   4,   6,   8,  10,  12,  14,  16,  18,  20],\n",
       "       [  3,   6,   9,  12,  15,  18,  21,  24,  27,  30],\n",
       "       [  4,   8,  12,  16,  20,  24,  28,  32,  36,  40],\n",
       "       [  5,  10,  15,  20,  25,  30,  35,  40,  45,  50],\n",
       "       [  6,  12,  18,  24,  30,  36,  42,  48,  54,  60],\n",
       "       [  7,  14,  21,  28,  35,  42,  49,  56,  63,  70],\n",
       "       [  8,  16,  24,  32,  40,  48,  56,  64,  72,  80],\n",
       "       [  9,  18,  27,  36,  45,  54,  63,  72,  81,  90],\n",
       "       [ 10,  20,  30,  40,  50,  60,  70,  80,  90, 100]])"
      ]
     },
     "execution_count": 7,
     "metadata": {},
     "output_type": "execute_result"
    }
   ],
   "source": [
    "np.arange(1, 11).reshape(10, 1) @ np.arange(1, 11).reshape(1, 10)"
   ]
  },
  {
   "cell_type": "code",
   "execution_count": 8,
   "id": "b915fe25-2c53-4d1d-af1f-e37667359015",
   "metadata": {},
   "outputs": [
    {
     "data": {
      "text/plain": [
       "array([[ 1],\n",
       "       [ 2],\n",
       "       [ 3],\n",
       "       [ 4],\n",
       "       [ 5],\n",
       "       [ 6],\n",
       "       [ 7],\n",
       "       [ 8],\n",
       "       [ 9],\n",
       "       [10]])"
      ]
     },
     "execution_count": 8,
     "metadata": {},
     "output_type": "execute_result"
    }
   ],
   "source": [
    "np.arange(1, 11).reshape(10, 1)"
   ]
  },
  {
   "cell_type": "code",
   "execution_count": 9,
   "id": "c84640a0-c238-4df6-8a07-9b4d8f2ef408",
   "metadata": {},
   "outputs": [
    {
     "data": {
      "text/plain": [
       "(2, (10, 1))"
      ]
     },
     "execution_count": 9,
     "metadata": {},
     "output_type": "execute_result"
    }
   ],
   "source": [
    "_.ndim, _.shape"
   ]
  },
  {
   "cell_type": "code",
   "execution_count": 10,
   "id": "485495f0-95e9-499e-b0ad-3c9949f9a764",
   "metadata": {},
   "outputs": [
    {
     "data": {
      "text/plain": [
       "array([[   3],\n",
       "       [   4],\n",
       "       [   5],\n",
       "       [   6],\n",
       "       [   7],\n",
       "       [   8],\n",
       "       [  10],\n",
       "       [  13],\n",
       "       [  17],\n",
       "       [  22],\n",
       "       [  30],\n",
       "       [  41],\n",
       "       [  58],\n",
       "       [  88],\n",
       "       [ 140],\n",
       "       [ 246],\n",
       "       [ 502],\n",
       "       [1342],\n",
       "       [6960]])"
      ]
     },
     "execution_count": 10,
     "metadata": {},
     "output_type": "execute_result"
    }
   ],
   "source": [
    "F = np.linspace(0.05, 0.95, 19)\n",
    "(\n",
    "    10 ** (\n",
    "        -np.log(\n",
    "            1. - F\n",
    "        )\n",
    "    ) * np.e ** (1. + F)\n",
    ").round().astype(int).reshape(19, 1)"
   ]
  },
  {
   "cell_type": "code",
   "execution_count": 11,
   "id": "f89d8d06-3204-4172-97af-ddb1f7be25fb",
   "metadata": {},
   "outputs": [
    {
     "data": {
      "text/plain": [
       "(2, (19, 1))"
      ]
     },
     "execution_count": 11,
     "metadata": {},
     "output_type": "execute_result"
    }
   ],
   "source": [
    "_.ndim, _.shape"
   ]
  },
  {
   "cell_type": "code",
   "execution_count": 12,
   "id": "678e5129-e80b-413d-bc5b-6490e49ef963",
   "metadata": {},
   "outputs": [
    {
     "data": {
      "text/plain": [
       "array([[    3,     4,     5,     6,     7,     8,    10,    13,    17,    22,    30,    41,    58,    88,   140,   246,   502,  1342,  6960],\n",
       "       [    6,     8,    10,    12,    14,    16,    20,    26,    34,    44,    60,    82,   116,   176,   280,   492,  1004,  2684, 13920],\n",
       "       [    9,    12,    15,    18,    21,    24,    30,    39,    51,    66,    90,   123,   174,   264,   420,   738,  1506,  4026, 20880],\n",
       "       [   12,    16,    20,    24,    28,    32,    40,    52,    68,    88,   120,   164,   232,   352,   560,   984,  2008,  5368, 27840],\n",
       "       [   15,    20,    25,    30,    35,    40,    50,    65,    85,   110,   150,   205,   290,   440,   700,  1230,  2510,  6710, 34800],\n",
       "       [   18,    24,    30,    36,    42,    48,    60,    78,   102,   132,   180,   246,   348,   528,   840,  1476,  3012,  8052, 41760],\n",
       "       [   21,    28,    35,    42,    49,    56,    70,    91,   119,   154,   210,   287,   406,   616,   980,  1722,  3514,  9394, 48720],\n",
       "       [   24,    32,    40,    48,    56,    64,    80,   104,   136,   176,   240,   328,   464,   704,  1120,  1968,  4016, 10736, 55680],\n",
       "       [   27,    36,    45,    54,    63,    72,    90,   117,   153,   198,   270,   369,   522,   792,  1260,  2214,  4518, 12078, 62640],\n",
       "       [   30,    40,    50,    60,    70,    80,   100,   130,   170,   220,   300,   410,   580,   880,  1400,  2460,  5020, 13420, 69600]])"
      ]
     },
     "execution_count": 12,
     "metadata": {},
     "output_type": "execute_result"
    }
   ],
   "source": [
    "np.arange(1, 11).reshape(10, 1) @ (\n",
    "    10 ** -np.log(\n",
    "        1. - F\n",
    "    ) * np.e ** (1. + F)\n",
    ").round().astype(int).reshape(1, 19)"
   ]
  },
  {
   "cell_type": "code",
   "execution_count": 13,
   "id": "7382f629-fb0a-4596-be0b-0a92be899fc1",
   "metadata": {},
   "outputs": [],
   "source": [
    "from ccDGLevels import Catacombs"
   ]
  },
  {
   "cell_type": "code",
   "execution_count": 22,
   "id": "303b8c38-a62a-4747-b2f6-15d493147062",
   "metadata": {},
   "outputs": [],
   "source": [
    "from matplotlib import pyplot as plot\n",
    "plot.rcParams[\"figure.figsize\"] = (12, 9)"
   ]
  },
  {
   "cell_type": "code",
   "execution_count": 23,
   "id": "d6fef00d-cb7a-443e-aea0-b3c10406bd44",
   "metadata": {},
   "outputs": [
    {
     "data": {
      "text/plain": [
       "A 100 wide by 60 tall dungeon,\n",
       "with 8 rooms of about 08% average area each,\n",
       "or of average dimension 28 wide by 16 tall,\n",
       "with an average of 3 hallways out of each room;\n",
       "Rooms are padded by at least 3 East-West & 3 North-South,\n",
       "and have a length variance of +/-12 wide and +/- 2 tall."
      ]
     },
     "execution_count": 23,
     "metadata": {},
     "output_type": "execute_result"
    }
   ],
   "source": [
    "d1 = Catacombs(100, 60, 8, 3, 0.08, 12, 2, 3, 3)\n",
    "d1"
   ]
  },
  {
   "cell_type": "code",
   "execution_count": 37,
   "id": "49c14abb-6fe6-4a22-9379-bbfe7623fd06",
   "metadata": {},
   "outputs": [
    {
     "name": "stdout",
     "output_type": "stream",
     "text": [
      "[-1 -1] (27, 15) (51, 24)\n",
      "A   27 by   15 Rectangle cornered at (  51,   24).\n",
      "A   33 by   21 Rectangle cornered at (  48,   21).\n",
      "\n",
      "[2 0] (30, 16) (14, 37)\n",
      "A   30 by   16 Rectangle cornered at (  14,   37).\n",
      "A   36 by   22 Rectangle cornered at (  11,   34).\n",
      "\n",
      "[-5  1] (23, 17) (15, 2)\n",
      "A   23 by   17 Rectangle cornered at (  15,    2).\n",
      "A   29 by   23 Rectangle cornered at (  12,    0).\n",
      "\n",
      "[-2 -2] (26, 14) (66, 43)\n",
      "A   26 by   14 Rectangle cornered at (  66,   43).\n",
      "A   32 by   20 Rectangle cornered at (  63,   40).\n",
      "\n",
      "[-5 -2] (23, 14) (47, 2)\n",
      "A   23 by   14 Rectangle cornered at (  47,    2).\n",
      "A   29 by   20 Rectangle cornered at (  44,    0).\n",
      "\n",
      "[-7 -1] (21, 15) (73, 2)\n",
      "A   21 by   15 Rectangle cornered at (  73,    2).\n",
      "A   27 by   21 Rectangle cornered at (  70,    0).\n",
      "\n",
      "[-11  -1] (17, 15) (82, 20)\n",
      "A   17 by   15 Rectangle cornered at (  82,   20).\n",
      "A   23 by   21 Rectangle cornered at (  79,   17).\n",
      "\n",
      "Warning: maximum room generation attempts reached.\n",
      "Your dungeon will only have 7 rooms\n",
      "Attemped room generations 3902 times.\n",
      "61.699244233993625 118.30075576600638 241.69924423399362 298.3007557660064\n",
      "64.98310652189997 118.07248693585295 240.25511870305778 296.565051177078\n",
      "53.97262661489639 126.0273733851036 233.9726266148964 306.0273733851036\n",
      "65.22485943116808 118.30075576600638 239.74356283647074 296.565051177078\n",
      "61.38954033403478 122.47119229084849 237.52880770915152 298.6104596659652\n",
      "55.007979801441344 124.99202019855866 235.00797980144134 304.99202019855863\n",
      "48.814074834290345 131.18592516570965 228.81407483429035 311.18592516570965\n",
      "[[4, 28], [6, 30], [3, 34], [5, 41], [1, 49], [2, 59]]\n",
      "0 0 4 164.74488129694222 n 25\n",
      "(52, 24) (64, 15) 12 9\n",
      "0 1 6 261.25383773744477 e 13\n",
      "(77, 27) (82, 29) 5 2\n",
      "0 2 3 321.7098368077569 s 25\n",
      "(56, 38) (72, 43) 16 5\n",
      "[[2, 38], [0, 49], [3, 55], [4, 65], [6, 79], [5, 90]]\n",
      "1 0 2 175.10090754621223 n 28\n",
      "(40, 37) (35, 18) 5 19\n",
      "1 1 0 248.19859051364818 e 14\n",
      "(43, 41) (51, 31) 8 10\n",
      "1 2 3 275.71059313749964 e 14\n",
      "(43, 40) (66, 48) 23 8\n",
      "[[4, 33], [1, 38], [5, 58], [0, 59], [6, 81], [3, 93]]\n",
      "2 0 4 268.21008939175397 e 15\n",
      "(37, 17) (47, 13) 10 4\n",
      "2 1 1 355.1009075462122 s 21\n",
      "(32, 18) (32, 37) 0 19\n",
      "[[0, 34], [6, 34], [5, 45], [1, 55], [4, 62], [2, 93]]\n",
      "3 0 0 141.70983680775691 n 24\n",
      "(77, 43) (74, 38) 3 5\n",
      "[[5, 25], [0, 28], [2, 33], [6, 50], [3, 62], [1, 65]]\n",
      "4 0 5 270.0 e 12\n",
      "(69, 7) (73, 6) 4 1\n",
      "[[4, 25], [6, 25], [0, 41], [3, 45], [2, 58], [1, 90]]\n",
      "5 0 4 90.0 w 13\n",
      "(73, 12) (69, 3) 4 9\n",
      "5 1 6 338.74949449286675 s 19\n",
      "(81, 16) (91, 20) 10 4\n",
      "[[5, 25], [0, 30], [3, 34], [4, 50], [1, 79], [2, 81]]\n",
      "6 0 5 158.74949449286675 n 15\n",
      "(95, 20) (86, 16) 9 4\n"
     ]
    },
    {
     "data": {
      "image/png": "[encoded data removed]",
      "text/plain": [
       "<Figure size 1200x900 with 4 Axes>"
      ]
     },
     "metadata": {},
     "output_type": "display_data"
    },
    {
     "name": "stdout",
     "output_type": "stream",
     "text": [
      "[-5  2] (23, 18) (66, 11)\n",
      "A   23 by   18 Rectangle cornered at (  66,   11).\n",
      "A   29 by   24 Rectangle cornered at (  63,    8).\n",
      "\n",
      "[-9  1] (19, 17) (11, 21)\n",
      "A   19 by   17 Rectangle cornered at (  11,   21).\n",
      "A   25 by   23 Rectangle cornered at (   8,   18).\n",
      "\n",
      "[-3 -2] (25, 14) (24, 45)\n",
      "A   25 by   14 Rectangle cornered at (  24,   45).\n",
      "A   31 by   20 Rectangle cornered at (  21,   42).\n",
      "\n",
      "[0 2] (28, 18) (33, 1)\n",
      "A   28 by   18 Rectangle cornered at (  33,    1).\n",
      "A   34 by   24 Rectangle cornered at (  30,    0).\n",
      "\n",
      "[-7 -1] (21, 15) (65, 44)\n",
      "A   21 by   15 Rectangle cornered at (  65,   44).\n",
      "A   27 by   21 Rectangle cornered at (  62,   41).\n",
      "\n",
      "[-12  -2] (16, 14) (35, 23)\n",
      "A   16 by   14 Rectangle cornered at (  35,   23).\n",
      "A   22 by   20 Rectangle cornered at (  32,   20).\n",
      "\n",
      "[-10  -2] (18, 14) (3, 1)\n",
      "A   18 by   14 Rectangle cornered at (   3,    1).\n",
      "A   24 by   20 Rectangle cornered at (   0,    0).\n",
      "\n",
      "Warning: maximum room generation attempts reached.\n",
      "Your dungeon will only have 7 rooms\n",
      "Attemped room generations 3902 times.\n",
      "53.97262661489639 129.28940686250036 230.71059313749967 306.0273733851036\n",
      "48.3664606634298 131.6335393365702 228.36646066342982 311.63353933657015\n",
      "63.43494882292201 120.25643716352926 239.74356283647074 296.565051177078\n",
      "60.255118703057775 122.73522627210761 235.30484646876604 301.6075022462489\n",
      "55.007979801441344 124.99202019855866 235.00797980144134 304.99202019855863\n",
      "53.13010235415598 131.18592516570965 225.0 310.6012946450045\n",
      "56.309932474020215 127.8749836510982 228.81407483429035 306.86989764584405\n",
      "[[4, 33], [3, 40], [5, 44], [1, 66], [2, 73], [6, 77]]\n",
      "0 0 4 3.691385986451266 s 21\n",
      "(71, 28) (83, 44) 12 16\n",
      "0 1 3 108.43494882292201 w 16\n",
      "(66, 17) (60, 4) 6 13\n",
      "0 2 5 73.61045966596521 w 16\n",
      "(66, 14) (50, 35) 16 21\n",
      "[[5, 24], [6, 29], [2, 39], [3, 46], [0, 66], [4, 77]]\n",
      "1 0 5 272.4895529219991 e 15\n",
      "(29, 30) (35, 27) 6 3\n",
      "1 1 6 159.14554196042167 n 17\n",
      "(27, 21) (12, 14) 15 7\n",
      "1 2 2 325.1755108430432 s 17\n",
      "(18, 37) (31, 45) 13 8\n",
      "[[5, 29], [1, 39], [4, 40], [3, 53], [6, 68], [0, 73]]\n",
      "2 0 5 197.65012421993012 n 23\n",
      "(28, 45) (49, 36) 21 9\n",
      "2 1 1 145.1755108430432 n 23\n",
      "(26, 45) (17, 37) 9 8\n",
      "[[5, 24], [6, 37], [0, 40], [1, 46], [2, 53], [4, 69]]\n",
      "3 0 5 11.309932474020215 s 26\n",
      "(48, 18) (36, 23) 12 5\n",
      "3 1 6 93.27048792318357 w 16\n",
      "(33, 10) (20, 5) 13 5\n",
      "[[0, 33], [2, 40], [5, 53], [3, 69], [1, 77], [6, 106]]\n",
      "4 0 0 183.69138598645128 n 19\n",
      "(76, 44) (76, 28) 0 16\n",
      "4 1 2 88.53119928561418 w 13\n",
      "(65, 57) (48, 51) 17 6\n",
      "[[1, 24], [3, 24], [2, 29], [0, 44], [4, 53], [6, 53]]\n",
      "[[1, 29], [3, 37], [5, 53], [2, 68], [0, 77], [4, 106]]\n",
      "6 0 1 339.14554196042167 s 16\n",
      "(9, 14) (28, 21) 19 7\n"
     ]
    },
    {
     "data": {
      "image/png": "[encoded data removed]",
      "text/plain": [
       "<Figure size 1200x900 with 4 Axes>"
      ]
     },
     "metadata": {},
     "output_type": "display_data"
    },
    {
     "name": "stdout",
     "output_type": "stream",
     "text": [
      "[ 9 -2] (37, 14) (3, 6)\n",
      "A   37 by   14 Rectangle cornered at (   3,    6).\n",
      "A   43 by   20 Rectangle cornered at (   0,    3).\n",
      "\n",
      "[10 -2] (38, 14) (54, 39)\n",
      "A   38 by   14 Rectangle cornered at (  54,   39).\n",
      "A   44 by   20 Rectangle cornered at (  51,   36).\n",
      "\n",
      "[-12  -2] (16, 14) (7, 35)\n",
      "A   16 by   14 Rectangle cornered at (   7,   35).\n",
      "A   22 by   20 Rectangle cornered at (   4,   32).\n",
      "\n",
      "[7 2] (35, 18) (52, 8)\n",
      "A   35 by   18 Rectangle cornered at (  52,    8).\n",
      "A   41 by   24 Rectangle cornered at (  49,    5).\n",
      "\n",
      "[-5 -2] (23, 14) (27, 40)\n",
      "A   23 by   14 Rectangle cornered at (  27,   40).\n",
      "A   29 by   20 Rectangle cornered at (  24,   37).\n",
      "\n",
      "Warning: maximum room generation attempts reached.\n",
      "Your dungeon will only have 5 rooms\n",
      "Attemped room generations 3902 times.\n",
      "71.56505117707799 111.25050550713324 248.74949449286677 288.434948822922\n",
      "72.47443162627712 110.22485943116808 248.74949449286677 288.434948822922\n",
      "53.13010235415598 131.18592516570965 225.0 310.6012946450045\n",
      "64.79887635452492 117.89727103094762 242.10272896905238 295.20112364547504\n",
      "61.38954033403478 122.47119229084849 237.52880770915152 298.6104596659652\n",
      "[[2, 35], [4, 51], [3, 52], [1, 85]]\n",
      "0 0 2 11.689369175439182 s 35\n",
      "(6, 19) (21, 35) 15 16\n",
      "0 1 4 333.434948822922 s 35\n",
      "(15, 19) (28, 40) 13 21\n",
      "0 2 3 274.76364169072616 e 12\n",
      "(39, 7) (52, 12) 13 5\n",
      "[[3, 33], [4, 36], [2, 62], [0, 85]]\n",
      "1 0 3 172.14668669802177 n 36\n",
      "(61, 39) (85, 25) 24 14\n",
      "1 1 4 88.36342295838328 w 12\n",
      "(54, 40) (49, 47) 5 7\n",
      "1 2 2 93.94518622903756 w 12\n",
      "(54, 42) (22, 46) 32 4\n",
      "[[4, 28], [0, 35], [1, 62], [3, 79]]\n",
      "2 0 4 282.26477372789236 e 12\n",
      "(22, 46) (27, 49) 5 3\n",
      "[[1, 33], [0, 52], [4, 61], [2, 79]]\n",
      "3 0 1 352.14668669802177 s 33\n",
      "(84, 25) (65, 39) 19 14\n",
      "[[2, 28], [1, 36], [0, 51], [3, 61]]\n"
     ]
    },
    {
     "data": {
      "image/png": "[encoded data removed]",
      "text/plain": [
       "<Figure size 1200x900 with 4 Axes>"
      ]
     },
     "metadata": {},
     "output_type": "display_data"
    },
    {
     "name": "stdout",
     "output_type": "stream",
     "text": [
      "[ 3 -2] (31, 14) (42, 27)\n",
      "A   31 by   14 Rectangle cornered at (  42,   27).\n",
      "A   37 by   20 Rectangle cornered at (  39,   24).\n",
      "\n",
      "[-4  0] (24, 16) (5, 15)\n",
      "A   24 by   16 Rectangle cornered at (   5,   15).\n",
      "A   30 by   22 Rectangle cornered at (   2,   12).\n",
      "\n",
      "[-4 -1] (24, 15) (46, 8)\n",
      "A   24 by   15 Rectangle cornered at (  46,    8).\n",
      "A   30 by   21 Rectangle cornered at (  43,    5).\n",
      "\n",
      "[-11   0] (17, 16) (80, 6)\n",
      "A   17 by   16 Rectangle cornered at (  80,    6).\n",
      "A   23 by   22 Rectangle cornered at (  77,    3).\n",
      "\n",
      "[-6  1] (22, 17) (2, 39)\n",
      "A   22 by   17 Rectangle cornered at (   2,   39).\n",
      "A   28 by   23 Rectangle cornered at (   0,   36).\n",
      "\n",
      "[-9 -1] (19, 15) (77, 28)\n",
      "A   19 by   15 Rectangle cornered at (  77,   28).\n",
      "A   25 by   21 Rectangle cornered at (  74,   25).\n",
      "\n",
      "[-11  -1] (17, 15) (33, 44)\n",
      "A   17 by   15 Rectangle cornered at (  33,   44).\n",
      "A   23 by   21 Rectangle cornered at (  30,   41).\n",
      "\n",
      "Warning: maximum room generation attempts reached.\n",
      "Your dungeon will only have 7 rooms\n",
      "Attemped room generations 3902 times.\n",
      "68.19859051364818 115.01689347810003 244.9831065219 291.8014094863518\n",
      "59.74356283647074 123.69006752597979 233.9726266148964 302.4711922908485\n",
      "59.74356283647074 120.25643716352926 237.52880770915152 302.4711922908485\n",
      "48.814074834290345 135.0 225.0 311.18592516570965\n",
      "53.97262661489639 126.0273733851036 231.34019174590992 308.6598082540901\n",
      "52.125016348901795 127.8749836510982 232.12501634890182 307.8749836510982\n",
      "48.814074834290345 131.18592516570965 228.81407483429035 311.18592516570965\n",
      "[[2, 20], [5, 30], [6, 33], [1, 51], [3, 51], [4, 57]]\n",
      "0 0 2 183.01278750418334 n 29\n",
      "(49, 27) (67, 22) 18 5\n",
      "0 1 5 271.97493401088195 e 12\n",
      "(72, 36) (77, 34) 5 2\n",
      "0 2 6 43.26429541107161 s 29\n",
      "(56, 40) (48, 44) 8 4\n",
      "[[4, 28], [2, 49], [0, 51], [6, 52], [3, 80], [5, 81]]\n",
      "1 0 4 9.462322208025611 s 22\n",
      "(23, 30) (17, 39) 6 9\n",
      "1 1 2 258.95905981967627 e 14\n",
      "(28, 29) (46, 13) 18 16\n",
      "1 2 0 285.3762512488262 e 14\n",
      "(28, 24) (42, 32) 14 8\n",
      "[[0, 20], [3, 31], [5, 48], [1, 49], [6, 53], [4, 77]]\n",
      "2 0 0 3.0127875041833505 s 22\n",
      "(62, 22) (54, 27) 8 5\n",
      "[[5, 23], [2, 31], [0, 51], [1, 80], [6, 84], [4, 108]]\n",
      "3 0 5 5.440332031005497 s 15\n",
      "(83, 21) (93, 28) 10 7\n",
      "3 1 2 88.09084756700362 w 14\n",
      "(80, 15) (69, 21) 11 6\n",
      "3 2 0 57.17145820858747 w 14\n",
      "(80, 8) (57, 27) 23 19\n",
      "NON-CONNECTION HALL GENERATED!!!\n",
      "[[1, 28], [6, 32], [0, 57], [2, 77], [5, 85], [3, 108]]\n",
      "4 0 1 189.46232220802563 n 20\n",
      "(17, 39) (13, 30) 4 9\n",
      "4 1 6 278.13010235415595 e 15\n",
      "(23, 46) (33, 53) 10 7\n",
      "[[3, 23], [0, 30], [2, 48], [6, 61], [1, 81], [4, 85]]\n",
      "5 0 3 185.44033203100548 n 17\n",
      "(84, 28) (81, 21) 3 7\n",
      "[[4, 32], [0, 33], [1, 52], [2, 53], [5, 61], [3, 84]]\n",
      "6 0 4 98.13010235415598 w 13\n",
      "(33, 46) (23, 40) 10 6\n"
     ]
    },
    {
     "data": {
      "image/png": "[encoded data removed]",
      "text/plain": [
       "<Figure size 1200x900 with 4 Axes>"
      ]
     },
     "metadata": {},
     "output_type": "display_data"
    },
    {
     "name": "stdout",
     "output_type": "stream",
     "text": [
      "[5 2] (33, 18) (66, 1)\n",
      "A   33 by   18 Rectangle cornered at (  66,    1).\n",
      "A   39 by   24 Rectangle cornered at (  63,    0).\n",
      "\n",
      "[ 9 -2] (37, 14) (36, 38)\n",
      "A   37 by   14 Rectangle cornered at (  36,   38).\n",
      "A   43 by   20 Rectangle cornered at (  33,   35).\n",
      "\n",
      "[-5 -2] (23, 14) (9, 41)\n",
      "A   23 by   14 Rectangle cornered at (   9,   41).\n",
      "A   29 by   20 Rectangle cornered at (   6,   38).\n",
      "\n",
      "[-5 -2] (23, 14) (27, 6)\n",
      "A   23 by   14 Rectangle cornered at (  27,    6).\n",
      "A   29 by   20 Rectangle cornered at (  24,    3).\n",
      "\n",
      "[-9 -2] (19, 14) (0, 2)\n",
      "A   19 by   14 Rectangle cornered at (   0,    2).\n",
      "A   25 by   20 Rectangle cornered at (   0,    0).\n",
      "\n",
      "[-4 -2] (24, 14) (2, 23)\n",
      "A   24 by   14 Rectangle cornered at (   2,   23).\n",
      "A   30 by   20 Rectangle cornered at (   0,   20).\n",
      "\n",
      "[-11   2] (17, 18) (79, 32)\n",
      "A   17 by   18 Rectangle cornered at (  79,   32).\n",
      "A   23 by   24 Rectangle cornered at (  76,   29).\n",
      "\n",
      "Warning: maximum room generation attempts reached.\n",
      "Your dungeon will only have 7 rooms\n",
      "Attemped room generations 3902 times.\n",
      "63.43494882292201 119.35775354279127 240.64224645720873 296.565051177078\n",
      "71.56505117707799 111.25050550713324 248.74949449286677 288.434948822922\n",
      "61.38954033403478 122.47119229084849 237.52880770915152 298.6104596659652\n",
      "61.38954033403478 122.47119229084849 237.52880770915152 298.6104596659652\n",
      "56.309932474020215 127.8749836510982 232.12501634890182 303.69006752597977\n",
      "63.43494882292201 120.25643716352926 237.52880770915152 298.6104596659652\n",
      "45.0 138.36646066342982 221.6335393365702 315.0\n",
      "[[6, 36], [3, 47], [1, 63], [4, 74], [5, 88], [2, 100]]\n",
      "0 0 6 350.83765295427827 s 31\n",
      "(85, 18) (91, 32) 6 14\n",
      "0 1 3 86.09950625761812 w 16\n",
      "(66, 9) (49, 16) 17 7\n",
      "0 2 1 38.65980825409009 s 31\n",
      "(69, 18) (69, 38) 0 20\n",
      "[[2, 37], [6, 37], [3, 48], [5, 55], [0, 63], [4, 81]]\n",
      "1 0 2 84.95754893082909 w 12\n",
      "(36, 39) (31, 53) 5 14\n",
      "1 1 6 263.0887728809753 e 12\n",
      "(72, 46) (79, 42) 7 4\n",
      "[[5, 24], [1, 37], [4, 50], [3, 53], [6, 74], [0, 100]]\n",
      "2 0 5 161.56505117707798 n 21\n",
      "(13, 41) (3, 36) 10 5\n",
      "2 1 1 264.95754893082915 e 12\n",
      "(31, 49) (36, 40) 5 9\n",
      "[[4, 33], [5, 41], [0, 47], [1, 48], [2, 53], [6, 77]]\n",
      "3 0 4 97.85331330197822 w 12\n",
      "(27, 7) (18, 9) 9 2\n",
      "3 1 5 54.6887865603668 s 21\n",
      "(40, 19) (11, 23) 29 4\n",
      "[[5, 26], [3, 33], [2, 50], [0, 74], [1, 81], [6, 110]]\n",
      "4 0 5 346.6075022462489 s 17\n",
      "(6, 15) (19, 23) 13 8\n",
      "4 1 3 277.85331330197823 e 12\n",
      "(18, 8) (27, 12) 9 4\n",
      "[[2, 24], [4, 26], [3, 41], [1, 55], [6, 84], [0, 88]]\n",
      "[[0, 36], [1, 37], [2, 74], [3, 77], [5, 84], [4, 110]]\n",
      "6 0 0 170.8376529542783 n 15\n",
      "(84, 32) (95, 18) 11 14\n"
     ]
    },
    {
     "data": {
      "image/png": "[encoded data removed]",
      "text/plain": [
       "<Figure size 1200x900 with 4 Axes>"
      ]
     },
     "metadata": {},
     "output_type": "display_data"
    },
    {
     "name": "stdout",
     "output_type": "stream",
     "text": [
      "[-2 -1] (26, 15) (20, 35)\n",
      "A   26 by   15 Rectangle cornered at (  20,   35).\n",
      "A   32 by   21 Rectangle cornered at (  17,   32).\n",
      "\n",
      "[4 1] (32, 17) (66, 18)\n",
      "A   32 by   17 Rectangle cornered at (  66,   18).\n",
      "A   38 by   23 Rectangle cornered at (  63,   15).\n",
      "\n",
      "[11  1] (39, 17) (56, 40)\n",
      "A   39 by   17 Rectangle cornered at (  56,   40).\n",
      "A   45 by   23 Rectangle cornered at (  53,   37).\n",
      "\n",
      "[8 0] (36, 16) (5, 15)\n",
      "A   36 by   16 Rectangle cornered at (   5,   15).\n",
      "A   42 by   22 Rectangle cornered at (   2,   12).\n",
      "\n",
      "[-11  -2] (17, 14) (46, 15)\n",
      "A   17 by   14 Rectangle cornered at (  46,   15).\n",
      "A   23 by   20 Rectangle cornered at (  43,   12).\n",
      "\n",
      "Warning: maximum room generation attempts reached.\n",
      "Your dungeon will only have 5 rooms\n",
      "Attemped room generations 3902 times.\n",
      "61.699244233993625 118.30075576600638 239.74356283647074 300.25643716352926\n",
      "63.43494882292201 116.56505117707799 241.92751306414706 298.0724869358529\n",
      "67.16634582208246 112.83365417791754 247.16634582208246 292.83365417791754\n",
      "68.74949449286676 113.96248897457818 244.79887635452494 292.38013505195954\n",
      "53.13010235415598 131.18592516570965 228.81407483429035 306.86989764584405\n",
      "[[3, 29], [4, 41], [2, 48], [1, 65]]\n",
      "0 0 3 152.24145939893998 n 24\n",
      "(29, 35) (15, 30) 14 5\n",
      "0 1 4 226.39718102729637 n 24\n",
      "(25, 35) (57, 28) 32 7\n",
      "0 2 2 278.13010235415595 e 13\n",
      "(45, 45) (56, 46) 11 1\n",
      "[[2, 29], [4, 32], [3, 62], [0, 65]]\n",
      "1 0 2 17.65012421993012 s 30\n",
      "(84, 34) (89, 40) 5 6\n",
      "1 1 4 98.13010235415598 w 15\n",
      "(66, 32) (62, 25) 4 7\n",
      "1 2 3 92.91083782616775 w 15\n",
      "(66, 31) (40, 25) 26 6\n",
      "[[1, 29], [4, 47], [0, 48], [3, 77]]\n",
      "2 0 1 197.65012421993012 n 37\n",
      "(85, 40) (95, 34) 10 6\n",
      "[[0, 29], [4, 32], [1, 62], [2, 77]]\n",
      "3 0 0 332.2414593989399 s 34\n",
      "(36, 30) (21, 35) 15 5\n",
      "[[1, 32], [3, 32], [0, 41], [2, 47]]\n",
      "4 0 1 278.13010235415595 e 12\n",
      "(62, 19) (66, 23) 4 4\n"
     ]
    },
    {
     "data": {
      "image/png": "[encoded data removed]",
      "text/plain": [
       "<Figure size 1200x900 with 4 Axes>"
      ]
     },
     "metadata": {},
     "output_type": "display_data"
    },
    {
     "name": "stdout",
     "output_type": "stream",
     "text": [
      "[ 2 -1] (30, 15) (11, 40)\n",
      "A   30 by   15 Rectangle cornered at (  11,   40).\n",
      "A   36 by   21 Rectangle cornered at (   8,   37).\n",
      "\n",
      "[ 4 -2] (32, 14) (14, 14)\n",
      "A   32 by   14 Rectangle cornered at (  14,   14).\n",
      "A   38 by   20 Rectangle cornered at (  11,   11).\n",
      "\n",
      "[-4  1] (24, 17) (73, 22)\n",
      "A   24 by   17 Rectangle cornered at (  73,   22).\n",
      "A   30 by   23 Rectangle cornered at (  70,   19).\n",
      "\n",
      "[-7 -1] (21, 15) (50, 3)\n",
      "A   21 by   15 Rectangle cornered at (  50,    3).\n",
      "A   27 by   21 Rectangle cornered at (  47,    0).\n",
      "\n",
      "[-11   2] (17, 18) (52, 27)\n",
      "A   17 by   18 Rectangle cornered at (  52,   27).\n",
      "A   23 by   24 Rectangle cornered at (  49,   24).\n",
      "\n",
      "[-12  -1] (16, 15) (82, 43)\n",
      "A   16 by   15 Rectangle cornered at (  82,   43).\n",
      "A   22 by   21 Rectangle cornered at (  79,   40).\n",
      "\n",
      "[-8 -1] (20, 15) (78, 3)\n",
      "A   20 by   15 Rectangle cornered at (  78,    3).\n",
      "A   26 by   21 Rectangle cornered at (  75,    0).\n",
      "\n",
      "Warning: maximum room generation attempts reached.\n",
      "Your dungeon will only have 7 rooms\n",
      "Attemped room generations 3902 times.\n",
      "64.98310652189997 115.01689347810003 243.43494882292202 296.565051177078\n",
      "69.44395478041653 113.62937773065681 244.9831065219 291.8014094863518\n",
      "56.309932474020215 123.69006752597979 233.9726266148964 306.0273733851036\n",
      "55.007979801441344 124.99202019855866 235.00797980144134 304.99202019855863\n",
      "45.0 138.36646066342982 221.6335393365702 315.0\n",
      "48.814074834290345 131.18592516570965 225.0 315.0\n",
      "55.007979801441344 124.99202019855866 232.12501634890182 307.8749836510982\n",
      "[[1, 30], [4, 45], [5, 67], [3, 71], [2, 76], [6, 99]]\n",
      "0 0 1 188.74616226255523 n 28\n",
      "(33, 40) (42, 27) 9 13\n",
      "0 1 4 252.07208023799276 e 13\n",
      "(40, 41) (52, 36) 12 5\n",
      "0 2 5 272.68377515946895 e 13\n",
      "(40, 50) (82, 49) 42 1\n",
      "[[0, 30], [3, 41], [4, 45], [2, 64], [6, 69], [5, 89]]\n",
      "1 0 0 8.746162262555202 s 30\n",
      "(29, 27) (16, 40) 13 13\n",
      "1 1 3 249.86369657175186 e 12\n",
      "(45, 23) (50, 11) 5 12\n",
      "[[6, 23], [5, 25], [4, 31], [3, 45], [1, 64], [0, 76]]\n",
      "2 0 6 188.53076560994813 n 22\n",
      "(77, 22) (88, 17) 11 5\n",
      "2 1 5 345.9637565320735 s 22\n",
      "(90, 38) (91, 43) 1 5\n",
      "2 2 4 76.50426671920418 w 15\n",
      "(73, 24) (68, 35) 5 11\n",
      "[[4, 26], [6, 28], [1, 41], [2, 45], [5, 70], [0, 71]]\n",
      "3 0 4 0.0 s 19\n",
      "(64, 17) (53, 27) 11 10\n",
      "3 1 6 270.0 e 13\n",
      "(70, 12) (78, 6) 8 6\n",
      "[[3, 26], [2, 31], [5, 44], [0, 45], [1, 45], [6, 54]]\n",
      "[[2, 25], [6, 42], [4, 44], [0, 67], [3, 70], [1, 89]]\n",
      "5 0 2 165.96375653207355 n 14\n",
      "(93, 43) (74, 38) 19 5\n",
      "[[2, 23], [3, 28], [5, 42], [4, 54], [1, 69], [0, 99]]\n",
      "6 0 2 8.53076560994812 s 18\n",
      "(92, 17) (89, 22) 3 5\n"
     ]
    },
    {
     "data": {
      "image/png": "[encoded data removed]",
      "text/plain": [
       "<Figure size 1200x900 with 4 Axes>"
      ]
     },
     "metadata": {},
     "output_type": "display_data"
    },
    {
     "name": "stdout",
     "output_type": "stream",
     "text": [
      "[3 1] (31, 17) (32, 22)\n",
      "A   31 by   17 Rectangle cornered at (  32,   22).\n",
      "A   37 by   23 Rectangle cornered at (  29,   19).\n",
      "\n",
      "[-11  -2] (17, 14) (3, 34)\n",
      "A   17 by   14 Rectangle cornered at (   3,   34).\n",
      "A   23 by   20 Rectangle cornered at (   0,   31).\n",
      "\n",
      "[0 0] (28, 16) (67, 23)\n",
      "A   28 by   16 Rectangle cornered at (  67,   23).\n",
      "A   34 by   22 Rectangle cornered at (  64,   20).\n",
      "\n",
      "[-3  1] (25, 17) (3, 2)\n",
      "A   25 by   17 Rectangle cornered at (   3,    2).\n",
      "A   31 by   23 Rectangle cornered at (   0,    0).\n",
      "\n",
      "[-10  -2] (18, 14) (78, 6)\n",
      "A   18 by   14 Rectangle cornered at (  78,    6).\n",
      "A   24 by   20 Rectangle cornered at (  75,    3).\n",
      "\n",
      "[ 3 -2] (31, 14) (58, 44)\n",
      "A   31 by   14 Rectangle cornered at (  58,   44).\n",
      "A   37 by   20 Rectangle cornered at (  55,   41).\n",
      "\n",
      "[-12  -1] (16, 15) (46, 4)\n",
      "A   16 by   15 Rectangle cornered at (  46,    4).\n",
      "A   22 by   21 Rectangle cornered at (  43,    1).\n",
      "\n",
      "[-4 -2] (24, 14) (23, 43)\n",
      "A   24 by   14 Rectangle cornered at (  23,   43).\n",
      "A   30 by   20 Rectangle cornered at (  20,   40).\n",
      "\n",
      "Attemped room generations 294 times.\n",
      "61.92751306414705 118.07248693585295 241.92751306414706 298.0724869358529\n",
      "53.13010235415598 131.18592516570965 228.81407483429035 306.86989764584405\n",
      "63.43494882292201 119.74488129694222 238.39249775375112 298.3007557660064\n",
      "56.309932474020215 123.69006752597979 236.30993247402023 303.69006752597977\n",
      "56.309932474020215 127.8749836510982 228.81407483429035 306.86989764584405\n",
      "68.19859051364818 115.01689347810003 244.9831065219 291.8014094863518\n",
      "48.814074834290345 131.18592516570965 225.0 315.0\n",
      "63.43494882292201 120.25643716352926 237.52880770915152 298.6104596659652\n",
      "[[6, 26], [7, 32], [2, 35], [1, 47], [5, 47], [3, 52], [4, 57]]\n",
      "0 0 6 200.22485943116808 n 29\n",
      "(36, 22) (50, 18) 14 4\n",
      "0 1 7 30.963756532073518 s 29\n",
      "(58, 38) (44, 43) 14 5\n",
      "0 2 2 271.68468431789626 e 15\n",
      "(62, 33) (67, 28) 5 5\n",
      "[[7, 33], [3, 35], [0, 47], [5, 72], [6, 73], [2, 80], [4, 104]]\n",
      "1 0 7 290.55604521958344 e 12\n",
      "(19, 38) (23, 55) 4 17\n",
      "1 1 3 187.35237935989238 n 15\n",
      "(6, 34) (15, 18) 9 16\n",
      "1 2 0 253.00917670801385 e 12\n",
      "(19, 41) (32, 33) 13 8\n",
      "[[4, 24], [5, 28], [0, 35], [6, 47], [7, 65], [1, 80], [3, 87]]\n",
      "2 0 4 198.43494882292202 n 26\n",
      "(81, 23) (90, 19) 9 4\n",
      "2 1 5 21.801409486351815 s 26\n",
      "(87, 38) (78, 44) 9 6\n",
      "[[1, 35], [6, 40], [0, 52], [7, 60], [4, 75], [2, 87], [5, 99]]\n",
      "3 0 1 7.352379359892353 s 23\n",
      "(26, 18) (4, 34) 22 16\n",
      "3 1 6 271.4688007143858 e 15\n",
      "(27, 14) (46, 10) 19 4\n",
      "[[2, 24], [6, 35], [5, 52], [0, 57], [3, 75], [7, 89], [1, 104]]\n",
      "4 0 2 18.43494882292201 s 16\n",
      "(89, 19) (85, 23) 4 4\n",
      "4 1 6 93.46822925891715 w 12\n",
      "(78, 8) (61, 6) 17 2\n",
      "[[2, 28], [7, 39], [0, 47], [4, 52], [6, 59], [1, 72], [3, 99]]\n",
      "5 0 2 201.80140948635182 n 29\n",
      "(85, 44) (78, 38) 7 6\n",
      "5 1 7 91.50743575877497 w 12\n",
      "(58, 56) (46, 45) 12 11\n",
      "[[0, 26], [4, 35], [3, 40], [2, 47], [7, 58], [5, 59], [1, 73]]\n",
      "[[0, 32], [1, 33], [5, 39], [6, 58], [3, 60], [2, 65], [4, 89]]\n"
     ]
    },
    {
     "data": {
      "image/png": "[encoded data removed]",
      "text/plain": [
       "<Figure size 1200x900 with 4 Axes>"
      ]
     },
     "metadata": {},
     "output_type": "display_data"
    },
    {
     "name": "stdout",
     "output_type": "stream",
     "text": [
      "[ 6 -1] (34, 15) (7, 26)\n",
      "A   34 by   15 Rectangle cornered at (   7,   26).\n",
      "A   40 by   21 Rectangle cornered at (   4,   23).\n",
      "\n",
      "[6 1] (34, 17) (65, 15)\n",
      "A   34 by   17 Rectangle cornered at (  65,   15).\n",
      "A   40 by   23 Rectangle cornered at (  62,   12).\n",
      "\n",
      "[-8  2] (20, 18) (22, 3)\n",
      "A   20 by   18 Rectangle cornered at (  22,    3).\n",
      "A   26 by   24 Rectangle cornered at (  19,    0).\n",
      "\n",
      "[-3  2] (25, 18) (64, 41)\n",
      "A   25 by   18 Rectangle cornered at (  64,   41).\n",
      "A   31 by   24 Rectangle cornered at (  61,   38).\n",
      "\n",
      "[-2 -2] (26, 14) (3, 44)\n",
      "A   26 by   14 Rectangle cornered at (   3,   44).\n",
      "A   32 by   20 Rectangle cornered at (   0,   41).\n",
      "\n",
      "[-12  -1] (16, 15) (46, 21)\n",
      "A   16 by   15 Rectangle cornered at (  46,   21).\n",
      "A   22 by   21 Rectangle cornered at (  43,   18).\n",
      "\n",
      "[-12  -1] (16, 15) (43, 44)\n",
      "A   16 by   15 Rectangle cornered at (  43,   44).\n",
      "A   22 by   21 Rectangle cornered at (  40,   41).\n",
      "\n",
      "[-12  -1] (16, 15) (1, 3)\n",
      "A   16 by   15 Rectangle cornered at (   1,    3).\n",
      "A   22 by   21 Rectangle cornered at (   0,    0).\n",
      "\n",
      "Attemped room generations 2634 times.\n",
      "67.61986494804043 112.38013505195957 246.3706222693432 293.6293777306568\n",
      "64.79887635452492 115.20112364547508 243.43494882292202 296.565051177078\n",
      "51.34019174590991 131.98721249581666 225.0 311.63353933657015\n",
      "56.309932474020215 126.86989764584402 233.13010235415598 303.69006752597977\n",
      "65.22485943116808 118.30075576600638 239.74356283647074 296.565051177078\n",
      "48.814074834290345 131.18592516570965 225.0 315.0\n",
      "48.814074834290345 131.18592516570965 225.0 315.0\n",
      "48.814074834290345 131.18592516570965 225.0 315.0\n",
      "[[4, 26], [2, 29], [5, 35], [7, 38], [6, 45], [1, 68], [3, 69]]\n",
      "0 0 4 23.96248897457818 s 32\n",
      "(36, 40) (22, 44) 14 4\n",
      "0 1 2 200.85445803957833 n 32\n",
      "(10, 26) (23, 20) 13 6\n",
      "0 2 5 260.5376777919744 e 13\n",
      "(40, 35) (46, 30) 6 5\n",
      "[[3, 33], [5, 33], [6, 59], [2, 61], [0, 68], [7, 86], [4, 94]]\n",
      "1 0 3 12.528807709151508 s 32\n",
      "(90, 31) (65, 41) 25 10\n",
      "1 1 5 79.87532834460218 w 15\n",
      "(65, 19) (61, 26) 4 7\n",
      "1 2 6 47.91083782616776 s 32\n",
      "(73, 31) (58, 49) 15 18\n",
      "NON-CONNECTION HALL GENERATED!!!\n",
      "[[7, 25], [0, 29], [5, 38], [4, 55], [6, 58], [1, 61], [3, 82]]\n",
      "2 0 7 94.96974072811031 w 16\n",
      "(22, 7) (16, 16) 6 9\n",
      "2 1 0 20.854458039578347 s 18\n",
      "(40, 20) (22, 26) 18 6\n",
      "[[6, 26], [1, 33], [5, 44], [4, 61], [0, 69], [2, 82], [7, 107]]\n",
      "3 0 6 87.70938995736147 w 16\n",
      "(64, 44) (58, 45) 6 1\n",
      "3 1 1 192.52880770915152 n 23\n",
      "(67, 41) (79, 31) 12 10\n",
      "[[0, 26], [6, 35], [7, 48], [2, 55], [3, 61], [5, 61], [1, 94]]\n",
      "4 0 0 203.96248897457818 n 24\n",
      "(9, 44) (11, 40) 2 4\n",
      "4 1 6 270.0 e 12\n",
      "(28, 46) (43, 57) 15 11\n",
      "[[6, 26], [1, 33], [0, 35], [2, 38], [3, 44], [4, 61], [7, 63]]\n",
      "5 0 6 7.431407971172504 s 14\n",
      "(48, 35) (47, 44) 1 9\n",
      "[[3, 26], [5, 26], [4, 35], [0, 45], [2, 58], [1, 59], [7, 83]]\n",
      "[[2, 25], [0, 38], [4, 48], [5, 63], [6, 83], [1, 86], [3, 107]]\n",
      "7 0 2 274.9697407281103 e 13\n",
      "(16, 12) (22, 6) 6 6\n",
      "7 1 0 326.88865803962796 s 14\n",
      "(3, 17) (11, 26) 8 9\n"
     ]
    },
    {
     "data": {
      "image/png": "[encoded data removed]",
      "text/plain": [
       "<Figure size 1200x900 with 4 Axes>"
      ]
     },
     "metadata": {},
     "output_type": "display_data"
    },
    {
     "name": "stdout",
     "output_type": "stream",
     "text": [
      "[ 3 -2] (31, 14) (51, 26)\n",
      "A   31 by   14 Rectangle cornered at (  51,   26).\n",
      "A   37 by   20 Rectangle cornered at (  48,   23).\n",
      "\n",
      "[-8  2] (20, 18) (54, 3)\n",
      "A   20 by   18 Rectangle cornered at (  54,    3).\n",
      "A   26 by   24 Rectangle cornered at (  51,    0).\n",
      "\n",
      "[-12  -1] (16, 15) (6, 17)\n",
      "A   16 by   15 Rectangle cornered at (   6,   17).\n",
      "A   22 by   21 Rectangle cornered at (   3,   14).\n",
      "\n",
      "[11 -2] (39, 14) (24, 44)\n",
      "A   39 by   14 Rectangle cornered at (  24,   44).\n",
      "A   45 by   20 Rectangle cornered at (  21,   41).\n",
      "\n",
      "[-3  2] (25, 18) (25, 4)\n",
      "A   25 by   18 Rectangle cornered at (  25,    4).\n",
      "A   31 by   24 Rectangle cornered at (  22,    1).\n",
      "\n",
      "[-10  -1] (18, 15) (3, 42)\n",
      "A   18 by   15 Rectangle cornered at (   3,   42).\n",
      "A   24 by   21 Rectangle cornered at (   0,   39).\n",
      "\n",
      "[-10   2] (18, 18) (77, 0)\n",
      "A   18 by   18 Rectangle cornered at (  77,    0).\n",
      "A   24 by   24 Rectangle cornered at (  74,    0).\n",
      "\n",
      "[-11  -2] (17, 14) (71, 43)\n",
      "A   17 by   14 Rectangle cornered at (  71,   43).\n",
      "A   23 by   20 Rectangle cornered at (  68,   40).\n",
      "\n",
      "Attemped room generations 1473 times.\n",
      "68.19859051364818 115.01689347810003 244.9831065219 291.8014094863518\n",
      "51.34019174590991 131.98721249581666 225.0 311.63353933657015\n",
      "48.814074834290345 131.18592516570965 225.0 315.0\n",
      "72.47443162627712 110.22485943116808 249.77514056883192 287.5255683737229\n",
      "56.309932474020215 126.86989764584402 233.13010235415598 303.69006752597977\n",
      "52.125016348901795 127.8749836510982 228.81407483429035 311.18592516570965\n",
      "48.3664606634298 135.0 221.6335393365702 315.0\n",
      "53.13010235415598 131.18592516570965 228.81407483429035 306.86989764584405\n",
      "[[1, 23], [7, 30], [3, 41], [6, 44], [4, 49], [2, 61], [5, 70]]\n",
      "0 0 1 174.55966796899452 n 29\n",
      "(73, 26) (69, 20) 4 6\n",
      "0 1 7 322.59464336859145 s 29\n",
      "(72, 39) (85, 43) 13 4\n",
      "0 2 3 51.95295746817391 s 29\n",
      "(70, 39) (53, 44) 17 5\n",
      "[[0, 23], [6, 25], [4, 28], [7, 53], [3, 60], [2, 62], [5, 89]]\n",
      "1 0 0 354.5596679689945 s 18\n",
      "(72, 20) (74, 26) 2 6\n",
      "1 1 6 262.23483398157464 e 16\n",
      "(73, 8) (77, 1) 4 7\n",
      "[[5, 27], [4, 34], [3, 56], [0, 61], [1, 62], [6, 87], [7, 91]]\n",
      "2 0 5 4.573921259900857 s 14\n",
      "(18, 31) (13, 42) 5 11\n",
      "2 1 4 244.4400348281762 e 13\n",
      "(21, 27) (25, 7) 4 20\n",
      "2 2 3 312.95459151111277 e 13\n",
      "(21, 19) (37, 44) 16 25\n",
      "NON-CONNECTION HALL GENERATED!!!\n",
      "[[5, 33], [7, 37], [0, 41], [4, 44], [2, 56], [1, 60], [6, 85]]\n",
      "3 0 5 93.69138598645128 w 12\n",
      "(24, 51) (20, 54) 4 3\n",
      "[[1, 28], [2, 34], [3, 44], [0, 49], [6, 53], [5, 61], [7, 79]]\n",
      "4 0 1 267.87890360333853 e 16\n",
      "(49, 17) (54, 8) 5 9\n",
      "4 1 2 64.44003482817618 w 16\n",
      "(25, 15) (21, 24) 4 9\n",
      "[[2, 27], [3, 33], [4, 61], [7, 68], [0, 70], [1, 89], [6, 114]]\n",
      "5 0 2 184.57392125990086 n 16\n",
      "(15, 42) (16, 31) 1 11\n",
      "[[1, 25], [0, 44], [7, 48], [4, 53], [3, 85], [2, 87], [5, 114]]\n",
      "6 0 1 82.23483398157467 w 16\n",
      "(77, 12) (73, 8) 4 4\n",
      "6 1 0 39.80557109226519 s 16\n",
      "(79, 17) (61, 26) 18 9\n",
      "[[0, 30], [3, 37], [6, 48], [1, 53], [5, 68], [4, 79], [2, 91]]\n",
      "7 0 0 142.59464336859145 n 15\n",
      "(84, 43) (59, 39) 25 4\n",
      "7 1 3 88.40885972880541 w 12\n",
      "(71, 55) (62, 55) 9 0\n"
     ]
    },
    {
     "data": {
      "image/png": "[encoded data removed]",
      "text/plain": [
       "<Figure size 1200x900 with 4 Axes>"
      ]
     },
     "metadata": {},
     "output_type": "display_data"
    }
   ],
   "source": [
    "for i in range(10):\n",
    "    d1.genRooms(reset = True)\n",
    "    for r in d1.rooms:\n",
    "        print(r.azi45, r.azi135, r.azi225, r.azi315)\n",
    "    d1.genHalls(reset = True)\n",
    "    f, a = plot.subplots(2, 2)\n",
    "    a[0, 0].imshow(d1.draw())\n",
    "    a[0, 1].imshow(d1.draw(mode = \"nowalls\"))\n",
    "    a[1, 0].imshow(d1.draw(mode = \"hallonly\"))\n",
    "    a[1, 1].imshow(d1.draw(mode = \"doors\"))\n",
    "    plot.show()"
   ]
  },
  {
   "cell_type": "code",
   "execution_count": 25,
   "id": "ba92773c-2acb-4c68-bdc3-0240c1d4c18d",
   "metadata": {},
   "outputs": [],
   "source": [
    "import random as rnd"
   ]
  },
  {
   "cell_type": "code",
   "execution_count": 26,
   "id": "356042ad-ed84-4443-a2e8-251df56e1d92",
   "metadata": {},
   "outputs": [
    {
     "data": {
      "text/plain": [
       "[2]"
      ]
     },
     "execution_count": 26,
     "metadata": {},
     "output_type": "execute_result"
    }
   ],
   "source": [
    "rnd.sample([x + 1 for x in range(10)], 1)"
   ]
  },
  {
   "cell_type": "code",
   "execution_count": 27,
   "id": "5b5bc280-9c8d-4e1a-962f-7e9dadc83b28",
   "metadata": {},
   "outputs": [
    {
     "data": {
      "text/plain": [
       "array([10,  4,  5,  5,  1,  0,  7,  0,  7,  3,  8,  5,  2,  1,  7,  6,  7,  9,  8,  5,  9,  5,  2,  1,  0,  5, 10, 10,  9,  0,\n",
       "        4,  8,  2,  4,  5,  8,  7,  1,  2,  5,  1,  5, 10,  9,  1,  4,  0,  6,  5,  3])"
      ]
     },
     "execution_count": 27,
     "metadata": {},
     "output_type": "execute_result"
    }
   ],
   "source": [
    "np.random.randint(0, 11, 50)"
   ]
  },
  {
   "cell_type": "code",
   "execution_count": 28,
   "id": "a5543851-614b-4483-8f83-8c52c05d2e9a",
   "metadata": {},
   "outputs": [
    {
     "data": {
      "text/plain": [
       "2"
      ]
     },
     "execution_count": 28,
     "metadata": {},
     "output_type": "execute_result"
    }
   ],
   "source": [
    "np.random.randint(0, 11)"
   ]
  },
  {
   "cell_type": "code",
   "execution_count": 29,
   "id": "1613f4d1-4b82-45b1-9f80-a7e7c904d623",
   "metadata": {},
   "outputs": [
    {
     "data": {
      "text/plain": [
       "array([[10, 10],\n",
       "       [18, 22],\n",
       "       [10, 22],\n",
       "       [18, 10]])"
      ]
     },
     "execution_count": 29,
     "metadata": {},
     "output_type": "execute_result"
    }
   ],
   "source": [
    "myCorners = np.array([[10, 10], [10 + 8, 10 + 12], [10, 10 + 12], [10 + 8, 10]], int)\n",
    "myCorners"
   ]
  },
  {
   "cell_type": "code",
   "execution_count": 30,
   "id": "227d6643-d93b-49ec-a933-70b12324fe7b",
   "metadata": {},
   "outputs": [
    {
     "data": {
      "text/plain": [
       "array([[ 4,  6],\n",
       "       [-4, -6],\n",
       "       [ 4, -6],\n",
       "       [-4,  6]])"
      ]
     },
     "execution_count": 30,
     "metadata": {},
     "output_type": "execute_result"
    }
   ],
   "source": [
    "myCornerVectors = np.array([10 + 4, 10 + 6]) - myCorners\n",
    "myCornerVectors"
   ]
  },
  {
   "cell_type": "code",
   "execution_count": 31,
   "id": "89209f15-f0d4-4513-acca-53f86e829fe3",
   "metadata": {},
   "outputs": [
    {
     "data": {
      "text/plain": [
       "array([123.69, 303.69, 236.31,  56.31])"
      ]
     },
     "execution_count": 31,
     "metadata": {},
     "output_type": "execute_result"
    }
   ],
   "source": [
    "myCornerAzimuths = ((np.arctan2(myCornerVectors[:, 0], myCornerVectors[:, 1]) * 180. / np.pi) + 90.) % 360\n",
    "myCornerAzimuths"
   ]
  },
  {
   "cell_type": "code",
   "execution_count": 32,
   "id": "204e006f-0c0c-408e-8148-bb2ff225ff3d",
   "metadata": {},
   "outputs": [
    {
     "data": {
      "text/plain": [
       "3"
      ]
     },
     "execution_count": 32,
     "metadata": {},
     "output_type": "execute_result"
    }
   ],
   "source": [
    "np.where((myCornerAzimuths > 0.) & (myCornerAzimuths <= 90.))[0][0]"
   ]
  },
  {
   "cell_type": "code",
   "execution_count": 33,
   "id": "665026a5-6c3a-4d0f-aa54-b47cff697453",
   "metadata": {},
   "outputs": [
    {
     "data": {
      "text/plain": [
       "0"
      ]
     },
     "execution_count": 33,
     "metadata": {},
     "output_type": "execute_result"
    }
   ],
   "source": [
    "np.where((myCornerAzimuths > 90.) & (myCornerAzimuths <= 180.))[0][0]"
   ]
  },
  {
   "cell_type": "code",
   "execution_count": 34,
   "id": "593dd776-5ec2-43b9-a7aa-4db968c5f1c2",
   "metadata": {},
   "outputs": [
    {
     "data": {
      "text/plain": [
       "2"
      ]
     },
     "execution_count": 34,
     "metadata": {},
     "output_type": "execute_result"
    }
   ],
   "source": [
    "np.where((myCornerAzimuths > 180.) & (myCornerAzimuths <= 270.))[0][0]"
   ]
  },
  {
   "cell_type": "code",
   "execution_count": 35,
   "id": "fdf935d0-bf80-459a-90ce-c628f3305a55",
   "metadata": {},
   "outputs": [
    {
     "data": {
      "text/plain": [
       "1"
      ]
     },
     "execution_count": 35,
     "metadata": {},
     "output_type": "execute_result"
    }
   ],
   "source": [
    "np.where((myCornerAzimuths > 270.) & (myCornerAzimuths <= 360.))[0][0]"
   ]
  },
  {
   "cell_type": "code",
   "execution_count": 36,
   "id": "503c4d42-07a3-4a00-8c39-2f72f8ae7153",
   "metadata": {},
   "outputs": [
    {
     "data": {
      "text/plain": [
       "(array([[_, _, _, _, _],\n",
       "        [_, #, #, _, _],\n",
       "        [_, #, #, _, _],\n",
       "        [_, _, _, _, _],\n",
       "        [_, _, _, _, _]]),\n",
       " array([[#, #, #, #, #],\n",
       "        [#, _, _, #, #],\n",
       "        [#, _, _, #, #],\n",
       "        [#, #, #, #, #],\n",
       "        [#, #, #, #, #]]),\n",
       " array([[_, _, _, _, _],\n",
       "        [_, _, #, #, #],\n",
       "        [_, _, #, #, #],\n",
       "        [_, _, #, #, #],\n",
       "        [_, _, #, #, #]]),\n",
       " array([[#, #, #, #, #],\n",
       "        [#, #, _, _, _],\n",
       "        [#, #, _, _, _],\n",
       "        [#, #, _, _, _],\n",
       "        [#, #, _, _, _]]),\n",
       " array([[_, _, _, _, _],\n",
       "        [_, #, #, #, #],\n",
       "        [_, #, #, #, #],\n",
       "        [_, _, #, #, #],\n",
       "        [_, _, #, #, #]]),\n",
       " array([[_, _, _, _, _],\n",
       "        [_, _, #, _, _],\n",
       "        [_, _, #, _, _],\n",
       "        [_, _, _, _, _],\n",
       "        [_, _, _, _, _]]))"
      ]
     },
     "execution_count": 36,
     "metadata": {},
     "output_type": "execute_result"
    }
   ],
   "source": [
    "A = np.zeros((5, 5), bool)\n",
    "B = np.zeros((5, 5), bool)\n",
    "A[1:3, 1:3] = 1\n",
    "B[1:, 2:] = 1\n",
    "A, ~ A, B, ~ B, A | B, A & B"
   ]
  },
  {
   "cell_type": "code",
   "execution_count": null,
   "id": "3f4b3b3f-fa46-4311-9ca0-72a76ce8c2ff",
   "metadata": {},
   "outputs": [],
   "source": []
  }
 ],
 "metadata": {
  "kernelspec": {
   "display_name": "Python 3 (ipykernel)",
   "language": "python",
   "name": "python3"
  },
  "language_info": {
   "codemirror_mode": {
    "name": "ipython",
    "version": 3
   },
   "file_extension": ".py",
   "mimetype": "text/x-python",
   "name": "python",
   "nbconvert_exporter": "python",
   "pygments_lexer": "ipython3",
   "version": "3.10.8"
  }
 },
 "nbformat": 4,
 "nbformat_minor": 5
}
