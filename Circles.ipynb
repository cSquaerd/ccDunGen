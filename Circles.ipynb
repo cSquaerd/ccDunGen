{
 "cells": [
  {
   "cell_type": "code",
   "execution_count": 1,
   "id": "decb79fc-af66-4699-b92f-f7e1a4f1aed4",
   "metadata": {},
   "outputs": [],
   "source": [
    "from ccDGGeom import np, Point"
   ]
  },
  {
   "cell_type": "code",
   "execution_count": 2,
   "id": "1384c7d5-d796-4ffa-ae12-a86160546312",
   "metadata": {},
   "outputs": [
    {
     "data": {
      "text/plain": [
       "array([[4, 3],\n",
       "       [6, 5],\n",
       "       [2, 1]])"
      ]
     },
     "execution_count": 2,
     "metadata": {},
     "output_type": "execute_result"
    }
   ],
   "source": [
    "A = np.array([[4, 3], [6, 5], [2, 1]])\n",
    "A"
   ]
  },
  {
   "cell_type": "code",
   "execution_count": 3,
   "id": "3be2c3ed-1298-486a-bc28-2dd5fccad406",
   "metadata": {},
   "outputs": [
    {
     "data": {
      "text/plain": [
       "5"
      ]
     },
     "execution_count": 3,
     "metadata": {},
     "output_type": "execute_result"
    }
   ],
   "source": [
    "np.argmin(A)"
   ]
  },
  {
   "cell_type": "code",
   "execution_count": 4,
   "id": "86a20720-813c-42e8-a2cb-1687c10c974a",
   "metadata": {},
   "outputs": [
    {
     "data": {
      "text/plain": [
       "(array([4, 6, 2]), array([3, 5, 1]))"
      ]
     },
     "execution_count": 4,
     "metadata": {},
     "output_type": "execute_result"
    }
   ],
   "source": [
    "A[:, 0], A[:, 1]"
   ]
  },
  {
   "cell_type": "code",
   "execution_count": 5,
   "id": "c868f548-0100-4d14-9228-9d333b0a63d2",
   "metadata": {},
   "outputs": [
    {
     "data": {
      "text/plain": [
       "array([25, 61,  5])"
      ]
     },
     "execution_count": 5,
     "metadata": {},
     "output_type": "execute_result"
    }
   ],
   "source": [
    "A[:, 0] ** 2 + A[:, 1] ** 2"
   ]
  },
  {
   "cell_type": "code",
   "execution_count": 6,
   "id": "89c57d18-ff6f-4bf7-b98e-1b01458ed2f9",
   "metadata": {},
   "outputs": [
    {
     "data": {
      "text/plain": [
       "2"
      ]
     },
     "execution_count": 6,
     "metadata": {},
     "output_type": "execute_result"
    }
   ],
   "source": [
    "np.argmin(_)"
   ]
  },
  {
   "cell_type": "code",
   "execution_count": 7,
   "id": "416594c5-53e7-4835-afea-fb957ab2bdb4",
   "metadata": {},
   "outputs": [
    {
     "data": {
      "text/plain": [
       "array([[4, 3],\n",
       "       [6, 5],\n",
       "       [2, 1]])"
      ]
     },
     "execution_count": 7,
     "metadata": {},
     "output_type": "execute_result"
    }
   ],
   "source": [
    "points = (Point(4, 3), Point(6, 5), Point(2, 1))\n",
    "np.stack(tuple(p.tupl for p in points))"
   ]
  },
  {
   "cell_type": "code",
   "execution_count": 208,
   "id": "eea0cb12-8422-4f0c-9b79-7962fdcf4b01",
   "metadata": {},
   "outputs": [],
   "source": [
    "class Circle:\n",
    "    \n",
    "    def __init__(self, x : int, y : int, r : int):\n",
    "        self.origin = Point(x, y)\n",
    "        self.radius = abs(r)\n",
    "        self.edgePoints = {}\n",
    "        self.refreshEdgePoints()\n",
    "        \n",
    "    def refreshEdgePoints(self, charliesMethod : bool = True):\n",
    "        firstQuarter = []\n",
    "        p = Point(self.radius, 0)\n",
    "        while p.x > 0:\n",
    "            firstQuarter.append(p)\n",
    "            nextPoints = (Point(p.x - 1, p.y), Point(p.x, p.y + 1), Point(p.x - 1, p.y + 1))\n",
    "            XY = np.stack(tuple(p.tupl for p in nextPoints))\n",
    "            \n",
    "            if charliesMethod:\n",
    "                nextPointsWithinRange = []\n",
    "                for i in np.where(\n",
    "                    XY[:, 0] ** 2 + XY[:, 1] ** 2 - (\n",
    "                        self.radius ** 2 + int(self.radius ** 0.5)\n",
    "                    ) <= 0\n",
    "                )[0]:\n",
    "                    nextPointsWithinRange.append(nextPoints[i])\n",
    "                    \n",
    "                XYWithinRange = np.stack(tuple(p.tupl for p in nextPointsWithinRange))\n",
    "                \n",
    "                p = nextPointsWithinRange[\n",
    "                    np.argmax(\n",
    "                        XYWithinRange[:, 0] ** 2 + XYWithinRange[:, 1] ** 2\n",
    "                    )\n",
    "                ]\n",
    "            else:\n",
    "                \n",
    "                p = nextPoints[\n",
    "                    np.argmin(\n",
    "                        np.abs(\n",
    "                            XY[:, 0] ** 2 + XY[:, 1] ** 2 - (\n",
    "                                self.radius ** 2 + int(self.radius ** 0.5)\n",
    "                            )\n",
    "                        )\n",
    "                    )\n",
    "                ]\n",
    "        \n",
    "        fqA = np.array(tuple(p.tupl for p in firstQuarter), int).transpose()\n",
    "        sqR, tqR, rqR = (\n",
    "            np.array([[np.cos(t), -np.sin(t)], [np.sin(t), np.cos(t)]])\n",
    "            for t in (np.pi / 2, np.pi, 3 * np.pi / 2)\n",
    "        )\n",
    "        secondQuarter = (sqR @ fqA).round().astype(int).transpose().tolist()\n",
    "        thirdQuarter = (tqR @ fqA).round().astype(int).transpose().tolist()\n",
    "        fourthQuarter = (rqR @ fqA).round().astype(int).transpose().tolist()\n",
    "        \n",
    "        self.edgePoints = {p + self.origin for p in firstQuarter} \\\n",
    "            | {Point(*p) + self.origin for p in secondQuarter} \\\n",
    "            | {Point(*p) + self.origin for p in thirdQuarter} \\\n",
    "            | {Point(*p) + self.origin for p in fourthQuarter}\n",
    "        \n",
    "    def getMinFrame(self) -> Point:\n",
    "        return self.origin + Point(self.radius + 1, self.radius + 1)\n",
    "        \n",
    "    def getMaskEdge(self, fw : int = 0, fh : int = 0) -> np.array:\n",
    "        if fw == 0 or fh == 0:\n",
    "            f = self.getMinFrame()\n",
    "            fw = f.x\n",
    "            fh = f.y\n",
    "            \n",
    "        M = np.zeros((fh, fw), bool)\n",
    "        \n",
    "        for p in self.edgePoints:\n",
    "            M[p.y, p.x] = 1\n",
    "            \n",
    "        return M\n",
    "    \n",
    "    def getMaskFill(self, fw : int = 0, fh : int = 0) -> np.array:\n",
    "        M = self.getMaskEdge(fw, fh)\n",
    "        \n",
    "        queue = [self.origin]\n",
    "        while len(queue) > 0:\n",
    "            p = queue.pop()\n",
    "            if M[p.y, p.x] == 0:\n",
    "                M[p.y, p.x] = 1\n",
    "                queue.insert(0, Point(p.x, p.y - 1))\n",
    "                queue.insert(0, Point(p.x - 1, p.y))\n",
    "                queue.insert(0, Point(p.x, p.y + 1))\n",
    "                queue.insert(0, Point(p.x + 1, p.y))\n",
    "                \n",
    "        return M\n",
    "    "
   ]
  },
  {
   "cell_type": "code",
   "execution_count": 209,
   "id": "2a0eefbc-1ef0-42b4-a0a8-fd3d743a5efa",
   "metadata": {},
   "outputs": [
    {
     "data": {
      "text/plain": [
       "array([0, 2, 0])"
      ]
     },
     "execution_count": 209,
     "metadata": {},
     "output_type": "execute_result"
    }
   ],
   "source": [
    "np.maximum((-1, 2, -3), 0)"
   ]
  },
  {
   "cell_type": "code",
   "execution_count": 210,
   "id": "ef49aa67-2823-490c-a3d1-7038ecb9cec3",
   "metadata": {},
   "outputs": [
    {
     "data": {
      "text/plain": [
       "array([1, 4])"
      ]
     },
     "execution_count": 210,
     "metadata": {},
     "output_type": "execute_result"
    }
   ],
   "source": [
    "np.where(np.array((-1, 2, -3, -4, 5), int) > 0)[0]"
   ]
  },
  {
   "cell_type": "code",
   "execution_count": 232,
   "id": "b76723da-2068-40fe-ab0c-523eb34e447e",
   "metadata": {},
   "outputs": [],
   "source": [
    "r = 8"
   ]
  },
  {
   "cell_type": "code",
   "execution_count": 233,
   "id": "d60b485d-cb1d-4325-b3af-92275b57590e",
   "metadata": {},
   "outputs": [
    {
     "data": {
      "text/plain": [
       "array([[_, _, _, _, _, _, _, _, _, _, _, _, _, _, _, _, _, _, _, _, _, _, _, _],\n",
       "       [_, _, _, _, _, _, _, _, _, _, _, _, _, _, _, _, _, _, _, _, _, _, _, _],\n",
       "       [_, _, _, _, _, _, _, _, _, _, _, _, _, _, _, _, _, _, _, _, _, _, _, _],\n",
       "       [_, _, _, _, _, _, _, _, _, _, _, _, _, _, _, _, _, _, _, _, _, _, _, _],\n",
       "       [_, _, _, _, _, _, _, _, _, _, _, _, _, _, _, _, _, _, _, _, _, _, _, _],\n",
       "       [_, _, _, _, _, _, _, _, _, _, _, _, _, _, _, _, _, _, _, _, _, _, _, _],\n",
       "       [_, _, _, _, _, _, _, _, _, _, _, _, _, _, _, _, _, _, _, _, _, _, _, _],\n",
       "       [_, _, _, _, _, _, _, _, _, _, _, _, _, _, #, #, #, _, _, _, _, _, _, _],\n",
       "       [_, _, _, _, _, _, _, _, _, _, _, #, #, #, _, _, _, #, #, #, _, _, _, _],\n",
       "       [_, _, _, _, _, _, _, _, _, _, #, _, _, _, _, _, _, _, _, _, #, _, _, _],\n",
       "       [_, _, _, _, _, _, _, _, _, #, _, _, _, _, _, _, _, _, _, _, _, #, _, _],\n",
       "       [_, _, _, _, _, _, _, _, #, _, _, _, _, _, _, _, _, _, _, _, _, _, #, _],\n",
       "       [_, _, _, _, _, _, _, _, #, _, _, _, _, _, _, _, _, _, _, _, _, _, #, _],\n",
       "       [_, _, _, _, _, _, _, _, #, _, _, _, _, _, _, _, _, _, _, _, _, _, #, _],\n",
       "       [_, _, _, _, _, _, _, #, _, _, _, _, _, _, _, _, _, _, _, _, _, _, _, #],\n",
       "       [_, _, _, _, _, _, _, #, _, _, _, _, _, _, _, _, _, _, _, _, _, _, _, #],\n",
       "       [_, _, _, _, _, _, _, #, _, _, _, _, _, _, _, _, _, _, _, _, _, _, _, #],\n",
       "       [_, _, _, _, _, _, _, _, #, _, _, _, _, _, _, _, _, _, _, _, _, _, #, _],\n",
       "       [_, _, _, _, _, _, _, _, #, _, _, _, _, _, _, _, _, _, _, _, _, _, #, _],\n",
       "       [_, _, _, _, _, _, _, _, #, _, _, _, _, _, _, _, _, _, _, _, _, _, #, _],\n",
       "       [_, _, _, _, _, _, _, _, _, #, _, _, _, _, _, _, _, _, _, _, _, #, _, _],\n",
       "       [_, _, _, _, _, _, _, _, _, _, #, _, _, _, _, _, _, _, _, _, #, _, _, _],\n",
       "       [_, _, _, _, _, _, _, _, _, _, _, #, #, #, _, _, _, #, #, #, _, _, _, _],\n",
       "       [_, _, _, _, _, _, _, _, _, _, _, _, _, _, #, #, #, _, _, _, _, _, _, _]])"
      ]
     },
     "execution_count": 233,
     "metadata": {},
     "output_type": "execute_result"
    }
   ],
   "source": [
    "c = Circle(15, 15, r)\n",
    "#c.refreshEdgePoints(charliesMethod=False)\n",
    "c.getMaskEdge()"
   ]
  },
  {
   "cell_type": "code",
   "execution_count": 234,
   "id": "64761cc0-5778-434e-9ef1-31df871b69c7",
   "metadata": {},
   "outputs": [
    {
     "data": {
      "text/plain": [
       "array([[_, _, _, _, _, _, _, _, _, _, _, _, _, _, _, _, _, _, _, _, _, _, _, _],\n",
       "       [_, _, _, _, _, _, _, _, _, _, _, _, _, _, _, _, _, _, _, _, _, _, _, _],\n",
       "       [_, _, _, _, _, _, _, _, _, _, _, _, _, _, _, _, _, _, _, _, _, _, _, _],\n",
       "       [_, _, _, _, _, _, _, _, _, _, _, _, _, _, _, _, _, _, _, _, _, _, _, _],\n",
       "       [_, _, _, _, _, _, _, _, _, _, _, _, _, _, _, _, _, _, _, _, _, _, _, _],\n",
       "       [_, _, _, _, _, _, _, _, _, _, _, _, _, _, _, _, _, _, _, _, _, _, _, _],\n",
       "       [_, _, _, _, _, _, _, _, _, _, _, _, _, _, _, _, _, _, _, _, _, _, _, _],\n",
       "       [_, _, _, _, _, _, _, _, _, _, _, _, _, _, #, #, #, _, _, _, _, _, _, _],\n",
       "       [_, _, _, _, _, _, _, _, _, _, _, #, #, #, #, #, #, #, #, #, _, _, _, _],\n",
       "       [_, _, _, _, _, _, _, _, _, _, #, #, #, #, #, #, #, #, #, #, #, _, _, _],\n",
       "       [_, _, _, _, _, _, _, _, _, #, #, #, #, #, #, #, #, #, #, #, #, #, _, _],\n",
       "       [_, _, _, _, _, _, _, _, #, #, #, #, #, #, #, #, #, #, #, #, #, #, #, _],\n",
       "       [_, _, _, _, _, _, _, _, #, #, #, #, #, #, #, #, #, #, #, #, #, #, #, _],\n",
       "       [_, _, _, _, _, _, _, _, #, #, #, #, #, #, #, #, #, #, #, #, #, #, #, _],\n",
       "       [_, _, _, _, _, _, _, #, #, #, #, #, #, #, #, #, #, #, #, #, #, #, #, #],\n",
       "       [_, _, _, _, _, _, _, #, #, #, #, #, #, #, #, #, #, #, #, #, #, #, #, #],\n",
       "       [_, _, _, _, _, _, _, #, #, #, #, #, #, #, #, #, #, #, #, #, #, #, #, #],\n",
       "       [_, _, _, _, _, _, _, _, #, #, #, #, #, #, #, #, #, #, #, #, #, #, #, _],\n",
       "       [_, _, _, _, _, _, _, _, #, #, #, #, #, #, #, #, #, #, #, #, #, #, #, _],\n",
       "       [_, _, _, _, _, _, _, _, #, #, #, #, #, #, #, #, #, #, #, #, #, #, #, _],\n",
       "       [_, _, _, _, _, _, _, _, _, #, #, #, #, #, #, #, #, #, #, #, #, #, _, _],\n",
       "       [_, _, _, _, _, _, _, _, _, _, #, #, #, #, #, #, #, #, #, #, #, _, _, _],\n",
       "       [_, _, _, _, _, _, _, _, _, _, _, #, #, #, #, #, #, #, #, #, _, _, _, _],\n",
       "       [_, _, _, _, _, _, _, _, _, _, _, _, _, _, #, #, #, _, _, _, _, _, _, _]])"
      ]
     },
     "execution_count": 234,
     "metadata": {},
     "output_type": "execute_result"
    }
   ],
   "source": [
    "c.getMaskFill()"
   ]
  },
  {
   "cell_type": "code",
   "execution_count": 235,
   "id": "71ab6fdf-131c-4106-b1fa-feba5dfdf2b4",
   "metadata": {},
   "outputs": [
    {
     "data": {
      "text/plain": [
       "('f', 'o', 'o', 'b', 'a', 'r')"
      ]
     },
     "execution_count": 235,
     "metadata": {},
     "output_type": "execute_result"
    }
   ],
   "source": [
    "tuple(c for c in \"foobar\")"
   ]
  },
  {
   "cell_type": "code",
   "execution_count": 236,
   "id": "d39c8212-37cc-405c-a1f5-1290755d5c0c",
   "metadata": {},
   "outputs": [
    {
     "data": {
      "text/plain": [
       "tuple"
      ]
     },
     "execution_count": 236,
     "metadata": {},
     "output_type": "execute_result"
    }
   ],
   "source": [
    "type(_)"
   ]
  },
  {
   "cell_type": "code",
   "execution_count": 237,
   "id": "08d7f5e9-61b6-4db2-96d9-80a7e5440eae",
   "metadata": {},
   "outputs": [
    {
     "data": {
      "text/plain": [
       "array([[_, _, _, _, _, _, _, _, _, _, _, _, _, _, _, _, _, _, _, _, _, _, _, _],\n",
       "       [_, _, _, _, _, _, _, _, _, _, _, _, _, _, _, _, _, _, _, _, _, _, _, _],\n",
       "       [_, _, _, _, _, _, _, _, _, _, _, _, _, _, _, _, _, _, _, _, _, _, _, _],\n",
       "       [_, _, _, _, _, _, _, _, _, _, _, _, _, _, _, _, _, _, _, _, _, _, _, _],\n",
       "       [_, _, _, _, _, _, _, _, _, _, _, _, _, _, _, _, _, _, _, _, _, _, _, _],\n",
       "       [_, _, _, _, _, _, _, _, _, _, _, _, _, _, _, _, _, _, _, _, _, _, _, _],\n",
       "       [_, _, _, _, _, _, _, _, _, _, _, _, _, _, _, _, _, _, _, _, _, _, _, _],\n",
       "       [_, _, _, _, _, _, _, _, _, _, _, _, #, #, #, #, #, #, #, _, _, _, _, _],\n",
       "       [_, _, _, _, _, _, _, _, _, _, _, #, #, #, _, _, _, #, #, #, _, _, _, _],\n",
       "       [_, _, _, _, _, _, _, _, _, _, #, _, _, _, _, _, _, _, _, _, #, _, _, _],\n",
       "       [_, _, _, _, _, _, _, _, _, #, _, _, _, _, _, _, _, _, _, _, _, #, _, _],\n",
       "       [_, _, _, _, _, _, _, _, #, _, _, _, _, _, _, _, _, _, _, _, _, _, #, _],\n",
       "       [_, _, _, _, _, _, _, #, #, _, _, _, _, _, _, _, _, _, _, _, _, _, #, #],\n",
       "       [_, _, _, _, _, _, _, #, #, _, _, _, _, _, _, _, _, _, _, _, _, _, #, #],\n",
       "       [_, _, _, _, _, _, _, #, _, _, _, _, _, _, _, _, _, _, _, _, _, _, _, #],\n",
       "       [_, _, _, _, _, _, _, #, _, _, _, _, _, _, _, _, _, _, _, _, _, _, _, #],\n",
       "       [_, _, _, _, _, _, _, #, _, _, _, _, _, _, _, _, _, _, _, _, _, _, _, #],\n",
       "       [_, _, _, _, _, _, _, #, #, _, _, _, _, _, _, _, _, _, _, _, _, _, #, #],\n",
       "       [_, _, _, _, _, _, _, #, #, _, _, _, _, _, _, _, _, _, _, _, _, _, #, #],\n",
       "       [_, _, _, _, _, _, _, _, #, _, _, _, _, _, _, _, _, _, _, _, _, _, #, _],\n",
       "       [_, _, _, _, _, _, _, _, _, #, _, _, _, _, _, _, _, _, _, _, _, #, _, _],\n",
       "       [_, _, _, _, _, _, _, _, _, _, #, _, _, _, _, _, _, _, _, _, #, _, _, _],\n",
       "       [_, _, _, _, _, _, _, _, _, _, _, #, #, #, _, _, _, #, #, #, _, _, _, _],\n",
       "       [_, _, _, _, _, _, _, _, _, _, _, _, #, #, #, #, #, #, #, _, _, _, _, _]])"
      ]
     },
     "execution_count": 237,
     "metadata": {},
     "output_type": "execute_result"
    }
   ],
   "source": [
    "c2 = Circle(15, 15, r)\n",
    "c2.refreshEdgePoints(charliesMethod=False)\n",
    "c2.getMaskEdge() | c.getMaskEdge()"
   ]
  },
  {
   "cell_type": "code",
   "execution_count": null,
   "id": "060c2c61-6529-4e5e-89e8-cd8de6bdcc0d",
   "metadata": {},
   "outputs": [],
   "source": []
  }
 ],
 "metadata": {
  "kernelspec": {
   "display_name": "Python 3 (ipykernel)",
   "language": "python",
   "name": "python3"
  },
  "language_info": {
   "codemirror_mode": {
    "name": "ipython",
    "version": 3
   },
   "file_extension": ".py",
   "mimetype": "text/x-python",
   "name": "python",
   "nbconvert_exporter": "python",
   "pygments_lexer": "ipython3",
   "version": "3.10.8"
  }
 },
 "nbformat": 4,
 "nbformat_minor": 5
}
