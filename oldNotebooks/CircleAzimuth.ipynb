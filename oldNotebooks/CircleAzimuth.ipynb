{
 "cells": [
  {
   "cell_type": "code",
   "execution_count": 1,
   "id": "197c59ca-3b24-4910-a65a-8f3d009591f6",
   "metadata": {},
   "outputs": [],
   "source": [
    "from ccDGGeom import np, Circle, Point"
   ]
  },
  {
   "cell_type": "code",
   "execution_count": 2,
   "id": "4a6779a5-7d4d-4954-995e-925a0121b8c8",
   "metadata": {},
   "outputs": [
    {
     "data": {
      "text/plain": [
       "\u001b[0;31mInit signature:\u001b[0m  \u001b[0mCircle\u001b[0m\u001b[0;34m(\u001b[0m\u001b[0mx\u001b[0m\u001b[0;34m:\u001b[0m \u001b[0mint\u001b[0m\u001b[0;34m,\u001b[0m \u001b[0my\u001b[0m\u001b[0;34m:\u001b[0m \u001b[0mint\u001b[0m\u001b[0;34m,\u001b[0m \u001b[0mr\u001b[0m\u001b[0;34m:\u001b[0m \u001b[0mint\u001b[0m\u001b[0;34m)\u001b[0m\u001b[0;34m\u001b[0m\u001b[0;34m\u001b[0m\u001b[0m\n",
       "\u001b[0;31mDocstring:\u001b[0m      Numpy supporting circle class\n",
       "\u001b[0;31mInit docstring:\u001b[0m Needs a coordinate and radius\n",
       "\u001b[0;31mFile:\u001b[0m           ~/Desktop/ccDunGen/ccDGGeom.py\n",
       "\u001b[0;31mType:\u001b[0m           type\n",
       "\u001b[0;31mSubclasses:\u001b[0m     \n"
      ]
     },
     "metadata": {},
     "output_type": "display_data"
    }
   ],
   "source": [
    "? Circle"
   ]
  },
  {
   "cell_type": "code",
   "execution_count": 3,
   "id": "b9a06d4c-4bc5-4cd3-913e-d21e40324574",
   "metadata": {},
   "outputs": [
    {
     "data": {
      "text/plain": [
       "(A radius    5 circle centered at (10, 10).,\n",
       " A radius    3 circle centered at (12, 20).,\n",
       " A radius    4 circle centered at (4, 18).)"
      ]
     },
     "execution_count": 3,
     "metadata": {},
     "output_type": "execute_result"
    }
   ],
   "source": [
    "c1 = Circle(10, 10, 5)\n",
    "c2 = Circle(12, 20, 3)\n",
    "c3 = Circle(4, 18, 4)\n",
    "c1, c2, c3"
   ]
  },
  {
   "cell_type": "code",
   "execution_count": 4,
   "id": "45c32233-02db-4ba7-aa36-b76c9457b702",
   "metadata": {},
   "outputs": [
    {
     "data": {
      "text/plain": [
       "array([[16, 16],\n",
       "       [24, 16],\n",
       "       [23,  9]])"
      ]
     },
     "execution_count": 4,
     "metadata": {},
     "output_type": "execute_result"
    }
   ],
   "source": [
    "np.stack((c1.getMinFrame().npar, c2.getMinFrame().npar, c3.getMinFrame().npar))"
   ]
  },
  {
   "cell_type": "code",
   "execution_count": 5,
   "id": "ead6ffc1-9030-4c81-be61-aec1816fcfe2",
   "metadata": {},
   "outputs": [
    {
     "data": {
      "text/plain": [
       "array([24, 16])"
      ]
     },
     "execution_count": 5,
     "metadata": {},
     "output_type": "execute_result"
    }
   ],
   "source": [
    "np.max(_, axis = 0)"
   ]
  },
  {
   "cell_type": "code",
   "execution_count": 6,
   "id": "3c1836ca-4870-41ec-968d-d9965d80c288",
   "metadata": {},
   "outputs": [
    {
     "data": {
      "text/plain": [
       "array([[_, _, _, _, _, _, _, _, _, _, _, _, _, _, _, _],\n",
       "       [_, _, _, _, _, _, _, _, _, _, _, _, _, _, _, _],\n",
       "       [_, _, _, _, _, _, _, _, _, _, _, _, _, _, _, _],\n",
       "       [_, _, _, _, _, _, _, _, _, _, _, _, _, _, _, _],\n",
       "       [_, _, _, _, _, _, _, _, _, _, _, _, _, _, _, _],\n",
       "       [_, _, _, _, _, _, _, _, _, #, #, #, _, _, _, _],\n",
       "       [_, _, _, _, _, _, _, #, #, _, _, _, #, #, _, _],\n",
       "       [_, _, _, _, _, _, #, _, _, _, _, _, _, _, #, _],\n",
       "       [_, _, _, _, _, _, #, _, _, _, _, _, _, _, #, _],\n",
       "       [_, _, _, _, _, #, _, _, _, _, _, _, _, _, _, #],\n",
       "       [_, _, _, _, _, #, _, _, _, _, _, _, _, _, _, #],\n",
       "       [_, _, _, _, _, #, _, _, _, _, _, _, _, _, _, #],\n",
       "       [_, _, _, _, _, _, #, _, _, _, _, _, _, _, #, _],\n",
       "       [_, _, _, _, _, _, #, _, _, _, _, _, _, _, #, _],\n",
       "       [_, _, _, #, #, #, _, #, #, _, _, _, #, #, _, _],\n",
       "       [_, #, #, _, _, _, #, #, _, #, #, #, _, _, _, _],\n",
       "       [_, #, _, _, _, _, _, #, _, _, _, _, _, _, _, _],\n",
       "       [#, _, _, _, _, _, _, _, #, _, _, #, #, #, _, _],\n",
       "       [#, _, _, _, _, _, _, _, #, _, #, _, _, _, #, _],\n",
       "       [#, _, _, _, _, _, _, _, #, #, _, _, _, _, _, #],\n",
       "       [_, #, _, _, _, _, _, #, _, #, _, _, _, _, _, #],\n",
       "       [_, #, #, _, _, _, #, #, _, #, _, _, _, _, _, #],\n",
       "       [_, _, _, #, #, #, _, _, _, _, #, _, _, _, #, _],\n",
       "       [_, _, _, _, _, _, _, _, _, _, _, #, #, #, _, _]])"
      ]
     },
     "execution_count": 6,
     "metadata": {},
     "output_type": "execute_result"
    }
   ],
   "source": [
    "c1.getMaskEdge(16, 24) | c2.getMaskEdge(16, 24) | c3.getMaskEdge(16, 24)"
   ]
  },
  {
   "cell_type": "code",
   "execution_count": 7,
   "id": "8ad19903-58e7-43ad-a9a9-a2a29b075d56",
   "metadata": {},
   "outputs": [
    {
     "data": {
      "text/plain": [
       "168.69006752597977"
      ]
     },
     "execution_count": 7,
     "metadata": {},
     "output_type": "execute_result"
    }
   ],
   "source": [
    "c2.getAzimuth(c1)"
   ]
  },
  {
   "cell_type": "code",
   "execution_count": 8,
   "id": "8af1ecb6-a376-4e7f-b392-cdb027235040",
   "metadata": {},
   "outputs": [
    {
     "data": {
      "text/plain": [
       "(-2, -10)"
      ]
     },
     "execution_count": 8,
     "metadata": {},
     "output_type": "execute_result"
    }
   ],
   "source": [
    "c1.getCentroid() - c2.getCentroid()"
   ]
  },
  {
   "cell_type": "code",
   "execution_count": 9,
   "id": "4fb23a1b-e5e3-4ba2-83cf-50a061dd8a33",
   "metadata": {},
   "outputs": [
    {
     "data": {
      "text/plain": [
       "104.03624346792648"
      ]
     },
     "execution_count": 9,
     "metadata": {},
     "output_type": "execute_result"
    }
   ],
   "source": [
    "c2.getAzimuth(c3)"
   ]
  },
  {
   "cell_type": "code",
   "execution_count": 10,
   "id": "b5d7bb85-497b-48f9-a55e-9bead31fead6",
   "metadata": {},
   "outputs": [
    {
     "data": {
      "text/plain": [
       "284.0362434679265"
      ]
     },
     "execution_count": 10,
     "metadata": {},
     "output_type": "execute_result"
    }
   ],
   "source": [
    "c3.getAzimuth(c2)"
   ]
  },
  {
   "cell_type": "code",
   "execution_count": 11,
   "id": "3d1f91ea-b9e9-4843-92b5-aa91072ac929",
   "metadata": {},
   "outputs": [
    {
     "data": {
      "text/plain": [
       "216.86989764584402"
      ]
     },
     "execution_count": 11,
     "metadata": {},
     "output_type": "execute_result"
    }
   ],
   "source": [
    "c3.getAzimuth(c1)"
   ]
  },
  {
   "cell_type": "code",
   "execution_count": 12,
   "id": "662ccdbe-7a9f-45da-9047-53ab94d8fd85",
   "metadata": {},
   "outputs": [
    {
     "data": {
      "text/plain": [
       "36.86989764584402"
      ]
     },
     "execution_count": 12,
     "metadata": {},
     "output_type": "execute_result"
    }
   ],
   "source": [
    "c1.getAzimuth(c3)"
   ]
  },
  {
   "cell_type": "code",
   "execution_count": 13,
   "id": "8473c993-54b9-4e30-a1ad-b089eb06ed40",
   "metadata": {},
   "outputs": [
    {
     "data": {
      "text/plain": [
       "(8, 19)"
      ]
     },
     "execution_count": 13,
     "metadata": {},
     "output_type": "execute_result"
    }
   ],
   "source": [
    "c3.getAngledEdgeCell(c3.getAzimuth(c2) - 10.)"
   ]
  },
  {
   "cell_type": "code",
   "execution_count": 14,
   "id": "99ead32d-2b4e-408f-80fd-9983f2878a07",
   "metadata": {},
   "outputs": [
    {
     "data": {
      "text/plain": [
       "ccDGGeom.Point"
      ]
     },
     "execution_count": 14,
     "metadata": {},
     "output_type": "execute_result"
    }
   ],
   "source": [
    "type(_)"
   ]
  },
  {
   "cell_type": "code",
   "execution_count": 15,
   "id": "beebc150-cfbb-479e-a35d-8c58ea8252cf",
   "metadata": {},
   "outputs": [
    {
     "name": "stdout",
     "output_type": "stream",
     "text": [
      "Help on function getAzimuth in module ccDGGeom:\n",
      "\n",
      "getAzimuth(self, other) -> float\n",
      "    Determine the bearing towards another shape (its centroid in particular)\n",
      "    \n",
      "    To go from trig angles (\n",
      "            start at 3 o'clock, counterclockwise\n",
      "    ) to azimuths (\n",
      "            start at 6 o'clock (\n",
      "                    not noon since y increseas downward in graphics\n",
      "            ), clockwise (\n",
      "                    but this is cancelled out by Graphics Space being right-handed,\n",
      "                    compared to Cartesian Space, which is left-handed;\n",
      "                    In right-handed trig, angles increase clockwise (think about it!)\n",
      "            )\n",
      "    ), we need to rotate 90 degrees to the right to bring the trig 0-axis\n",
      "    to meet the place for the azimuth 0-axis.\n",
      "    \n",
      "    Mathematcially, this is $       heta - 90$.\n",
      "    Since we don't want negative azimuths, we mod by 360 to wind negatives around.\n",
      "\n"
     ]
    }
   ],
   "source": [
    "help(Circle.getAzimuth)"
   ]
  },
  {
   "cell_type": "code",
   "execution_count": 16,
   "id": "76951389-b54c-4ab9-93e1-6734f5b7b59b",
   "metadata": {},
   "outputs": [
    {
     "data": {
      "text/plain": [
       "\u001b[0;31mSignature:\u001b[0m  \u001b[0mCircle\u001b[0m\u001b[0;34m.\u001b[0m\u001b[0mgetAzimuth\u001b[0m\u001b[0;34m(\u001b[0m\u001b[0mself\u001b[0m\u001b[0;34m,\u001b[0m \u001b[0mother\u001b[0m\u001b[0;34m)\u001b[0m \u001b[0;34m->\u001b[0m \u001b[0mfloat\u001b[0m\u001b[0;34m\u001b[0m\u001b[0;34m\u001b[0m\u001b[0m\n",
       "\u001b[0;31mDocstring:\u001b[0m\n",
       "Determine the bearing towards another shape (its centroid in particular)\n",
       "\n",
       "To go from trig angles (\n",
       "        start at 3 o'clock, counterclockwise\n",
       ") to azimuths (\n",
       "        start at 6 o'clock (\n",
       "                not noon since y increseas downward in graphics\n",
       "        ), clockwise (\n",
       "                but this is cancelled out by Graphics Space being right-handed,\n",
       "                compared to Cartesian Space, which is left-handed;\n",
       "                In right-handed trig, angles increase clockwise (think about it!)\n",
       "        )\n",
       "), we need to rotate 90 degrees to the right to bring the trig 0-axis\n",
       "to meet the place for the azimuth 0-axis.\n",
       "\n",
       "Mathematcially, this is $       heta - 90$.\n",
       "Since we don't want negative azimuths, we mod by 360 to wind negatives around.\n",
       "\u001b[0;31mFile:\u001b[0m      ~/Desktop/ccDunGen/ccDGGeom.py\n",
       "\u001b[0;31mType:\u001b[0m      function\n"
      ]
     },
     "metadata": {},
     "output_type": "display_data"
    }
   ],
   "source": [
    "? Circle.getAzimuth"
   ]
  },
  {
   "cell_type": "code",
   "execution_count": 17,
   "id": "4628964e-2dd1-48b6-b057-05e300cb47b5",
   "metadata": {},
   "outputs": [
    {
     "data": {
      "text/plain": [
       "3"
      ]
     },
     "execution_count": 17,
     "metadata": {},
     "output_type": "execute_result"
    }
   ],
   "source": [
    "c2.radius"
   ]
  },
  {
   "cell_type": "code",
   "execution_count": 18,
   "id": "20bd66fc-bb1e-48ab-93b2-3d0d6386e9a5",
   "metadata": {},
   "outputs": [
    {
     "data": {
      "text/plain": [
       "array([-0.588, -2.942])"
      ]
     },
     "execution_count": 18,
     "metadata": {},
     "output_type": "execute_result"
    }
   ],
   "source": [
    "theta = c2.getAzimuth(c1) + 90\n",
    "c2.radius * np.array((np.cos(theta * np.pi / 180.), np.sin(theta * np.pi / 180.)))"
   ]
  },
  {
   "cell_type": "code",
   "execution_count": 19,
   "id": "226e0f31-be55-481b-8eaa-e0b91b35079a",
   "metadata": {},
   "outputs": [
    {
     "data": {
      "text/plain": [
       "array([-1, -3])"
      ]
     },
     "execution_count": 19,
     "metadata": {},
     "output_type": "execute_result"
    }
   ],
   "source": [
    "_.round().astype(int)"
   ]
  },
  {
   "cell_type": "code",
   "execution_count": 20,
   "id": "d648d6a7-22c5-4c4c-a5d6-f7f782a78ae7",
   "metadata": {},
   "outputs": [
    {
     "data": {
      "text/plain": [
       "array([11, 17])"
      ]
     },
     "execution_count": 20,
     "metadata": {},
     "output_type": "execute_result"
    }
   ],
   "source": [
    "_ + c2.origin.npar[::-1]"
   ]
  },
  {
   "cell_type": "code",
   "execution_count": 21,
   "id": "893e6fc9-9192-42b7-8ba4-ff3f0b4139f9",
   "metadata": {},
   "outputs": [
    {
     "data": {
      "text/plain": [
       "True"
      ]
     },
     "execution_count": 21,
     "metadata": {},
     "output_type": "execute_result"
    }
   ],
   "source": [
    "c2.getMaskEdge()[17, 11]"
   ]
  },
  {
   "cell_type": "code",
   "execution_count": 22,
   "id": "346003f9-9fca-4637-993a-ebfcb69bc2eb",
   "metadata": {},
   "outputs": [
    {
     "data": {
      "text/plain": [
       "array([[23, 11],\n",
       "       [19, 15],\n",
       "       [20, 15],\n",
       "       [17, 13],\n",
       "       [18, 10],\n",
       "       [22, 14],\n",
       "       [18, 14],\n",
       "       [20,  9],\n",
       "       [19,  9],\n",
       "       [21, 15],\n",
       "       [21,  9],\n",
       "       [23, 13],\n",
       "       [23, 12],\n",
       "       [17, 11],\n",
       "       [22, 10],\n",
       "       [17, 12]])"
      ]
     },
     "execution_count": 22,
     "metadata": {},
     "output_type": "execute_result"
    }
   ],
   "source": [
    "np.vstack([p.npar for p in c2.edgeCells])"
   ]
  },
  {
   "cell_type": "code",
   "execution_count": 23,
   "id": "b790b59f-166f-4333-a8b5-2cc94ff0b406",
   "metadata": {},
   "outputs": [
    {
     "data": {
      "text/plain": [
       "True"
      ]
     },
     "execution_count": 23,
     "metadata": {},
     "output_type": "execute_result"
    }
   ],
   "source": [
    "np.count_nonzero(np.all(_ == np.array([17, 11]), axis = 1)) > 0"
   ]
  },
  {
   "cell_type": "code",
   "execution_count": 24,
   "id": "d09b1fb8-84ea-4a3b-9828-2a500bdd00e8",
   "metadata": {},
   "outputs": [
    {
     "data": {
      "text/plain": [
       "array([  0.,   8.,  16.,  24.,  32.,  40.,  48.,  56.,  64.,  72.,  80.,  88.,  96., 104., 112., 120., 128., 136., 144., 152.,\n",
       "       160., 168., 176., 184., 192., 200., 208., 216., 224., 232., 240., 248., 256., 264., 272., 280., 288., 296., 304., 312.,\n",
       "       320., 328., 336., 344., 352., 360.])"
      ]
     },
     "execution_count": 24,
     "metadata": {},
     "output_type": "execute_result"
    }
   ],
   "source": [
    "np.linspace(0., 360., 46)"
   ]
  },
  {
   "cell_type": "code",
   "execution_count": 25,
   "id": "a885ab3e-d405-48da-a706-2f9a3e0a8ace",
   "metadata": {
    "tags": []
   },
   "outputs": [
    {
     "name": "stdout",
     "output_type": "stream",
     "text": [
      "0.0 (15, 20) True\n",
      "4.0 (15, 20) True\n",
      "8.0 (15, 20) True\n",
      "12.0 (15, 21) True\n",
      "16.0 (15, 21) True\n",
      "20.0 (15, 21) True\n",
      "24.0 (15, 21) True\n",
      "28.0 (15, 21) True\n",
      "32.0 (15, 22) False\n",
      "[[ 1 -4  5 23 11]\n",
      " [-3  0  3 19 15]\n",
      " [-2  0  2 20 15]\n",
      " [-5 -2  7 17 13]\n",
      " [-4 -5  9 18 10]\n",
      " [ 0 -1  1 22 14]\n",
      " [-4 -1  5 18 14]\n",
      " [-2 -6  8 20  9]\n",
      " [-3 -6  9 19  9]\n",
      " [-1  0  1 21 15]\n",
      " [-1 -6  7 21  9]\n",
      " [ 1 -2  3 23 13]\n",
      " [ 1 -3  4 23 12]\n",
      " [-5 -4  9 17 11]\n",
      " [ 0 -5  5 22 10]\n",
      " [-5 -3  8 17 12]] 5 [22 14]\n",
      "36.0 (14, 22) True\n",
      "40.0 (14, 22) True\n",
      "44.0 (14, 22) True\n",
      "48.0 (14, 22) True\n",
      "52.0 (14, 22) True\n",
      "56.0 (14, 22) True\n",
      "60.0 (14, 23) False\n",
      "[[ 0 -3  3 23 11]\n",
      " [-4  1  5 19 15]\n",
      " [-3  1  4 20 15]\n",
      " [-6 -1  7 17 13]\n",
      " [-5 -4  9 18 10]\n",
      " [-1  0  1 22 14]\n",
      " [-5  0  5 18 14]\n",
      " [-3 -5  8 20  9]\n",
      " [-4 -5  9 19  9]\n",
      " [-2  1  3 21 15]\n",
      " [-2 -5  7 21  9]\n",
      " [ 0 -1  1 23 13]\n",
      " [ 0 -2  2 23 12]\n",
      " [-6 -3  9 17 11]\n",
      " [-1 -4  5 22 10]\n",
      " [-6 -2  8 17 12]] 5 [22 14]\n",
      "64.0 (13, 23) True\n",
      "68.0 (13, 23) True\n",
      "72.0 (13, 23) True\n",
      "76.0 (13, 23) True\n",
      "80.0 (13, 23) True\n",
      "84.0 (12, 23) True\n",
      "88.0 (12, 23) True\n",
      "92.0 (12, 23) True\n",
      "96.0 (12, 23) True\n",
      "100.0 (11, 23) True\n",
      "104.0 (11, 23) True\n",
      "108.0 (11, 23) True\n",
      "112.0 (11, 23) True\n",
      "116.0 (11, 23) True\n",
      "120.0 (11, 23) True\n",
      "124.0 (10, 22) True\n",
      "128.0 (10, 22) True\n",
      "132.0 (10, 22) True\n",
      "136.0 (10, 22) True\n",
      "140.0 (10, 22) True\n",
      "144.0 (10, 22) True\n",
      "148.0 (9, 22) False\n",
      "[[ 1  2  3 23 11]\n",
      " [-3  6  9 19 15]\n",
      " [-2  6  8 20 15]\n",
      " [-5  4  9 17 13]\n",
      " [-4  1  5 18 10]\n",
      " [ 0  5  5 22 14]\n",
      " [-4  5  9 18 14]\n",
      " [-2  0  2 20  9]\n",
      " [-3  0  3 19  9]\n",
      " [-1  6  7 21 15]\n",
      " [-1  0  1 21  9]\n",
      " [ 1  4  5 23 13]\n",
      " [ 1  3  4 23 12]\n",
      " [-5  2  7 17 11]\n",
      " [ 0  1  1 22 10]\n",
      " [-5  3  8 17 12]] 10 [21  9]\n",
      "152.0 (9, 21) True\n",
      "156.0 (9, 21) True\n",
      "160.0 (9, 21) True\n",
      "164.0 (9, 21) True\n",
      "168.0 (9, 21) True\n",
      "172.0 (9, 20) True\n",
      "176.0 (9, 20) True\n",
      "180.0 (9, 20) True\n",
      "184.0 (9, 20) True\n",
      "188.0 (9, 20) True\n",
      "192.0 (9, 19) True\n",
      "196.0 (9, 19) True\n",
      "200.0 (9, 19) True\n",
      "204.0 (9, 19) True\n",
      "208.0 (9, 19) True\n",
      "212.0 (9, 18) False\n",
      "[[ 5  2  7 23 11]\n",
      " [ 1  6  7 19 15]\n",
      " [ 2  6  8 20 15]\n",
      " [-1  4  5 17 13]\n",
      " [ 0  1  1 18 10]\n",
      " [ 4  5  9 22 14]\n",
      " [ 0  5  5 18 14]\n",
      " [ 2  0  2 20  9]\n",
      " [ 1  0  1 19  9]\n",
      " [ 3  6  9 21 15]\n",
      " [ 3  0  3 21  9]\n",
      " [ 5  4  9 23 13]\n",
      " [ 5  3  8 23 12]\n",
      " [-1  2  3 17 11]\n",
      " [ 4  1  5 22 10]\n",
      " [-1  3  4 17 12]] 4 [18 10]\n",
      "216.0 (10, 18) True\n",
      "220.0 (10, 18) True\n",
      "224.0 (10, 18) True\n",
      "228.0 (10, 18) True\n",
      "232.0 (10, 18) True\n",
      "236.0 (10, 18) True\n",
      "240.0 (10, 17) False\n",
      "[[ 6  1  7 23 11]\n",
      " [ 2  5  7 19 15]\n",
      " [ 3  5  8 20 15]\n",
      " [ 0  3  3 17 13]\n",
      " [ 1  0  1 18 10]\n",
      " [ 5  4  9 22 14]\n",
      " [ 1  4  5 18 14]\n",
      " [ 3 -1  4 20  9]\n",
      " [ 2 -1  3 19  9]\n",
      " [ 4  5  9 21 15]\n",
      " [ 4 -1  5 21  9]\n",
      " [ 6  3  9 23 13]\n",
      " [ 6  2  8 23 12]\n",
      " [ 0  1  1 17 11]\n",
      " [ 5  0  5 22 10]\n",
      " [ 0  2  2 17 12]] 4 [18 10]\n",
      "244.0 (11, 17) True\n",
      "248.0 (11, 17) True\n",
      "252.0 (11, 17) True\n",
      "256.0 (11, 17) True\n",
      "260.0 (11, 17) True\n",
      "264.0 (12, 17) True\n",
      "268.0 (12, 17) True\n",
      "272.0 (12, 17) True\n",
      "276.0 (12, 17) True\n",
      "280.0 (13, 17) True\n",
      "284.0 (13, 17) True\n",
      "288.0 (13, 17) True\n",
      "292.0 (13, 17) True\n",
      "296.0 (13, 17) True\n",
      "300.0 (14, 17) False\n",
      "[[ 6 -3  9 23 11]\n",
      " [ 2  1  3 19 15]\n",
      " [ 3  1  4 20 15]\n",
      " [ 0 -1  1 17 13]\n",
      " [ 1 -4  5 18 10]\n",
      " [ 5  0  5 22 14]\n",
      " [ 1  0  1 18 14]\n",
      " [ 3 -5  8 20  9]\n",
      " [ 2 -5  7 19  9]\n",
      " [ 4  1  5 21 15]\n",
      " [ 4 -5  9 21  9]\n",
      " [ 6 -1  7 23 13]\n",
      " [ 6 -2  8 23 12]\n",
      " [ 0 -3  3 17 11]\n",
      " [ 5 -4  9 22 10]\n",
      " [ 0 -2  2 17 12]] 3 [17 13]\n",
      "304.0 (14, 18) True\n",
      "308.0 (14, 18) True\n",
      "312.0 (14, 18) True\n",
      "316.0 (14, 18) True\n",
      "320.0 (14, 18) True\n",
      "324.0 (14, 18) True\n",
      "328.0 (15, 18) False\n",
      "[[ 5 -4  9 23 11]\n",
      " [ 1  0  1 19 15]\n",
      " [ 2  0  2 20 15]\n",
      " [-1 -2  3 17 13]\n",
      " [ 0 -5  5 18 10]\n",
      " [ 4 -1  5 22 14]\n",
      " [ 0 -1  1 18 14]\n",
      " [ 2 -6  8 20  9]\n",
      " [ 1 -6  7 19  9]\n",
      " [ 3  0  3 21 15]\n",
      " [ 3 -6  9 21  9]\n",
      " [ 5 -2  7 23 13]\n",
      " [ 5 -3  8 23 12]\n",
      " [-1 -4  5 17 11]\n",
      " [ 4 -5  9 22 10]\n",
      " [-1 -3  4 17 12]] 1 [19 15]\n",
      "332.0 (15, 19) True\n",
      "336.0 (15, 19) True\n",
      "340.0 (15, 19) True\n",
      "344.0 (15, 19) True\n",
      "348.0 (15, 19) True\n",
      "352.0 (15, 20) True\n",
      "356.0 (15, 20) True\n",
      "360.0 (15, 20) True\n"
     ]
    }
   ],
   "source": [
    "edgeArray = np.vstack([p.npar for p in c2.edgeCells])\n",
    "for theta in np.linspace(0., 360., 91):\n",
    "    p = c2.origin + Point(\n",
    "        *(\n",
    "            (\n",
    "                c2.radius * np.array([np.sin(theta * np.pi / 180.), np.cos(theta * np.pi / 180.)])\n",
    "            ).round().astype(int)\n",
    "        ).tolist()[::-1]\n",
    "    )\n",
    "    onEdge = np.count_nonzero(np.all(p.npar == edgeArray, axis = 1)) > 0\n",
    "    print(theta, p, onEdge)\n",
    "    if not onEdge:\n",
    "        infoArray = np.hstack((\n",
    "            edgeArray - p.npar,\n",
    "            np.sum(\n",
    "                np.abs(\n",
    "                    edgeArray - p.npar\n",
    "                ), axis = 1\n",
    "            ).reshape(-1, 1),\n",
    "            edgeArray\n",
    "        ))\n",
    "        print(infoArray, np.argmin(infoArray[:, 2]), edgeArray[np.argmin(infoArray[:, 2]), :])"
   ]
  },
  {
   "cell_type": "code",
   "execution_count": 26,
   "id": "9bdc5c69-24a1-4a7f-890d-3c7081b4515c",
   "metadata": {},
   "outputs": [
    {
     "name": "stdout",
     "output_type": "stream",
     "text": [
      "Help on class Catacombs in module ccDGLevels:\n",
      "\n",
      "class Catacombs(builtins.object)\n",
      " |  Catacombs(w: int, h: int, rct: int, raap: float, varix: int, variy: int, conn: int, doShift: bool, padx: int = 0, pady: int = 0, thick: int = 1, varih: int = 0)\n",
      " |  \n",
      " |  Nethack style dungeon\n",
      " |  \n",
      " |  Methods defined here:\n",
      " |  \n",
      " |  __init__(self, w: int, h: int, rct: int, raap: float, varix: int, variy: int, conn: int, doShift: bool, padx: int = 0, pady: int = 0, thick: int = 1, varih: int = 0)\n",
      " |      Initialize self.  See help(type(self)) for accurate signature.\n",
      " |  \n",
      " |  __repr__(self) -> str\n",
      " |      Generic representation\n",
      " |  \n",
      " |  __str__(self) -> str\n",
      " |      String representation\n",
      " |  \n",
      " |  draw(self, mode: str = '') -> <built-in function array>\n",
      " |      Produce a 2D boolean numpy array mask of the dungeon.\n",
      " |      Modes are as follows:\n",
      " |      \n",
      " |      (Note: mode strings can be mix of capitalization:\n",
      " |              ex. \"doors\" or \"Doors\" or \"DOORS\"\n",
      " |      )\n",
      " |      \n",
      " |      * default (\"\"): draw the walls of rooms and hallways\n",
      " |      * \"hallonly\"  : draw only the hallways\n",
      " |      * \"nowalls\"   : draw the floors of rooms and hallways\n",
      " |      * \"doors\"     : draw the floors of rooms and their doorways\n",
      " |      * \"dooronly\"  : draw only the doorways\n",
      " |  \n",
      " |  genHalls(self, reset: bool = False)\n",
      " |      Randomly generate hallways\n",
      " |  \n",
      " |  genRooms(self, reset=False, attemptsOverride: int = 0)\n",
      " |      Randomly generate rooms\n",
      " |  \n",
      " |  ----------------------------------------------------------------------\n",
      " |  Data descriptors defined here:\n",
      " |  \n",
      " |  __dict__\n",
      " |      dictionary for instance variables (if defined)\n",
      " |  \n",
      " |  __weakref__\n",
      " |      list of weak references to the object (if defined)\n",
      "\n"
     ]
    }
   ],
   "source": [
    "from ccDGLevels import Catacombs\n",
    "from matplotlib import pyplot as plot\n",
    "\n",
    "plot.rcParams[\"figure.figsize\"] = (12, 9)\n",
    "\n",
    "help(Catacombs)"
   ]
  },
  {
   "cell_type": "code",
   "execution_count": 27,
   "id": "d69f0088-3041-45b9-8945-4ddc662c3f4c",
   "metadata": {},
   "outputs": [
    {
     "data": {
      "text/plain": [
       "A 320 wide by 200 tall dungeon,\n",
       "with 28 rooms of about 02% average area each,\n",
       "or of average dimension 39 wide by 24 tall,\n",
       "with an average of 3 hallways out of each room;\n",
       "Rooms are padded by at least 9 East-West & 9 North-South,\n",
       "and have a length variance of +/-20 wide and +/- 10 tall."
      ]
     },
     "execution_count": 27,
     "metadata": {},
     "output_type": "execute_result"
    }
   ],
   "source": [
    "d = Catacombs(320, 200, 28, 0.015, 20, 10, 3, True, 9, 9, 4, 2)\n",
    "d"
   ]
  },
  {
   "cell_type": "code",
   "execution_count": 28,
   "id": "1f30feae-a9a5-4de3-a6f8-e474e2bd241b",
   "metadata": {},
   "outputs": [
    {
     "name": "stdout",
     "output_type": "stream",
     "text": [
      "[-6  7] (33, 31) (118, 3)\n",
      "A   33 by   31 Rectangle cornered at ( 118,    3).\n",
      "A   51 by   49 Rectangle cornered at ( 109,    0).\n",
      "\n",
      "[18  2] (57, 26) (187, 78)\n",
      "A   57 by   26 Rectangle cornered at ( 187,   78).\n",
      "A   75 by   44 Rectangle cornered at ( 178,   69).\n",
      "\n",
      "[19 10] (58, 34) (116, 120)\n",
      "A   58 by   34 Rectangle cornered at ( 116,  120).\n",
      "A   76 by   52 Rectangle cornered at ( 107,  111).\n",
      "\n",
      "[2 7] (41, 31) (261, 17)\n",
      "A   41 by   31 Rectangle cornered at ( 261,   17).\n",
      "A   59 by   49 Rectangle cornered at ( 252,    8).\n",
      "\n",
      "[ 6 -5] (45, 19) (42, 5)\n",
      "A   45 by   19 Rectangle cornered at (  42,    5).\n",
      "A   63 by   37 Rectangle cornered at (  33,    0).\n",
      "\n",
      "[17  1] (56, 25) (94, 44)\n",
      "A   56 by   25 Rectangle cornered at (  94,   44).\n",
      "A   74 by   43 Rectangle cornered at (  85,   35).\n",
      "\n",
      "[4 2] (43, 26) (4, 73)\n",
      "A   43 by   26 Rectangle cornered at (   4,   73).\n",
      "A   61 by   44 Rectangle cornered at (   0,   64).\n",
      "\n",
      "[-10 -10] (29, 14) (52, 162)\n",
      "A   29 by   14 Rectangle cornered at (  52,  162).\n",
      "A   47 by   32 Rectangle cornered at (  43,  153).\n",
      "\n",
      "[ 5 -9] (44, 15) (150, 175)\n",
      "A   44 by   15 Rectangle cornered at ( 150,  175).\n",
      "A   62 by   33 Rectangle cornered at ( 141,  166).\n",
      "\n",
      "[-6  6] (33, 30) (265, 147)\n",
      "A   33 by   30 Rectangle cornered at ( 265,  147).\n",
      "A   51 by   48 Rectangle cornered at ( 256,  138).\n",
      "\n",
      "[-20   5] (19, 29) (228, 121)\n",
      "A   19 by   29 Rectangle cornered at ( 228,  121).\n",
      "A   37 by   47 Rectangle cornered at ( 219,  112).\n",
      "\n",
      "[-7  2] (32, 26) (202, 4)\n",
      "A   32 by   26 Rectangle cornered at ( 202,    4).\n",
      "A   50 by   44 Rectangle cornered at ( 193,    0).\n",
      "\n",
      "[-3 -3] (36, 21) (79, 80)\n",
      "A   36 by   21 Rectangle cornered at (  79,   80).\n",
      "A   54 by   39 Rectangle cornered at (  70,   71).\n",
      "\n",
      "[-19   1] (20, 25) (60, 43)\n",
      "A   20 by   25 Rectangle cornered at (  60,   43).\n",
      "A   38 by   43 Rectangle cornered at (  51,   34).\n",
      "\n",
      "[-17   3] (22, 27) (262, 60)\n",
      "A   22 by   27 Rectangle cornered at ( 262,   60).\n",
      "A   40 by   45 Rectangle cornered at ( 253,   51).\n",
      "\n",
      "[ 4 -2] (43, 22) (32, 120)\n",
      "A   43 by   22 Rectangle cornered at (  32,  120).\n",
      "A   61 by   40 Rectangle cornered at (  23,  111).\n",
      "\n",
      "[-16   7] (23, 31) (18, 165)\n",
      "A   23 by   31 Rectangle cornered at (  18,  165).\n",
      "A   41 by   49 Rectangle cornered at (   9,  156).\n",
      "\n",
      "[-17   4] (22, 28) (281, 103)\n",
      "A   22 by   28 Rectangle cornered at ( 281,  103).\n",
      "A   40 by   46 Rectangle cornered at ( 272,   94).\n",
      "\n",
      "[-19   2] (20, 26) (6, 10)\n",
      "A   20 by   26 Rectangle cornered at (   6,   10).\n",
      "A   38 by   44 Rectangle cornered at (   0,    1).\n",
      "\n",
      "[ 1 -7] (40, 17) (184, 41)\n",
      "A   40 by   17 Rectangle cornered at ( 184,   41).\n",
      "A   58 by   35 Rectangle cornered at ( 175,   32).\n",
      "\n",
      "[-9  3] (30, 27) (103, 172)\n",
      "A   30 by   27 Rectangle cornered at ( 103,  172).\n",
      "A   48 by   45 Rectangle cornered at (  94,  163).\n",
      "\n",
      "[-5 -9] (34, 15) (141, 96)\n",
      "A   34 by   15 Rectangle cornered at ( 141,   96).\n",
      "A   52 by   33 Rectangle cornered at ( 132,   87).\n",
      "\n",
      "[-19   3] (20, 27) (234, 167)\n",
      "A   20 by   27 Rectangle cornered at ( 234,  167).\n",
      "A   38 by   45 Rectangle cornered at ( 225,  158).\n",
      "\n",
      "[-19   5] (20, 29) (184, 129)\n",
      "A   20 by   29 Rectangle cornered at ( 184,  129).\n",
      "A   38 by   47 Rectangle cornered at ( 175,  120).\n",
      "\n",
      "[-9 -8] (30, 16) (162, 14)\n",
      "A   30 by   16 Rectangle cornered at ( 162,   14).\n",
      "A   48 by   34 Rectangle cornered at ( 153,    5).\n",
      "\n",
      "[-4 -8] (35, 16) (12, 45)\n",
      "A   35 by   16 Rectangle cornered at (  12,   45).\n",
      "A   53 by   34 Rectangle cornered at (   3,   36).\n",
      "\n",
      "[-20  -8] (19, 16) (294, 76)\n",
      "A   19 by   16 Rectangle cornered at ( 294,   76).\n",
      "A   37 by   34 Rectangle cornered at ( 285,   67).\n",
      "\n",
      "[-19   9] (20, 33) (86, 117)\n",
      "A   20 by   33 Rectangle cornered at (  86,  117).\n",
      "A   38 by   51 Rectangle cornered at (  77,  108).\n",
      "\n",
      "Attemped room generations 3993 times.\n"
     ]
    },
    {
     "data": {
      "image/png": "[encoded data removed]",
      "text/plain": [
       "<Figure size 1200x900 with 1 Axes>"
      ]
     },
     "metadata": {},
     "output_type": "display_data"
    }
   ],
   "source": [
    "d.genRooms(reset = True)\n",
    "plot.imshow(d.draw())\n",
    "plot.show()"
   ]
  },
  {
   "cell_type": "code",
   "execution_count": 29,
   "id": "bd91aed5-0ec8-4423-bc4a-87657a1722f0",
   "metadata": {
    "tags": []
   },
   "outputs": [],
   "source": [
    "d.genHalls(reset = True)"
   ]
  },
  {
   "cell_type": "code",
   "execution_count": 30,
   "id": "a769faef-b9a7-448b-89ef-ff6a0121e30e",
   "metadata": {},
   "outputs": [
    {
     "data": {
      "image/png": "[encoded data removed]",
      "text/plain": [
       "<Figure size 1200x900 with 1 Axes>"
      ]
     },
     "metadata": {},
     "output_type": "display_data"
    },
    {
     "data": {
      "image/png": "[encoded data removed]",
      "text/plain": [
       "<Figure size 1200x900 with 1 Axes>"
      ]
     },
     "metadata": {},
     "output_type": "display_data"
    },
    {
     "data": {
      "image/png": "[encoded data removed]",
      "text/plain": [
       "<Figure size 1200x900 with 1 Axes>"
      ]
     },
     "metadata": {},
     "output_type": "display_data"
    },
    {
     "data": {
      "image/png": "[encoded data removed]",
      "text/plain": [
       "<Figure size 1200x900 with 1 Axes>"
      ]
     },
     "metadata": {},
     "output_type": "display_data"
    },
    {
     "data": {
      "image/png": "[encoded data removed]",
      "text/plain": [
       "<Figure size 1200x900 with 1 Axes>"
      ]
     },
     "metadata": {},
     "output_type": "display_data"
    }
   ],
   "source": [
    "plot.imshow(d.draw())\n",
    "plot.show()\n",
    "plot.imshow(d.draw(\"nowalls\"))\n",
    "plot.show()\n",
    "plot.imshow(d.draw(\"doors\"))\n",
    "plot.show()\n",
    "plot.imshow(d.draw(\"hallonly\"))\n",
    "plot.show()\n",
    "plot.imshow(d.draw(\"dooronly\"))\n",
    "plot.show()"
   ]
  },
  {
   "cell_type": "code",
   "execution_count": 31,
   "id": "54afbf8f-74e6-496e-ae25-17eefc21bcc2",
   "metadata": {},
   "outputs": [
    {
     "data": {
      "text/plain": [
       "\u001b[0;31mSignature:\u001b[0m  \u001b[0mCatacombs\u001b[0m\u001b[0;34m.\u001b[0m\u001b[0mdraw\u001b[0m\u001b[0;34m(\u001b[0m\u001b[0mself\u001b[0m\u001b[0;34m,\u001b[0m \u001b[0mmode\u001b[0m\u001b[0;34m:\u001b[0m \u001b[0mstr\u001b[0m \u001b[0;34m=\u001b[0m \u001b[0;34m''\u001b[0m\u001b[0;34m)\u001b[0m \u001b[0;34m->\u001b[0m \u001b[0;34m<\u001b[0m\u001b[0mbuilt\u001b[0m\u001b[0;34m-\u001b[0m\u001b[0;32min\u001b[0m \u001b[0mfunction\u001b[0m \u001b[0marray\u001b[0m\u001b[0;34m>\u001b[0m\u001b[0;34m\u001b[0m\u001b[0;34m\u001b[0m\u001b[0m\n",
       "\u001b[0;31mDocstring:\u001b[0m\n",
       "Produce a 2D boolean numpy array mask of the dungeon.\n",
       "Modes are as follows:\n",
       "\n",
       "(Note: mode strings can be mix of capitalization:\n",
       "        ex. \"doors\" or \"Doors\" or \"DOORS\"\n",
       ")\n",
       "\n",
       "* default (\"\"): draw the walls of rooms and hallways\n",
       "* \"hallonly\"  : draw only the hallways\n",
       "* \"nowalls\"   : draw the floors of rooms and hallways\n",
       "* \"doors\"     : draw the floors of rooms and their doorways\n",
       "* \"dooronly\"  : draw only the doorways\n",
       "\u001b[0;31mFile:\u001b[0m      ~/Desktop/ccDunGen/ccDGLevels.py\n",
       "\u001b[0;31mType:\u001b[0m      function\n"
      ]
     },
     "metadata": {},
     "output_type": "display_data"
    }
   ],
   "source": [
    "? Catacombs.draw"
   ]
  },
  {
   "cell_type": "code",
   "execution_count": 32,
   "id": "1509ef0e-8f50-4807-9818-61c0cfd6aba6",
   "metadata": {},
   "outputs": [],
   "source": [
    "import ccDGLevels as levels"
   ]
  },
  {
   "cell_type": "code",
   "execution_count": 33,
   "id": "ed8fd8f7-58ef-4e9e-801c-9c3c771e4954",
   "metadata": {},
   "outputs": [
    {
     "data": {
      "text/plain": [
       "\u001b[0;31mInit signature:\u001b[0m  \u001b[0mlevels\u001b[0m\u001b[0;34m.\u001b[0m\u001b[0mRectangle\u001b[0m\u001b[0;34m(\u001b[0m\u001b[0mx\u001b[0m\u001b[0;34m:\u001b[0m \u001b[0mint\u001b[0m\u001b[0;34m,\u001b[0m \u001b[0my\u001b[0m\u001b[0;34m:\u001b[0m \u001b[0mint\u001b[0m\u001b[0;34m,\u001b[0m \u001b[0mw\u001b[0m\u001b[0;34m:\u001b[0m \u001b[0mint\u001b[0m\u001b[0;34m,\u001b[0m \u001b[0mh\u001b[0m\u001b[0;34m:\u001b[0m \u001b[0mint\u001b[0m\u001b[0;34m)\u001b[0m\u001b[0;34m\u001b[0m\u001b[0;34m\u001b[0m\u001b[0m\n",
       "\u001b[0;31mDocstring:\u001b[0m      Numpy supporting rectangle class\n",
       "\u001b[0;31mInit docstring:\u001b[0m\n",
       "Needs a coordinate for the northwest corner (nearest to origin),\n",
       "a width, and height\n",
       "\u001b[0;31mFile:\u001b[0m           ~/Desktop/ccDunGen/ccDGGeom.py\n",
       "\u001b[0;31mType:\u001b[0m           type\n",
       "\u001b[0;31mSubclasses:\u001b[0m     \n"
      ]
     },
     "metadata": {},
     "output_type": "display_data"
    }
   ],
   "source": [
    "? levels.Rectangle"
   ]
  },
  {
   "cell_type": "code",
   "execution_count": 34,
   "id": "49a6a710-12d3-4b26-8ebd-5e6587fbeec6",
   "metadata": {},
   "outputs": [
    {
     "name": "stdout",
     "output_type": "stream",
     "text": [
      "Help on class Rectangle in module ccDGGeom:\n",
      "\n",
      "class Rectangle(Shape)\n",
      " |  Rectangle(x: int, y: int, w: int, h: int)\n",
      " |  \n",
      " |  Numpy supporting rectangle class\n",
      " |  \n",
      " |  Method resolution order:\n",
      " |      Rectangle\n",
      " |      Shape\n",
      " |      builtins.object\n",
      " |  \n",
      " |  Methods defined here:\n",
      " |  \n",
      " |  __init__(self, x: int, y: int, w: int, h: int)\n",
      " |      Needs a coordinate for the northwest corner (nearest to origin),\n",
      " |      a width, and height\n",
      " |  \n",
      " |  __repr__(self) -> str\n",
      " |      Generic representation (just uses __str__)\n",
      " |  \n",
      " |  __str__(self) -> str\n",
      " |      String representation\n",
      " |  \n",
      " |  getCentroid(self) -> ccDGGeom.Point\n",
      " |      Determine the center cell of the rectangle\n",
      " |  \n",
      " |  getMaskEdge(self, fw: int = 0, fh: int = 0) -> <built-in function array>\n",
      " |      Get a binary numpy mask array with the rectangle's edge only,\n",
      " |      to arbitrary frame size\n",
      " |  \n",
      " |  getMaskFill(self, fw: int = 0, fh: int = 0) -> <built-in function array>\n",
      " |      Get a binary numpy mask array with the rectangle filled in,\n",
      " |      to arbitrary frame size\n",
      " |  \n",
      " |  getMinFrame(self) -> ccDGGeom.Point\n",
      " |      Determine the minimum graphic frame for the rectangle\n",
      " |  \n",
      " |  getNearestWall(self, other) -> tuple\n",
      " |      Determine the closest wall that faces another rectangle\n",
      " |  \n",
      " |  percentOverlap(self, other) -> float\n",
      " |      Compute the percentage of how much of this rectangle overlaps with another\n",
      " |  \n",
      " |  refreshEdgeCells(self)\n",
      " |      Make six sets detailing the coordinates of cells on the edge of the rectangle\n",
      " |  \n",
      " |  ----------------------------------------------------------------------\n",
      " |  Methods inherited from Shape:\n",
      " |  \n",
      " |  __and__(self, other) -> bool\n",
      " |      Turn the overlap method into an operator (not commutative!)\n",
      " |      (IT IS, YOU IDIOT!!)\n",
      " |  \n",
      " |  getAzimuth(self, other) -> float\n",
      " |      Determine the bearing towards another shape (its centroid in particular)\n",
      " |      \n",
      " |      To go from trig angles (\n",
      " |              start at 3 o'clock, counterclockwise\n",
      " |      ) to azimuths (\n",
      " |              start at 6 o'clock (\n",
      " |                      not noon since y increseas downward in graphics\n",
      " |              ), clockwise (\n",
      " |                      but this is cancelled out by Graphics Space being right-handed,\n",
      " |                      compared to Cartesian Space, which is left-handed;\n",
      " |                      In right-handed trig, angles increase clockwise (think about it!)\n",
      " |              )\n",
      " |      ), we need to rotate 90 degrees to the right to bring the trig 0-axis\n",
      " |      to meet the place for the azimuth 0-axis.\n",
      " |      \n",
      " |      Mathematcially, this is $       heta - 90$.\n",
      " |      Since we don't want negative azimuths, we mod by 360 to wind negatives around.\n",
      " |  \n",
      " |  isInBounds(self, frame: ccDGGeom.Point) -> bool\n",
      " |      Determine if the shape fits with an arbitrary frame\n",
      " |  \n",
      " |  overlaps(self, other) -> bool\n",
      " |      Use the mask method to determine if this rectangle overlaps with another\n",
      " |  \n",
      " |  ----------------------------------------------------------------------\n",
      " |  Data descriptors inherited from Shape:\n",
      " |  \n",
      " |  __dict__\n",
      " |      dictionary for instance variables (if defined)\n",
      " |  \n",
      " |  __weakref__\n",
      " |      list of weak references to the object (if defined)\n",
      "\n"
     ]
    }
   ],
   "source": [
    "help(levels.Rectangle)"
   ]
  },
  {
   "cell_type": "code",
   "execution_count": 35,
   "id": "6a49e0e9-2430-4951-98c0-366801df6ee6",
   "metadata": {},
   "outputs": [
    {
     "name": "stdout",
     "output_type": "stream",
     "text": [
      "Help on class Circle in module ccDGGeom:\n",
      "\n",
      "class Circle(Shape)\n",
      " |  Circle(x: int, y: int, r: int)\n",
      " |  \n",
      " |  Numpy supporting circle class\n",
      " |  \n",
      " |  Method resolution order:\n",
      " |      Circle\n",
      " |      Shape\n",
      " |      builtins.object\n",
      " |  \n",
      " |  Methods defined here:\n",
      " |  \n",
      " |  __init__(self, x: int, y: int, r: int)\n",
      " |      Needs a coordinate and radius\n",
      " |  \n",
      " |  __repr__(self)\n",
      " |      Generic representation (just uses __str__)\n",
      " |  \n",
      " |  __str__(self)\n",
      " |      String representation\n",
      " |  \n",
      " |  getAngledEdgeCell(self, azimuth: float) -> ccDGGeom.Point\n",
      " |      Determine the best edge cell of this circle given a bearing\n",
      " |  \n",
      " |  getCentroid(self) -> ccDGGeom.Point\n",
      " |      Return the center cell of the cirlce\n",
      " |  \n",
      " |  getMaskEdge(self, fw: int = 0, fh: int = 0) -> <built-in function array>\n",
      " |      Get a binary numpy mask array with the circle's edge only,\n",
      " |      to arbitrary frame size\n",
      " |  \n",
      " |  getMaskFill(self, fw: int = 0, fh: int = 0) -> <built-in function array>\n",
      " |      Use flood fill to get a binary numpy mask array with the circle filled in,\n",
      " |      to arbitrary frame size\n",
      " |  \n",
      " |  getMinFrame(self) -> ccDGGeom.Point\n",
      " |      Determine the minimum graphic frame for the circle\n",
      " |  \n",
      " |  refreshEdgeCells(self, charliesMethod: bool = True)\n",
      " |      Use a version of the midpoint circle algorithm to compute\n",
      " |      the edge cells of the circle\n",
      " |  \n",
      " |  ----------------------------------------------------------------------\n",
      " |  Methods inherited from Shape:\n",
      " |  \n",
      " |  __and__(self, other) -> bool\n",
      " |      Turn the overlap method into an operator (not commutative!)\n",
      " |      (IT IS, YOU IDIOT!!)\n",
      " |  \n",
      " |  getAzimuth(self, other) -> float\n",
      " |      Determine the bearing towards another shape (its centroid in particular)\n",
      " |      \n",
      " |      To go from trig angles (\n",
      " |              start at 3 o'clock, counterclockwise\n",
      " |      ) to azimuths (\n",
      " |              start at 6 o'clock (\n",
      " |                      not noon since y increseas downward in graphics\n",
      " |              ), clockwise (\n",
      " |                      but this is cancelled out by Graphics Space being right-handed,\n",
      " |                      compared to Cartesian Space, which is left-handed;\n",
      " |                      In right-handed trig, angles increase clockwise (think about it!)\n",
      " |              )\n",
      " |      ), we need to rotate 90 degrees to the right to bring the trig 0-axis\n",
      " |      to meet the place for the azimuth 0-axis.\n",
      " |      \n",
      " |      Mathematcially, this is $       heta - 90$.\n",
      " |      Since we don't want negative azimuths, we mod by 360 to wind negatives around.\n",
      " |  \n",
      " |  isInBounds(self, frame: ccDGGeom.Point) -> bool\n",
      " |      Determine if the shape fits with an arbitrary frame\n",
      " |  \n",
      " |  overlaps(self, other) -> bool\n",
      " |      Use the mask method to determine if this rectangle overlaps with another\n",
      " |  \n",
      " |  ----------------------------------------------------------------------\n",
      " |  Data descriptors inherited from Shape:\n",
      " |  \n",
      " |  __dict__\n",
      " |      dictionary for instance variables (if defined)\n",
      " |  \n",
      " |  __weakref__\n",
      " |      list of weak references to the object (if defined)\n",
      "\n"
     ]
    }
   ],
   "source": [
    "help(levels.Circle)"
   ]
  },
  {
   "cell_type": "code",
   "execution_count": 36,
   "id": "6a5bbf07-c4ba-427b-82b4-26c490722ecf",
   "metadata": {},
   "outputs": [
    {
     "name": "stdout",
     "output_type": "stream",
     "text": [
      "Help on class Shape in module ccDGGeom:\n",
      "\n",
      "class Shape(builtins.object)\n",
      " |  Base shape class\n",
      " |  \n",
      " |  Methods defined here:\n",
      " |  \n",
      " |  __and__(self, other) -> bool\n",
      " |      Turn the overlap method into an operator (not commutative!)\n",
      " |      (IT IS, YOU IDIOT!!)\n",
      " |  \n",
      " |  getAzimuth(self, other) -> float\n",
      " |      Determine the bearing towards another shape (its centroid in particular)\n",
      " |      \n",
      " |      To go from trig angles (\n",
      " |              start at 3 o'clock, counterclockwise\n",
      " |      ) to azimuths (\n",
      " |              start at 6 o'clock (\n",
      " |                      not noon since y increseas downward in graphics\n",
      " |              ), clockwise (\n",
      " |                      but this is cancelled out by Graphics Space being right-handed,\n",
      " |                      compared to Cartesian Space, which is left-handed;\n",
      " |                      In right-handed trig, angles increase clockwise (think about it!)\n",
      " |              )\n",
      " |      ), we need to rotate 90 degrees to the right to bring the trig 0-axis\n",
      " |      to meet the place for the azimuth 0-axis.\n",
      " |      \n",
      " |      Mathematcially, this is $       heta - 90$.\n",
      " |      Since we don't want negative azimuths, we mod by 360 to wind negatives around.\n",
      " |  \n",
      " |  getCentroid(self) -> ccDGGeom.Point\n",
      " |      Placeholder, subclass must implement!\n",
      " |  \n",
      " |  getMaskFill(self, fw: int = 0, fh: int = 0) -> <built-in function array>\n",
      " |      Placeholder, subclass must implement!\n",
      " |  \n",
      " |  getMinFrame(self) -> ccDGGeom.Point\n",
      " |      Placeholder, subclass must implement!\n",
      " |  \n",
      " |  isInBounds(self, frame: ccDGGeom.Point) -> bool\n",
      " |      Determine if the shape fits with an arbitrary frame\n",
      " |  \n",
      " |  overlaps(self, other) -> bool\n",
      " |      Use the mask method to determine if this rectangle overlaps with another\n",
      " |  \n",
      " |  ----------------------------------------------------------------------\n",
      " |  Data descriptors defined here:\n",
      " |  \n",
      " |  __dict__\n",
      " |      dictionary for instance variables (if defined)\n",
      " |  \n",
      " |  __weakref__\n",
      " |      list of weak references to the object (if defined)\n",
      "\n"
     ]
    }
   ],
   "source": [
    "from ccDGGeom import Shape\n",
    "help(Shape)"
   ]
  },
  {
   "cell_type": "code",
   "execution_count": 38,
   "id": "9a21eabe-00b0-43c1-b5c2-c2bcd568d688",
   "metadata": {},
   "outputs": [
    {
     "data": {
      "text/plain": [
       "(A    2 cell long line starting from (0, 0) headed north.,\n",
       " A    3 cell long line starting from (0, 0) headed east.,\n",
       " A    4 cell long line starting from (0, 0) headed south.,\n",
       " A    5 cell long line starting from (0, 0) headed west.)"
      ]
     },
     "execution_count": 38,
     "metadata": {},
     "output_type": "execute_result"
    }
   ],
   "source": [
    "(\n",
    "    levels.Line(0, 0, 2, 'n'),\n",
    "    levels.Line(0, 0, 3, 'e'),\n",
    "    levels.Line(0, 0, 4, 's'),\n",
    "    levels.Line(0, 0, 5, 'w'),\n",
    ")"
   ]
  },
  {
   "cell_type": "code",
   "execution_count": null,
   "id": "8ceb2e39-71ab-4686-9ba2-f00a8761c9e7",
   "metadata": {},
   "outputs": [],
   "source": []
  }
 ],
 "metadata": {
  "kernelspec": {
   "display_name": "Python 3 (ipykernel)",
   "language": "python",
   "name": "python3"
  },
  "language_info": {
   "codemirror_mode": {
    "name": "ipython",
    "version": 3
   },
   "file_extension": ".py",
   "mimetype": "text/x-python",
   "name": "python",
   "nbconvert_exporter": "python",
   "pygments_lexer": "ipython3",
   "version": "3.10.9"
  }
 },
 "nbformat": 4,
 "nbformat_minor": 5
}
