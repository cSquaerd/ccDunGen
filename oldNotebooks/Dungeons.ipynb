{
 "cells": [
  {
   "cell_type": "code",
   "execution_count": 1,
   "id": "3e52258b-0124-45b6-8cf3-e71011a8ebc7",
   "metadata": {},
   "outputs": [],
   "source": [
    "from ccDGGeom import np, Point, Rectangle, Line"
   ]
  },
  {
   "cell_type": "code",
   "execution_count": 2,
   "id": "9bffd804-06d9-482b-a274-cbb7cbfd8372",
   "metadata": {},
   "outputs": [
    {
     "data": {
      "text/plain": [
       "A   10 by    4 Rectangle cornered at (   3,    3)."
      ]
     },
     "execution_count": 2,
     "metadata": {},
     "output_type": "execute_result"
    }
   ],
   "source": [
    "r1 = Rectangle(3, 3, 10, 4)\n",
    "r1"
   ]
  },
  {
   "cell_type": "code",
   "execution_count": 3,
   "id": "a648a34a-21ab-4535-909f-52ad37fad513",
   "metadata": {},
   "outputs": [
    {
     "data": {
      "text/plain": [
       "(array([[_, _, _, _, _, _, _, _, _, _, _, _, _],\n",
       "        [_, _, _, _, _, _, _, _, _, _, _, _, _],\n",
       "        [_, _, _, _, _, _, _, _, _, _, _, _, _],\n",
       "        [_, _, _, #, #, #, #, #, #, #, #, #, #],\n",
       "        [_, _, _, #, #, #, #, #, #, #, #, #, #],\n",
       "        [_, _, _, #, #, #, #, #, #, #, #, #, #],\n",
       "        [_, _, _, #, #, #, #, #, #, #, #, #, #]]),\n",
       " array([[_, _, _, _, _, _, _, _, _, _, _, _, _],\n",
       "        [_, _, _, _, _, _, _, _, _, _, _, _, _],\n",
       "        [_, _, _, _, _, _, _, _, _, _, _, _, _],\n",
       "        [_, _, _, #, #, #, #, #, #, #, #, #, #],\n",
       "        [_, _, _, #, _, _, _, _, _, _, _, _, #],\n",
       "        [_, _, _, #, _, _, _, _, _, _, _, _, #],\n",
       "        [_, _, _, #, #, #, #, #, #, #, #, #, #]]))"
      ]
     },
     "execution_count": 3,
     "metadata": {},
     "output_type": "execute_result"
    }
   ],
   "source": [
    "r1.getMaskFill(), r1.getMaskEdge()"
   ]
  },
  {
   "cell_type": "code",
   "execution_count": 4,
   "id": "91f895c0-6922-4823-920f-b3ced030e243",
   "metadata": {},
   "outputs": [
    {
     "data": {
      "text/plain": [
       "{(12, 3), (12, 6), (3, 3), (3, 6)}"
      ]
     },
     "execution_count": 4,
     "metadata": {},
     "output_type": "execute_result"
    }
   ],
   "source": [
    "r1.corners"
   ]
  },
  {
   "cell_type": "code",
   "execution_count": 5,
   "id": "de1e1509-6a11-43e2-9ee8-57e73249185b",
   "metadata": {},
   "outputs": [
    {
     "data": {
      "text/plain": [
       "(13, 7)"
      ]
     },
     "execution_count": 5,
     "metadata": {},
     "output_type": "execute_result"
    }
   ],
   "source": [
    "r1.getMinFrame()"
   ]
  },
  {
   "cell_type": "code",
   "execution_count": 6,
   "id": "4aef5006-5b89-4413-8718-d7b0b6176c0c",
   "metadata": {},
   "outputs": [
    {
     "data": {
      "text/plain": [
       "(26, 14)"
      ]
     },
     "execution_count": 6,
     "metadata": {},
     "output_type": "execute_result"
    }
   ],
   "source": [
    "_ * 2"
   ]
  },
  {
   "cell_type": "code",
   "execution_count": 7,
   "id": "c76ca323-2555-4977-bd4e-92c7eb95f397",
   "metadata": {},
   "outputs": [
    {
     "data": {
      "text/plain": [
       "(6, 6)"
      ]
     },
     "execution_count": 7,
     "metadata": {},
     "output_type": "execute_result"
    }
   ],
   "source": [
    "r1.origin + r1.origin"
   ]
  },
  {
   "cell_type": "code",
   "execution_count": 8,
   "id": "c2199d71-22e5-4f9d-bd82-760a5124469c",
   "metadata": {},
   "outputs": [
    {
     "data": {
      "text/plain": [
       "(0, 0)"
      ]
     },
     "execution_count": 8,
     "metadata": {},
     "output_type": "execute_result"
    }
   ],
   "source": [
    "r1.origin - r1.origin"
   ]
  },
  {
   "cell_type": "code",
   "execution_count": 9,
   "id": "09ce138d-ab17-4eaf-bb8b-7a448e49be34",
   "metadata": {},
   "outputs": [
    {
     "data": {
      "text/plain": [
       "(True, True, False)"
      ]
     },
     "execution_count": 9,
     "metadata": {},
     "output_type": "execute_result"
    }
   ],
   "source": [
    "r1.isInBounds(Point(13, 7)), r1.isInBounds(Point(15, 10)), r1.isInBounds(Point(10, 15))"
   ]
  },
  {
   "cell_type": "code",
   "execution_count": 10,
   "id": "de667aa4-b44e-41ac-be95-550c8090c326",
   "metadata": {},
   "outputs": [
    {
     "data": {
      "text/plain": [
       "A    4 by    3 Rectangle cornered at (   6,    0)."
      ]
     },
     "execution_count": 10,
     "metadata": {},
     "output_type": "execute_result"
    }
   ],
   "source": [
    "r2 = Rectangle(6, 0, 4, 3)\n",
    "r2"
   ]
  },
  {
   "cell_type": "code",
   "execution_count": 11,
   "id": "f892bae5-9ea6-482c-a73a-6c882eae0bd2",
   "metadata": {},
   "outputs": [
    {
     "data": {
      "text/plain": [
       "(array([[_, _, _, _, _, _, #, #, #, #],\n",
       "        [_, _, _, _, _, _, #, #, #, #],\n",
       "        [_, _, _, _, _, _, #, #, #, #]]),\n",
       " array([[_, _, _, _, _, _, #, #, #, #],\n",
       "        [_, _, _, _, _, _, #, _, _, #],\n",
       "        [_, _, _, _, _, _, #, #, #, #]]))"
      ]
     },
     "execution_count": 11,
     "metadata": {},
     "output_type": "execute_result"
    }
   ],
   "source": [
    "r2.getMaskFill(), r2.getMaskEdge()"
   ]
  },
  {
   "cell_type": "code",
   "execution_count": 12,
   "id": "9e9e4a09-a071-46a7-97e0-65612bcc24bd",
   "metadata": {},
   "outputs": [
    {
     "data": {
      "text/plain": [
       "False"
      ]
     },
     "execution_count": 12,
     "metadata": {},
     "output_type": "execute_result"
    }
   ],
   "source": [
    "r1 & r2"
   ]
  },
  {
   "cell_type": "code",
   "execution_count": 13,
   "id": "e4d2b9d9-04e1-4bd7-9424-4c03a10a3630",
   "metadata": {},
   "outputs": [
    {
     "data": {
      "text/plain": [
       "A    4 by    6 Rectangle cornered at (   6,    0)."
      ]
     },
     "execution_count": 13,
     "metadata": {},
     "output_type": "execute_result"
    }
   ],
   "source": [
    "r3 = Rectangle(6, 0, 4, 6)\n",
    "r3"
   ]
  },
  {
   "cell_type": "code",
   "execution_count": 14,
   "id": "c33f251e-5774-4960-aea0-91d1dbec1a1b",
   "metadata": {},
   "outputs": [
    {
     "data": {
      "text/plain": [
       "(array([[_, _, _, _, _, _, #, #, #, #],\n",
       "        [_, _, _, _, _, _, #, #, #, #],\n",
       "        [_, _, _, _, _, _, #, #, #, #],\n",
       "        [_, _, _, _, _, _, #, #, #, #],\n",
       "        [_, _, _, _, _, _, #, #, #, #],\n",
       "        [_, _, _, _, _, _, #, #, #, #]]),\n",
       " array([[_, _, _, _, _, _, #, #, #, #],\n",
       "        [_, _, _, _, _, _, #, _, _, #],\n",
       "        [_, _, _, _, _, _, #, _, _, #],\n",
       "        [_, _, _, _, _, _, #, _, _, #],\n",
       "        [_, _, _, _, _, _, #, _, _, #],\n",
       "        [_, _, _, _, _, _, #, #, #, #]]))"
      ]
     },
     "execution_count": 14,
     "metadata": {},
     "output_type": "execute_result"
    }
   ],
   "source": [
    "r3.getMaskFill(), r3.getMaskEdge()"
   ]
  },
  {
   "cell_type": "code",
   "execution_count": 15,
   "id": "998d0bba-d233-49c1-aa15-19fef8f806b1",
   "metadata": {},
   "outputs": [
    {
     "data": {
      "text/plain": [
       "True"
      ]
     },
     "execution_count": 15,
     "metadata": {},
     "output_type": "execute_result"
    }
   ],
   "source": [
    "r1 & r3"
   ]
  },
  {
   "cell_type": "code",
   "execution_count": 16,
   "id": "778a9559-05c9-402b-965c-3bb0e29b0766",
   "metadata": {},
   "outputs": [
    {
     "data": {
      "text/plain": [
       "array([[_, _, _, _, _, _, #, #, #, #],\n",
       "       [_, _, _, _, _, _, #, _, _, #],\n",
       "       [_, _, _, _, _, _, #, #, #, #],\n",
       "       [_, _, _, #, #, #, #, #, #, #],\n",
       "       [_, _, _, #, _, _, #, _, _, #],\n",
       "       [_, _, _, #, _, _, #, #, #, #],\n",
       "       [_, _, _, #, #, #, #, #, #, #],\n",
       "       [_, _, _, _, _, _, _, _, _, _],\n",
       "       [_, _, _, _, _, _, _, _, _, _],\n",
       "       [_, _, _, _, _, _, _, _, _, _]])"
      ]
     },
     "execution_count": 16,
     "metadata": {},
     "output_type": "execute_result"
    }
   ],
   "source": [
    "r1.getMaskEdge(10, 10) | r2.getMaskEdge(10, 10) | r3.getMaskEdge(10, 10)"
   ]
  },
  {
   "cell_type": "code",
   "execution_count": 17,
   "id": "9abc47e7-ee2b-46d7-86ec-41e885e713b5",
   "metadata": {},
   "outputs": [
    {
     "data": {
      "text/plain": [
       "<ccDGGeom.Line at 0x7f8afc7f0f10>"
      ]
     },
     "execution_count": 17,
     "metadata": {},
     "output_type": "execute_result"
    }
   ],
   "source": [
    "l1 = Line(2, 2, 3, 'w')\n",
    "l1"
   ]
  },
  {
   "cell_type": "code",
   "execution_count": 18,
   "id": "6f762e4a-1c26-4d9e-a99a-17f26359a47e",
   "metadata": {},
   "outputs": [
    {
     "data": {
      "text/plain": [
       "((2, 2), 3, (-1, 0))"
      ]
     },
     "execution_count": 18,
     "metadata": {},
     "output_type": "execute_result"
    }
   ],
   "source": [
    "l1.origin, l1.length, l1.orient"
   ]
  },
  {
   "cell_type": "code",
   "execution_count": 19,
   "id": "c569fef0-4f7e-408c-b589-94455fcde5d5",
   "metadata": {},
   "outputs": [
    {
     "data": {
      "text/plain": [
       "array([[_, _, _],\n",
       "       [_, _, _],\n",
       "       [#, #, #]])"
      ]
     },
     "execution_count": 19,
     "metadata": {},
     "output_type": "execute_result"
    }
   ],
   "source": [
    "l1.getMask()"
   ]
  },
  {
   "cell_type": "code",
   "execution_count": 20,
   "id": "38b2e91d-b91e-4c0b-befb-546502264364",
   "metadata": {},
   "outputs": [
    {
     "data": {
      "text/plain": [
       "False"
      ]
     },
     "execution_count": 20,
     "metadata": {},
     "output_type": "execute_result"
    }
   ],
   "source": [
    "l1 & r1"
   ]
  },
  {
   "cell_type": "code",
   "execution_count": 21,
   "id": "03bf7008-03f2-4b97-830b-843f74eb03f5",
   "metadata": {},
   "outputs": [
    {
     "data": {
      "text/plain": [
       "(3, 3)"
      ]
     },
     "execution_count": 21,
     "metadata": {},
     "output_type": "execute_result"
    }
   ],
   "source": [
    "l1.getMinFrame()"
   ]
  },
  {
   "cell_type": "code",
   "execution_count": 22,
   "id": "d3c8e56e-3e81-472a-b1d9-19a55e4c6a80",
   "metadata": {},
   "outputs": [
    {
     "data": {
      "text/plain": [
       "(False, True)"
      ]
     },
     "execution_count": 22,
     "metadata": {},
     "output_type": "execute_result"
    }
   ],
   "source": [
    "l1.isInBounds(Point(1, 3)), l1.isInBounds(Point(3, 3))"
   ]
  },
  {
   "cell_type": "code",
   "execution_count": 23,
   "id": "6ceb85ae-c694-4c2d-83c2-df40095c41b7",
   "metadata": {},
   "outputs": [],
   "source": [
    "l2 = Line(3, 3, 4, 'e')"
   ]
  },
  {
   "cell_type": "code",
   "execution_count": 24,
   "id": "b9125b5f-c726-4dad-ab2a-7310dc8bd415",
   "metadata": {},
   "outputs": [
    {
     "data": {
      "text/plain": [
       "array([[_, _, _, _, _, _, _],\n",
       "       [_, _, _, _, _, _, _],\n",
       "       [_, _, _, _, _, _, _],\n",
       "       [_, _, _, #, #, #, #]])"
      ]
     },
     "execution_count": 24,
     "metadata": {},
     "output_type": "execute_result"
    }
   ],
   "source": [
    "l2.getMask()"
   ]
  },
  {
   "cell_type": "code",
   "execution_count": 25,
   "id": "c45cec93-b921-44a1-a51f-86e546be091f",
   "metadata": {},
   "outputs": [
    {
     "data": {
      "text/plain": [
       "True"
      ]
     },
     "execution_count": 25,
     "metadata": {},
     "output_type": "execute_result"
    }
   ],
   "source": [
    "l2 & r1"
   ]
  },
  {
   "cell_type": "code",
   "execution_count": 26,
   "id": "d9c7a05d-b1f1-4da3-9ecf-66ddd7044716",
   "metadata": {},
   "outputs": [
    {
     "data": {
      "text/plain": [
       "False"
      ]
     },
     "execution_count": 26,
     "metadata": {},
     "output_type": "execute_result"
    }
   ],
   "source": [
    "l2 & r2"
   ]
  },
  {
   "cell_type": "code",
   "execution_count": 27,
   "id": "de7baf30-3648-4c54-bb7a-4cb4c1267ad5",
   "metadata": {},
   "outputs": [
    {
     "data": {
      "text/plain": [
       "True"
      ]
     },
     "execution_count": 27,
     "metadata": {},
     "output_type": "execute_result"
    }
   ],
   "source": [
    "l2 & r3"
   ]
  },
  {
   "cell_type": "code",
   "execution_count": 28,
   "id": "391dc197-53fc-43dd-a5df-fb455ed67d42",
   "metadata": {},
   "outputs": [
    {
     "data": {
      "text/plain": [
       "((2, 2), (3, 3))"
      ]
     },
     "execution_count": 28,
     "metadata": {},
     "output_type": "execute_result"
    }
   ],
   "source": [
    "l1.origin, r1.origin"
   ]
  },
  {
   "cell_type": "code",
   "execution_count": 29,
   "id": "6ecc4568-0a11-460f-b55d-7b03f48b8845",
   "metadata": {},
   "outputs": [
    {
     "data": {
      "text/plain": [
       "array([#, #])"
      ]
     },
     "execution_count": 29,
     "metadata": {},
     "output_type": "execute_result"
    }
   ],
   "source": [
    "l1.origin.npar < r1.origin.npar"
   ]
  },
  {
   "cell_type": "code",
   "execution_count": 30,
   "id": "7c80eedd-c021-4734-a891-e8ea0052a2f7",
   "metadata": {},
   "outputs": [],
   "source": [
    "#?np.all"
   ]
  },
  {
   "cell_type": "code",
   "execution_count": 31,
   "id": "bdc7bf0c-680a-4e74-a4df-de23f74414db",
   "metadata": {},
   "outputs": [
    {
     "data": {
      "text/plain": [
       "True"
      ]
     },
     "execution_count": 31,
     "metadata": {},
     "output_type": "execute_result"
    }
   ],
   "source": [
    "np.all(l1.origin.npar < r1.origin.npar)"
   ]
  },
  {
   "cell_type": "code",
   "execution_count": 32,
   "id": "cb1c0ef8-6e85-47b1-afc9-00cc2ea9da24",
   "metadata": {},
   "outputs": [
    {
     "data": {
      "text/plain": [
       "True"
      ]
     },
     "execution_count": 32,
     "metadata": {},
     "output_type": "execute_result"
    }
   ],
   "source": [
    "l2.isInBounds(r1.getMinFrame())"
   ]
  },
  {
   "cell_type": "code",
   "execution_count": 33,
   "id": "516314b6-df57-4904-a966-4bc56d9e0a6d",
   "metadata": {},
   "outputs": [],
   "source": [
    "l3 = Line(2, 2, 4, 'n')"
   ]
  },
  {
   "cell_type": "code",
   "execution_count": 34,
   "id": "b533eb56-f8f9-437a-8f98-6fbbb436f5a8",
   "metadata": {},
   "outputs": [
    {
     "data": {
      "text/plain": [
       "True"
      ]
     },
     "execution_count": 34,
     "metadata": {},
     "output_type": "execute_result"
    }
   ],
   "source": [
    "l3.isInBounds(l3.getMinFrame())"
   ]
  },
  {
   "cell_type": "code",
   "execution_count": 35,
   "id": "d1c1231d-9521-4518-b0d9-c9e32a6f8591",
   "metadata": {},
   "outputs": [
    {
     "data": {
      "text/plain": [
       "(2, -1)"
      ]
     },
     "execution_count": 35,
     "metadata": {},
     "output_type": "execute_result"
    }
   ],
   "source": [
    "l3.getEndpoint()"
   ]
  },
  {
   "cell_type": "code",
   "execution_count": 36,
   "id": "d4e0014a-9d97-425e-ba6a-6345a456108c",
   "metadata": {},
   "outputs": [
    {
     "data": {
      "text/plain": [
       "array([[_, _, #],\n",
       "       [_, _, #],\n",
       "       [_, _, #]])"
      ]
     },
     "execution_count": 36,
     "metadata": {},
     "output_type": "execute_result"
    }
   ],
   "source": [
    "l3.getMask()"
   ]
  },
  {
   "cell_type": "markdown",
   "id": "d890575a-f382-4fef-a44b-b32a12f95c1e",
   "metadata": {},
   "source": [
    "$\\pagebreak$"
   ]
  },
  {
   "cell_type": "code",
   "execution_count": 37,
   "id": "2b61d4dd-a75c-4705-b415-e1a107b40225",
   "metadata": {},
   "outputs": [],
   "source": [
    "room1 = Rectangle(2, 2, 8, 4)\n",
    "room2 = Rectangle(16, 2, 8, 10)\n",
    "room3 = Rectangle(4, 8, 7, 5)\n",
    "hall1 = Line(9, 3, 8, 'e')\n",
    "hall2 = Line(16, 8, 4, 'w')\n",
    "hall3 = Line(10, 11, 4, 'e')\n",
    "hall4 = Line(13, 8, 4, 's')\n",
    "rooms = (room1, room2, room3)\n",
    "halls = (hall1, hall2, hall3, hall4)"
   ]
  },
  {
   "cell_type": "code",
   "execution_count": 38,
   "id": "9e5e3f36-e89d-4814-8f37-39c6ae3874b2",
   "metadata": {},
   "outputs": [
    {
     "data": {
      "text/plain": [
       "(24, 13)"
      ]
     },
     "execution_count": 38,
     "metadata": {},
     "output_type": "execute_result"
    }
   ],
   "source": [
    "pMax = Point(0, 0)\n",
    "\n",
    "for r in rooms:\n",
    "    f = r.getMinFrame()\n",
    "    if np.any(f.npar > pMax.npar):\n",
    "        pMax = Point(max(f.x, pMax.x), max(f.y, pMax.y))\n",
    "\n",
    "for h in halls:\n",
    "    f = h.getMinFrame()\n",
    "    if np.any(f.npar > pMax.npar):\n",
    "        pMax = Point(max(f.x, pMax.x), max(f.y, pMax.y))\n",
    "        \n",
    "pMax"
   ]
  },
  {
   "cell_type": "code",
   "execution_count": 39,
   "id": "eeef59df-f6ec-4355-a274-974ca9657cf7",
   "metadata": {},
   "outputs": [],
   "source": [
    "frame = Point(28, 16)"
   ]
  },
  {
   "cell_type": "markdown",
   "id": "39c70d0a-d506-467f-9f16-44bfd02833e4",
   "metadata": {},
   "source": [
    "$\\pagebreak$"
   ]
  },
  {
   "cell_type": "code",
   "execution_count": 40,
   "id": "14d397bd-9d76-41e2-a99c-8c9799f9c342",
   "metadata": {},
   "outputs": [
    {
     "data": {
      "text/plain": [
       "(array([[_, _, _, _, _, _, _, _, _, _, _, _, _, _, _, _, _, _, _, _, _, _, _, _, _, _, _, _],\n",
       "        [_, _, _, _, _, _, _, _, _, _, _, _, _, _, _, _, _, _, _, _, _, _, _, _, _, _, _, _],\n",
       "        [_, _, #, #, #, #, #, #, #, #, _, _, _, _, _, _, #, #, #, #, #, #, #, #, _, _, _, _],\n",
       "        [_, _, #, _, _, _, _, _, _, #, _, _, _, _, _, _, #, _, _, _, _, _, _, #, _, _, _, _],\n",
       "        [_, _, #, _, _, _, _, _, _, #, _, _, _, _, _, _, #, _, _, _, _, _, _, #, _, _, _, _],\n",
       "        [_, _, #, #, #, #, #, #, #, #, _, _, _, _, _, _, #, _, _, _, _, _, _, #, _, _, _, _],\n",
       "        [_, _, _, _, _, _, _, _, _, _, _, _, _, _, _, _, #, _, _, _, _, _, _, #, _, _, _, _],\n",
       "        [_, _, _, _, _, _, _, _, _, _, _, _, _, _, _, _, #, _, _, _, _, _, _, #, _, _, _, _],\n",
       "        [_, _, _, _, #, #, #, #, #, #, #, _, _, _, _, _, #, _, _, _, _, _, _, #, _, _, _, _],\n",
       "        [_, _, _, _, #, _, _, _, _, _, #, _, _, _, _, _, #, _, _, _, _, _, _, #, _, _, _, _],\n",
       "        [_, _, _, _, #, _, _, _, _, _, #, _, _, _, _, _, #, _, _, _, _, _, _, #, _, _, _, _],\n",
       "        [_, _, _, _, #, _, _, _, _, _, #, _, _, _, _, _, #, #, #, #, #, #, #, #, _, _, _, _],\n",
       "        [_, _, _, _, #, #, #, #, #, #, #, _, _, _, _, _, _, _, _, _, _, _, _, _, _, _, _, _],\n",
       "        [_, _, _, _, _, _, _, _, _, _, _, _, _, _, _, _, _, _, _, _, _, _, _, _, _, _, _, _],\n",
       "        [_, _, _, _, _, _, _, _, _, _, _, _, _, _, _, _, _, _, _, _, _, _, _, _, _, _, _, _],\n",
       "        [_, _, _, _, _, _, _, _, _, _, _, _, _, _, _, _, _, _, _, _, _, _, _, _, _, _, _, _]]),\n",
       " array([[_, _, _, _, _, _, _, _, _, _, _, _, _, _, _, _, _, _, _, _, _, _, _, _, _, _, _, _],\n",
       "        [_, _, _, _, _, _, _, _, _, _, _, _, _, _, _, _, _, _, _, _, _, _, _, _, _, _, _, _],\n",
       "        [_, _, _, _, _, _, _, _, _, _, _, _, _, _, _, _, _, _, _, _, _, _, _, _, _, _, _, _],\n",
       "        [_, _, _, _, _, _, _, _, _, #, #, #, #, #, #, #, #, _, _, _, _, _, _, _, _, _, _, _],\n",
       "        [_, _, _, _, _, _, _, _, _, _, _, _, _, _, _, _, _, _, _, _, _, _, _, _, _, _, _, _],\n",
       "        [_, _, _, _, _, _, _, _, _, _, _, _, _, _, _, _, _, _, _, _, _, _, _, _, _, _, _, _],\n",
       "        [_, _, _, _, _, _, _, _, _, _, _, _, _, _, _, _, _, _, _, _, _, _, _, _, _, _, _, _],\n",
       "        [_, _, _, _, _, _, _, _, _, _, _, _, _, _, _, _, _, _, _, _, _, _, _, _, _, _, _, _],\n",
       "        [_, _, _, _, _, _, _, _, _, _, _, _, _, #, #, #, #, _, _, _, _, _, _, _, _, _, _, _],\n",
       "        [_, _, _, _, _, _, _, _, _, _, _, _, _, #, _, _, _, _, _, _, _, _, _, _, _, _, _, _],\n",
       "        [_, _, _, _, _, _, _, _, _, _, _, _, _, #, _, _, _, _, _, _, _, _, _, _, _, _, _, _],\n",
       "        [_, _, _, _, _, _, _, _, _, _, #, #, #, #, _, _, _, _, _, _, _, _, _, _, _, _, _, _],\n",
       "        [_, _, _, _, _, _, _, _, _, _, _, _, _, _, _, _, _, _, _, _, _, _, _, _, _, _, _, _],\n",
       "        [_, _, _, _, _, _, _, _, _, _, _, _, _, _, _, _, _, _, _, _, _, _, _, _, _, _, _, _],\n",
       "        [_, _, _, _, _, _, _, _, _, _, _, _, _, _, _, _, _, _, _, _, _, _, _, _, _, _, _, _],\n",
       "        [_, _, _, _, _, _, _, _, _, _, _, _, _, _, _, _, _, _, _, _, _, _, _, _, _, _, _, _]]),\n",
       " array([[_, _, _, _, _, _, _, _, _, _, _, _, _, _, _, _, _, _, _, _, _, _, _, _, _, _, _, _],\n",
       "        [_, _, _, _, _, _, _, _, _, _, _, _, _, _, _, _, _, _, _, _, _, _, _, _, _, _, _, _],\n",
       "        [_, _, #, #, #, #, #, #, #, #, _, _, _, _, _, _, #, #, #, #, #, #, #, #, _, _, _, _],\n",
       "        [_, _, #, _, _, _, _, _, _, #, #, #, #, #, #, #, #, _, _, _, _, _, _, #, _, _, _, _],\n",
       "        [_, _, #, _, _, _, _, _, _, #, _, _, _, _, _, _, #, _, _, _, _, _, _, #, _, _, _, _],\n",
       "        [_, _, #, #, #, #, #, #, #, #, _, _, _, _, _, _, #, _, _, _, _, _, _, #, _, _, _, _],\n",
       "        [_, _, _, _, _, _, _, _, _, _, _, _, _, _, _, _, #, _, _, _, _, _, _, #, _, _, _, _],\n",
       "        [_, _, _, _, _, _, _, _, _, _, _, _, _, _, _, _, #, _, _, _, _, _, _, #, _, _, _, _],\n",
       "        [_, _, _, _, #, #, #, #, #, #, #, _, _, #, #, #, #, _, _, _, _, _, _, #, _, _, _, _],\n",
       "        [_, _, _, _, #, _, _, _, _, _, #, _, _, #, _, _, #, _, _, _, _, _, _, #, _, _, _, _],\n",
       "        [_, _, _, _, #, _, _, _, _, _, #, _, _, #, _, _, #, _, _, _, _, _, _, #, _, _, _, _],\n",
       "        [_, _, _, _, #, _, _, _, _, _, #, #, #, #, _, _, #, #, #, #, #, #, #, #, _, _, _, _],\n",
       "        [_, _, _, _, #, #, #, #, #, #, #, _, _, _, _, _, _, _, _, _, _, _, _, _, _, _, _, _],\n",
       "        [_, _, _, _, _, _, _, _, _, _, _, _, _, _, _, _, _, _, _, _, _, _, _, _, _, _, _, _],\n",
       "        [_, _, _, _, _, _, _, _, _, _, _, _, _, _, _, _, _, _, _, _, _, _, _, _, _, _, _, _],\n",
       "        [_, _, _, _, _, _, _, _, _, _, _, _, _, _, _, _, _, _, _, _, _, _, _, _, _, _, _, _]]))"
      ]
     },
     "execution_count": 40,
     "metadata": {},
     "output_type": "execute_result"
    }
   ],
   "source": [
    "maskR = np.zeros(frame.npar, bool)\n",
    "for r in rooms:\n",
    "    maskR |= r.getMaskEdge(frame.x, frame.y)\n",
    "maskH = np.zeros(frame.npar, bool)\n",
    "for h in halls:\n",
    "    maskH |= h.getMask(frame.x, frame.y)\n",
    "    \n",
    "maskR, maskH, maskR | maskH"
   ]
  },
  {
   "cell_type": "code",
   "execution_count": 41,
   "id": "63d44d6d-9c06-47a5-bdc7-cf8df770ce13",
   "metadata": {},
   "outputs": [
    {
     "data": {
      "text/plain": [
       "(102.0947570770121, 77.0053832080835)"
      ]
     },
     "execution_count": 41,
     "metadata": {},
     "output_type": "execute_result"
    }
   ],
   "source": [
    "room2.getAzimuth(room1), room2.getAzimuth(room3)"
   ]
  },
  {
   "cell_type": "code",
   "execution_count": 45,
   "id": "3ee1deba-f15f-466b-b50a-e1055fb7b13e",
   "metadata": {},
   "outputs": [
    {
     "data": {
      "text/plain": [
       "(33.690067525979785, 0.0)"
      ]
     },
     "execution_count": 45,
     "metadata": {},
     "output_type": "execute_result"
    }
   ],
   "source": [
    "hall2.getAzimuth(hall3), hall2.getAzimuth(hall3, 'e')"
   ]
  },
  {
   "cell_type": "code",
   "execution_count": 44,
   "id": "4148e171-3934-4c8b-8969-989ea48167d0",
   "metadata": {},
   "outputs": [
    {
     "data": {
      "text/plain": [
       "(('s', (0, 1)), ('s', (0, 1)))"
      ]
     },
     "execution_count": 44,
     "metadata": {},
     "output_type": "execute_result"
    }
   ],
   "source": [
    "hall2.getNearestOrientation(hall3), hall2.getNearestOrientation(hall3, 'e')"
   ]
  },
  {
   "cell_type": "code",
   "execution_count": 46,
   "id": "841c1738-7218-4efb-9fb9-9845bf533401",
   "metadata": {},
   "outputs": [
    {
     "data": {
      "text/plain": [
       "(13, 8)"
      ]
     },
     "execution_count": 46,
     "metadata": {},
     "output_type": "execute_result"
    }
   ],
   "source": [
    "hall2.getEndpoint()"
   ]
  },
  {
   "cell_type": "code",
   "execution_count": 47,
   "id": "730bb69b-18b0-47d2-a6a1-a9901bcb2af3",
   "metadata": {},
   "outputs": [
    {
     "data": {
      "text/plain": [
       "(13, 8)"
      ]
     },
     "execution_count": 47,
     "metadata": {},
     "output_type": "execute_result"
    }
   ],
   "source": [
    "hall4.origin"
   ]
  },
  {
   "cell_type": "code",
   "execution_count": 49,
   "id": "973bfc05-85dc-485f-8209-33b0ef739643",
   "metadata": {},
   "outputs": [
    {
     "data": {
      "text/plain": [
       "ccDGGeom.Point"
      ]
     },
     "execution_count": 49,
     "metadata": {},
     "output_type": "execute_result"
    }
   ],
   "source": [
    "type(room2.getCentroid())"
   ]
  },
  {
   "cell_type": "code",
   "execution_count": 53,
   "id": "03dcb022-ea8e-4c0a-915c-ac57a84ba8b7",
   "metadata": {},
   "outputs": [
    {
     "data": {
      "text/plain": [
       "((20, 7), (7, 10))"
      ]
     },
     "execution_count": 53,
     "metadata": {},
     "output_type": "execute_result"
    }
   ],
   "source": [
    "room2.getCentroid(), room3.getCentroid()"
   ]
  },
  {
   "cell_type": "code",
   "execution_count": 54,
   "id": "a0f51496-7dfe-4488-bd11-a87ef92fe211",
   "metadata": {},
   "outputs": [
    {
     "data": {
      "text/plain": [
       "array([ 8, 13])"
      ]
     },
     "execution_count": 54,
     "metadata": {},
     "output_type": "execute_result"
    }
   ],
   "source": [
    "(room2.getCentroid().npar + room3.getCentroid().npar) // 2"
   ]
  },
  {
   "cell_type": "code",
   "execution_count": null,
   "id": "26675913-52b4-4d87-acb9-9c933c0eafb3",
   "metadata": {},
   "outputs": [],
   "source": []
  }
 ],
 "metadata": {
  "kernelspec": {
   "display_name": "Python 3 (ipykernel)",
   "language": "python",
   "name": "python3"
  },
  "language_info": {
   "codemirror_mode": {
    "name": "ipython",
    "version": 3
   },
   "file_extension": ".py",
   "mimetype": "text/x-python",
   "name": "python",
   "nbconvert_exporter": "python",
   "pygments_lexer": "ipython3",
   "version": "3.10.8"
  }
 },
 "nbformat": 4,
 "nbformat_minor": 5
}
