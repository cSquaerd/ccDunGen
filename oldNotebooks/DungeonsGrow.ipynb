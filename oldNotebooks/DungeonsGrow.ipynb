{
 "cells": [
  {
   "cell_type": "code",
   "execution_count": 1,
   "id": "3e52258b-0124-45b6-8cf3-e71011a8ebc7",
   "metadata": {},
   "outputs": [],
   "source": [
    "from ccDGGeom import np, Point, Rectangle, Line"
   ]
  },
  {
   "cell_type": "code",
   "execution_count": 2,
   "id": "4047d22a-acbc-4ecd-99cb-349eb78d140b",
   "metadata": {},
   "outputs": [],
   "source": [
    "from matplotlib import pyplot as plot"
   ]
  },
  {
   "cell_type": "code",
   "execution_count": 3,
   "id": "2b61d4dd-a75c-4705-b415-e1a107b40225",
   "metadata": {},
   "outputs": [],
   "source": [
    "room1 = Rectangle(2, 2, 8, 4)\n",
    "room2 = Rectangle(16, 2, 8, 10)\n",
    "room3 = Rectangle(4, 8, 7, 5)\n",
    "hall1 = Line(9, 3, 8, 'e')\n",
    "hall2 = Line(16, 8, 4, 'w')\n",
    "hall3 = Line(10, 11, 4, 'e')\n",
    "hall4 = Line(13, 8, 4, 's')\n",
    "rooms = (room1, room2, room3)\n",
    "halls = (hall1, hall2, hall3, hall4)"
   ]
  },
  {
   "cell_type": "code",
   "execution_count": 4,
   "id": "9e5e3f36-e89d-4814-8f37-39c6ae3874b2",
   "metadata": {},
   "outputs": [
    {
     "data": {
      "text/plain": [
       "(24, 13)"
      ]
     },
     "execution_count": 4,
     "metadata": {},
     "output_type": "execute_result"
    }
   ],
   "source": [
    "pMax = Point(0, 0)\n",
    "\n",
    "for r in rooms:\n",
    "    f = r.getMinFrame()\n",
    "    if np.any(f.npar > pMax.npar):\n",
    "        pMax = Point(max(f.x, pMax.x), max(f.y, pMax.y))\n",
    "\n",
    "for h in halls:\n",
    "    f = h.getMinFrame()\n",
    "    if np.any(f.npar > pMax.npar):\n",
    "        pMax = Point(max(f.x, pMax.x), max(f.y, pMax.y))\n",
    "        \n",
    "pMax"
   ]
  },
  {
   "cell_type": "code",
   "execution_count": 5,
   "id": "eeef59df-f6ec-4355-a274-974ca9657cf7",
   "metadata": {},
   "outputs": [],
   "source": [
    "frame = Point(28, 16)"
   ]
  },
  {
   "cell_type": "code",
   "execution_count": 6,
   "id": "14d397bd-9d76-41e2-a99c-8c9799f9c342",
   "metadata": {},
   "outputs": [
    {
     "data": {
      "text/plain": [
       "(array([[_, _, _, _, _, _, _, _, _, _, _, _, _, _, _, _, _, _, _, _, _, _, _, _, _, _, _, _],\n",
       "        [_, _, _, _, _, _, _, _, _, _, _, _, _, _, _, _, _, _, _, _, _, _, _, _, _, _, _, _],\n",
       "        [_, _, #, #, #, #, #, #, #, #, _, _, _, _, _, _, #, #, #, #, #, #, #, #, _, _, _, _],\n",
       "        [_, _, #, _, _, _, _, _, _, #, _, _, _, _, _, _, #, _, _, _, _, _, _, #, _, _, _, _],\n",
       "        [_, _, #, _, _, _, _, _, _, #, _, _, _, _, _, _, #, _, _, _, _, _, _, #, _, _, _, _],\n",
       "        [_, _, #, #, #, #, #, #, #, #, _, _, _, _, _, _, #, _, _, _, _, _, _, #, _, _, _, _],\n",
       "        [_, _, _, _, _, _, _, _, _, _, _, _, _, _, _, _, #, _, _, _, _, _, _, #, _, _, _, _],\n",
       "        [_, _, _, _, _, _, _, _, _, _, _, _, _, _, _, _, #, _, _, _, _, _, _, #, _, _, _, _],\n",
       "        [_, _, _, _, #, #, #, #, #, #, #, _, _, _, _, _, #, _, _, _, _, _, _, #, _, _, _, _],\n",
       "        [_, _, _, _, #, _, _, _, _, _, #, _, _, _, _, _, #, _, _, _, _, _, _, #, _, _, _, _],\n",
       "        [_, _, _, _, #, _, _, _, _, _, #, _, _, _, _, _, #, _, _, _, _, _, _, #, _, _, _, _],\n",
       "        [_, _, _, _, #, _, _, _, _, _, #, _, _, _, _, _, #, #, #, #, #, #, #, #, _, _, _, _],\n",
       "        [_, _, _, _, #, #, #, #, #, #, #, _, _, _, _, _, _, _, _, _, _, _, _, _, _, _, _, _],\n",
       "        [_, _, _, _, _, _, _, _, _, _, _, _, _, _, _, _, _, _, _, _, _, _, _, _, _, _, _, _],\n",
       "        [_, _, _, _, _, _, _, _, _, _, _, _, _, _, _, _, _, _, _, _, _, _, _, _, _, _, _, _],\n",
       "        [_, _, _, _, _, _, _, _, _, _, _, _, _, _, _, _, _, _, _, _, _, _, _, _, _, _, _, _]]),\n",
       " array([[_, _, _, _, _, _, _, _, _, _, _, _, _, _, _, _, _, _, _, _, _, _, _, _, _, _, _, _],\n",
       "        [_, _, _, _, _, _, _, _, _, _, _, _, _, _, _, _, _, _, _, _, _, _, _, _, _, _, _, _],\n",
       "        [_, _, _, _, _, _, _, _, _, _, _, _, _, _, _, _, _, _, _, _, _, _, _, _, _, _, _, _],\n",
       "        [_, _, _, _, _, _, _, _, _, #, #, #, #, #, #, #, #, _, _, _, _, _, _, _, _, _, _, _],\n",
       "        [_, _, _, _, _, _, _, _, _, _, _, _, _, _, _, _, _, _, _, _, _, _, _, _, _, _, _, _],\n",
       "        [_, _, _, _, _, _, _, _, _, _, _, _, _, _, _, _, _, _, _, _, _, _, _, _, _, _, _, _],\n",
       "        [_, _, _, _, _, _, _, _, _, _, _, _, _, _, _, _, _, _, _, _, _, _, _, _, _, _, _, _],\n",
       "        [_, _, _, _, _, _, _, _, _, _, _, _, _, _, _, _, _, _, _, _, _, _, _, _, _, _, _, _],\n",
       "        [_, _, _, _, _, _, _, _, _, _, _, _, _, #, #, #, #, _, _, _, _, _, _, _, _, _, _, _],\n",
       "        [_, _, _, _, _, _, _, _, _, _, _, _, _, #, _, _, _, _, _, _, _, _, _, _, _, _, _, _],\n",
       "        [_, _, _, _, _, _, _, _, _, _, _, _, _, #, _, _, _, _, _, _, _, _, _, _, _, _, _, _],\n",
       "        [_, _, _, _, _, _, _, _, _, _, #, #, #, #, _, _, _, _, _, _, _, _, _, _, _, _, _, _],\n",
       "        [_, _, _, _, _, _, _, _, _, _, _, _, _, _, _, _, _, _, _, _, _, _, _, _, _, _, _, _],\n",
       "        [_, _, _, _, _, _, _, _, _, _, _, _, _, _, _, _, _, _, _, _, _, _, _, _, _, _, _, _],\n",
       "        [_, _, _, _, _, _, _, _, _, _, _, _, _, _, _, _, _, _, _, _, _, _, _, _, _, _, _, _],\n",
       "        [_, _, _, _, _, _, _, _, _, _, _, _, _, _, _, _, _, _, _, _, _, _, _, _, _, _, _, _]]),\n",
       " array([[_, _, _, _, _, _, _, _, _, _, _, _, _, _, _, _, _, _, _, _, _, _, _, _, _, _, _, _],\n",
       "        [_, _, _, _, _, _, _, _, _, _, _, _, _, _, _, _, _, _, _, _, _, _, _, _, _, _, _, _],\n",
       "        [_, _, #, #, #, #, #, #, #, #, _, _, _, _, _, _, #, #, #, #, #, #, #, #, _, _, _, _],\n",
       "        [_, _, #, _, _, _, _, _, _, #, #, #, #, #, #, #, #, _, _, _, _, _, _, #, _, _, _, _],\n",
       "        [_, _, #, _, _, _, _, _, _, #, _, _, _, _, _, _, #, _, _, _, _, _, _, #, _, _, _, _],\n",
       "        [_, _, #, #, #, #, #, #, #, #, _, _, _, _, _, _, #, _, _, _, _, _, _, #, _, _, _, _],\n",
       "        [_, _, _, _, _, _, _, _, _, _, _, _, _, _, _, _, #, _, _, _, _, _, _, #, _, _, _, _],\n",
       "        [_, _, _, _, _, _, _, _, _, _, _, _, _, _, _, _, #, _, _, _, _, _, _, #, _, _, _, _],\n",
       "        [_, _, _, _, #, #, #, #, #, #, #, _, _, #, #, #, #, _, _, _, _, _, _, #, _, _, _, _],\n",
       "        [_, _, _, _, #, _, _, _, _, _, #, _, _, #, _, _, #, _, _, _, _, _, _, #, _, _, _, _],\n",
       "        [_, _, _, _, #, _, _, _, _, _, #, _, _, #, _, _, #, _, _, _, _, _, _, #, _, _, _, _],\n",
       "        [_, _, _, _, #, _, _, _, _, _, #, #, #, #, _, _, #, #, #, #, #, #, #, #, _, _, _, _],\n",
       "        [_, _, _, _, #, #, #, #, #, #, #, _, _, _, _, _, _, _, _, _, _, _, _, _, _, _, _, _],\n",
       "        [_, _, _, _, _, _, _, _, _, _, _, _, _, _, _, _, _, _, _, _, _, _, _, _, _, _, _, _],\n",
       "        [_, _, _, _, _, _, _, _, _, _, _, _, _, _, _, _, _, _, _, _, _, _, _, _, _, _, _, _],\n",
       "        [_, _, _, _, _, _, _, _, _, _, _, _, _, _, _, _, _, _, _, _, _, _, _, _, _, _, _, _]]))"
      ]
     },
     "execution_count": 6,
     "metadata": {},
     "output_type": "execute_result"
    }
   ],
   "source": [
    "maskR = np.zeros(frame.npar, bool)\n",
    "for r in rooms:\n",
    "    maskR |= r.getMaskEdge(frame.x, frame.y)\n",
    "maskH = np.zeros(frame.npar, bool)\n",
    "for h in halls:\n",
    "    maskH |= h.getMask(frame.x, frame.y)\n",
    "    \n",
    "maskR, maskH, maskR | maskH"
   ]
  },
  {
   "cell_type": "code",
   "execution_count": 20,
   "id": "26675913-52b4-4d87-acb9-9c933c0eafb3",
   "metadata": {},
   "outputs": [],
   "source": [
    "class Catacombs:\n",
    "    def __init__(\n",
    "        self, w : int, h : int,\n",
    "        rct : int, conn : int,\n",
    "        raap : float,\n",
    "        varix : int, variy : int,\n",
    "        padx : int = 0, pady : int = 0\n",
    "    ):\n",
    "        self.size = Point(w, h)\n",
    "        self.roomCount = rct\n",
    "        self.hallAvgCount = conn\n",
    "        self.roomAvgAreaPercent = raap\n",
    "        self.variance = Point(varix, variy)\n",
    "        self.padding = Point(padx, pady)\n",
    "        \n",
    "        adim = (self.size.npar * np.sqrt(self.roomAvgAreaPercent)).astype(int)\n",
    "        self.roomAvgDim = Point(adim[1], adim[0])\n",
    "        \n",
    "        self.rooms = []\n",
    "        self.halls = []\n",
    "        \n",
    "    def __str__(self) -> str:\n",
    "        return (\n",
    "            \"A {} wide by {} tall dungeon,\\n\" \\\n",
    "            + \"with {} rooms of about {:02.0f}% average area each,\\n\" \\\n",
    "            + \"or of average dimension {} wide by {} tall,\\n\" \\\n",
    "            + \"with an average of {} hallways out of each room;\\n\" \\\n",
    "            + \"Rooms are padded by at least {} East-West & {} North-South,\\n\"\n",
    "            + \"and have a length variance of +/-{} wide and +/- {} tall.\"\n",
    "        ).format(\n",
    "            self.size.x, self.size.y,\n",
    "            self.roomCount, self.roomAvgAreaPercent * 100.,\n",
    "            self.roomAvgDim.x, self.roomAvgDim.y,\n",
    "            self.hallAvgCount,\n",
    "            self.padding.x, self.padding.y,\n",
    "            self.variance.x, self.variance.y\n",
    "        )\n",
    "    \n",
    "    def __repr__(self) -> str:\n",
    "        return self.__str__()\n",
    "    \n",
    "    def genRooms(self, reset = False, attemptsOverride : int = 0):\n",
    "        if not reset:\n",
    "            return\n",
    "        \n",
    "        self.rooms = []\n",
    "        attempts = 0\n",
    "        if attemptsOverride > 0:\n",
    "            maxAttempts = attemptsOverride\n",
    "        else:\n",
    "            maxAttempts = int(\n",
    "                10. ** (-np.log(1. - self.roomCount * self.roomAvgAreaPercent) + np.e)\n",
    "            )\n",
    "        \n",
    "        while len(self.rooms) < self.roomCount:\n",
    "            attempts += 1\n",
    "            noise = np.random.randint(\n",
    "                -self.variance.npar[::-1], self.variance.npar[::-1] + 1, 2\n",
    "            )\n",
    "            newSize = Point(*np.maximum(\n",
    "                self.roomAvgDim.npar[::-1] + noise,\n",
    "                np.zeros(2, int) + 4\n",
    "            ))\n",
    "            originSpace = self.size - newSize\n",
    "            newOrigin = Point(*np.random.randint(np.zeros(2, int), originSpace.tupl, 2))\n",
    "            newRoom = Rectangle(newOrigin.x, newOrigin.y, newSize.x, newSize.y)\n",
    "            newRoomPadZone = Rectangle(\n",
    "                max(newOrigin.x - self.padding.x, 0),\n",
    "                max(newOrigin.y - self.padding.y, 0),\n",
    "                newSize.x + 2 * self.padding.x,\n",
    "                newSize.y + 2 * self.padding.y\n",
    "            )\n",
    "            \n",
    "            nonOverlapping = True\n",
    "            for r in self.rooms:\n",
    "                if newRoomPadZone & r:\n",
    "                    nonOverlapping = False\n",
    "                    break\n",
    "            \n",
    "            if nonOverlapping:\n",
    "                self.rooms.append(newRoom)\n",
    "                print(noise, newSize, newOrigin)\n",
    "                print(newRoom)\n",
    "                print(newRoomPadZone)\n",
    "                print()\n",
    "                \n",
    "            if attempts > maxAttempts:\n",
    "                if len(self.rooms) < self.roomCount:\n",
    "                    print(\"Warning: maximum room generation attempts reached.\")\n",
    "                    print(\"Your dungeon will only have\", len(self.rooms), \"rooms\")\n",
    "                break\n",
    "        \n",
    "        print(\"Attemped room generations\", attempts, \"times.\")\n",
    "                \n",
    "    def draw(self) -> np.array:\n",
    "        mask = np.zeros(self.size.npar, bool)\n",
    "        for r in self.rooms:\n",
    "            mask |= r.getMaskEdge(self.size.x, self.size.y)\n",
    "        for h in self.halls:\n",
    "            mask |= h.getMask(self.size.x, self.size.y)\n",
    "            \n",
    "        return mask"
   ]
  },
  {
   "cell_type": "code",
   "execution_count": 22,
   "id": "3a7845aa-2143-48de-a686-7e5aa0403edc",
   "metadata": {},
   "outputs": [
    {
     "data": {
      "text/plain": [
       "A 100 wide by 60 tall dungeon,\n",
       "with 8 rooms of about 08% average area each,\n",
       "or of 28 wide by 16 tall average dimension,\n",
       "with an average of 2 hallways out of each room;\n",
       "Rooms are padded by at least 3 East-West & 3 North-South,\n",
       "and have a length variance of +/-12 wide and +/- 2 tall."
      ]
     },
     "execution_count": 22,
     "metadata": {},
     "output_type": "execute_result"
    }
   ],
   "source": [
    "c = Catacombs(100, 60, 8, 2, 0.08, 12, 2, 3, 3)\n",
    "c"
   ]
  },
  {
   "cell_type": "code",
   "execution_count": 23,
   "id": "dd7beb63-63f0-4266-8631-9bdb38895de5",
   "metadata": {},
   "outputs": [
    {
     "name": "stdout",
     "output_type": "stream",
     "text": [
      "[1 1] (29, 17) (65, 30)\n",
      "A   29 by   17 Rectangle cornered at (  65,   30).\n",
      "A   35 by   23 Rectangle cornered at (  62,   27).\n",
      "\n",
      "[-8  2] (20, 18) (21, 29)\n",
      "A   20 by   18 Rectangle cornered at (  21,   29).\n",
      "A   26 by   24 Rectangle cornered at (  18,   26).\n",
      "\n",
      "[8 0] (36, 16) (24, 0)\n",
      "A   36 by   16 Rectangle cornered at (  24,    0).\n",
      "A   42 by   22 Rectangle cornered at (  21,    0).\n",
      "\n",
      "[-8  0] (20, 16) (67, 5)\n",
      "A   20 by   16 Rectangle cornered at (  67,    5).\n",
      "A   26 by   22 Rectangle cornered at (  64,    2).\n",
      "\n",
      "[-12  -1] (16, 15) (45, 38)\n",
      "A   16 by   15 Rectangle cornered at (  45,   38).\n",
      "A   22 by   21 Rectangle cornered at (  42,   35).\n",
      "\n",
      "[-11   0] (17, 16) (2, 0)\n",
      "A   17 by   16 Rectangle cornered at (   2,    0).\n",
      "A   23 by   22 Rectangle cornered at (   0,    0).\n",
      "\n",
      "[-12  -1] (16, 15) (44, 19)\n",
      "A   16 by   15 Rectangle cornered at (  44,   19).\n",
      "A   22 by   21 Rectangle cornered at (  41,   16).\n",
      "\n",
      "Warning: maximum room generation attempts reached.\n",
      "Your dungeon will only have 7 rooms\n",
      "Attemped room generations 5495 times.\n"
     ]
    },
    {
     "data": {
      "image/png": "[encoded data removed]",
      "text/plain": [
       "<Figure size 640x480 with 1 Axes>"
      ]
     },
     "metadata": {},
     "output_type": "display_data"
    },
    {
     "name": "stdout",
     "output_type": "stream",
     "text": [
      "[12 -2] (40, 14) (17, 37)\n",
      "A   40 by   14 Rectangle cornered at (  17,   37).\n",
      "A   46 by   20 Rectangle cornered at (  14,   34).\n",
      "\n",
      "[-7  0] (21, 16) (6, 8)\n",
      "A   21 by   16 Rectangle cornered at (   6,    8).\n",
      "A   27 by   22 Rectangle cornered at (   3,    5).\n",
      "\n",
      "[8 0] (36, 16) (36, 0)\n",
      "A   36 by   16 Rectangle cornered at (  36,    0).\n",
      "A   42 by   22 Rectangle cornered at (  33,    0).\n",
      "\n",
      "[3 2] (31, 18) (61, 41)\n",
      "A   31 by   18 Rectangle cornered at (  61,   41).\n",
      "A   37 by   24 Rectangle cornered at (  58,   38).\n",
      "\n",
      "[3 0] (31, 16) (65, 21)\n",
      "A   31 by   16 Rectangle cornered at (  65,   21).\n",
      "A   37 by   22 Rectangle cornered at (  62,   18).\n",
      "\n",
      "[-8 -2] (20, 14) (78, 3)\n",
      "A   20 by   14 Rectangle cornered at (  78,    3).\n",
      "A   26 by   20 Rectangle cornered at (  75,    0).\n",
      "\n",
      "[-11  -2] (17, 14) (34, 19)\n",
      "A   17 by   14 Rectangle cornered at (  34,   19).\n",
      "A   23 by   20 Rectangle cornered at (  31,   16).\n",
      "\n",
      "Warning: maximum room generation attempts reached.\n",
      "Your dungeon will only have 7 rooms\n",
      "Attemped room generations 5495 times.\n"
     ]
    },
    {
     "data": {
      "image/png": "[encoded data removed]",
      "text/plain": [
       "<Figure size 640x480 with 1 Axes>"
      ]
     },
     "metadata": {},
     "output_type": "display_data"
    },
    {
     "name": "stdout",
     "output_type": "stream",
     "text": [
      "[5 0] (33, 16) (14, 11)\n",
      "A   33 by   16 Rectangle cornered at (  14,   11).\n",
      "A   39 by   22 Rectangle cornered at (  11,    8).\n",
      "\n",
      "[10  1] (38, 17) (56, 4)\n",
      "A   38 by   17 Rectangle cornered at (  56,    4).\n",
      "A   44 by   23 Rectangle cornered at (  53,    1).\n",
      "\n",
      "[-2  0] (26, 16) (69, 29)\n",
      "A   26 by   16 Rectangle cornered at (  69,   29).\n",
      "A   32 by   22 Rectangle cornered at (  66,   26).\n",
      "\n",
      "[6 0] (34, 16) (11, 40)\n",
      "A   34 by   16 Rectangle cornered at (  11,   40).\n",
      "A   40 by   22 Rectangle cornered at (   8,   37).\n",
      "\n",
      "[-11  -1] (17, 15) (49, 44)\n",
      "A   17 by   15 Rectangle cornered at (  49,   44).\n",
      "A   23 by   21 Rectangle cornered at (  46,   41).\n",
      "\n",
      "Warning: maximum room generation attempts reached.\n",
      "Your dungeon will only have 5 rooms\n",
      "Attemped room generations 5495 times.\n"
     ]
    },
    {
     "data": {
      "image/png": "[encoded data removed]",
      "text/plain": [
       "<Figure size 640x480 with 1 Axes>"
      ]
     },
     "metadata": {},
     "output_type": "display_data"
    },
    {
     "name": "stdout",
     "output_type": "stream",
     "text": [
      "[ 9 -1] (37, 15) (18, 18)\n",
      "A   37 by   15 Rectangle cornered at (  18,   18).\n",
      "A   43 by   21 Rectangle cornered at (  15,   15).\n",
      "\n",
      "[-8  0] (20, 16) (13, 37)\n",
      "A   20 by   16 Rectangle cornered at (  13,   37).\n",
      "A   26 by   22 Rectangle cornered at (  10,   34).\n",
      "\n",
      "[ 3 -1] (31, 15) (53, 37)\n",
      "A   31 by   15 Rectangle cornered at (  53,   37).\n",
      "A   37 by   21 Rectangle cornered at (  50,   34).\n",
      "\n",
      "[-5 -1] (23, 15) (61, 8)\n",
      "A   23 by   15 Rectangle cornered at (  61,    8).\n",
      "A   29 by   21 Rectangle cornered at (  58,    5).\n",
      "\n",
      "Warning: maximum room generation attempts reached.\n",
      "Your dungeon will only have 4 rooms\n",
      "Attemped room generations 5495 times.\n"
     ]
    },
    {
     "data": {
      "image/png": "[encoded data removed]",
      "text/plain": [
       "<Figure size 640x480 with 1 Axes>"
      ]
     },
     "metadata": {},
     "output_type": "display_data"
    },
    {
     "name": "stdout",
     "output_type": "stream",
     "text": [
      "[5 2] (33, 18) (17, 6)\n",
      "A   33 by   18 Rectangle cornered at (  17,    6).\n",
      "A   39 by   24 Rectangle cornered at (  14,    3).\n",
      "\n",
      "[-5 -2] (23, 14) (65, 27)\n",
      "A   23 by   14 Rectangle cornered at (  65,   27).\n",
      "A   29 by   20 Rectangle cornered at (  62,   24).\n",
      "\n",
      "[ 5 -1] (33, 15) (9, 35)\n",
      "A   33 by   15 Rectangle cornered at (   9,   35).\n",
      "A   39 by   21 Rectangle cornered at (   6,   32).\n",
      "\n",
      "[-3  1] (25, 17) (68, 1)\n",
      "A   25 by   17 Rectangle cornered at (  68,    1).\n",
      "A   31 by   23 Rectangle cornered at (  65,    0).\n",
      "\n",
      "[10 -2] (38, 14) (51, 44)\n",
      "A   38 by   14 Rectangle cornered at (  51,   44).\n",
      "A   44 by   20 Rectangle cornered at (  48,   41).\n",
      "\n",
      "Warning: maximum room generation attempts reached.\n",
      "Your dungeon will only have 5 rooms\n",
      "Attemped room generations 5495 times.\n"
     ]
    },
    {
     "data": {
      "image/png": "[encoded data removed]",
      "text/plain": [
       "<Figure size 640x480 with 1 Axes>"
      ]
     },
     "metadata": {},
     "output_type": "display_data"
    },
    {
     "name": "stdout",
     "output_type": "stream",
     "text": [
      "[-2 -1] (26, 15) (5, 0)\n",
      "A   26 by   15 Rectangle cornered at (   5,    0).\n",
      "A   32 by   21 Rectangle cornered at (   2,    0).\n",
      "\n",
      "[-4  0] (24, 16) (6, 21)\n",
      "A   24 by   16 Rectangle cornered at (   6,   21).\n",
      "A   30 by   22 Rectangle cornered at (   3,   18).\n",
      "\n",
      "[ 3 -2] (31, 14) (40, 5)\n",
      "A   31 by   14 Rectangle cornered at (  40,    5).\n",
      "A   37 by   20 Rectangle cornered at (  37,    2).\n",
      "\n",
      "[ 1 -1] (29, 15) (45, 38)\n",
      "A   29 by   15 Rectangle cornered at (  45,   38).\n",
      "A   35 by   21 Rectangle cornered at (  42,   35).\n",
      "\n",
      "[-12  -2] (16, 14) (75, 1)\n",
      "A   16 by   14 Rectangle cornered at (  75,    1).\n",
      "A   22 by   20 Rectangle cornered at (  72,    0).\n",
      "\n",
      "[-4  2] (24, 18) (7, 41)\n",
      "A   24 by   18 Rectangle cornered at (   7,   41).\n",
      "A   30 by   24 Rectangle cornered at (   4,   38).\n",
      "\n",
      "[-11  -1] (17, 15) (80, 28)\n",
      "A   17 by   15 Rectangle cornered at (  80,   28).\n",
      "A   23 by   21 Rectangle cornered at (  77,   25).\n",
      "\n",
      "Warning: maximum room generation attempts reached.\n",
      "Your dungeon will only have 7 rooms\n",
      "Attemped room generations 5495 times.\n"
     ]
    },
    {
     "data": {
      "image/png": "[encoded data removed]",
      "text/plain": [
       "<Figure size 640x480 with 1 Axes>"
      ]
     },
     "metadata": {},
     "output_type": "display_data"
    },
    {
     "name": "stdout",
     "output_type": "stream",
     "text": [
      "[-2 -2] (26, 14) (21, 44)\n",
      "A   26 by   14 Rectangle cornered at (  21,   44).\n",
      "A   32 by   20 Rectangle cornered at (  18,   41).\n",
      "\n",
      "[ 6 -2] (34, 14) (34, 25)\n",
      "A   34 by   14 Rectangle cornered at (  34,   25).\n",
      "A   40 by   20 Rectangle cornered at (  31,   22).\n",
      "\n",
      "[-7  1] (21, 17) (13, 0)\n",
      "A   21 by   17 Rectangle cornered at (  13,    0).\n",
      "A   27 by   23 Rectangle cornered at (  10,    0).\n",
      "\n",
      "[-9 -1] (19, 15) (59, 5)\n",
      "A   19 by   15 Rectangle cornered at (  59,    5).\n",
      "A   25 by   21 Rectangle cornered at (  56,    2).\n",
      "\n",
      "[-8 -2] (20, 14) (50, 45)\n",
      "A   20 by   14 Rectangle cornered at (  50,   45).\n",
      "A   26 by   20 Rectangle cornered at (  47,   42).\n",
      "\n",
      "[-7  2] (21, 18) (77, 24)\n",
      "A   21 by   18 Rectangle cornered at (  77,   24).\n",
      "A   27 by   24 Rectangle cornered at (  74,   21).\n",
      "\n",
      "[-2  0] (26, 16) (5, 21)\n",
      "A   26 by   16 Rectangle cornered at (   5,   21).\n",
      "A   32 by   22 Rectangle cornered at (   2,   18).\n",
      "\n",
      "[-10  -2] (18, 14) (37, 3)\n",
      "A   18 by   14 Rectangle cornered at (  37,    3).\n",
      "A   24 by   20 Rectangle cornered at (  34,    0).\n",
      "\n",
      "Attemped room generations 246 times.\n"
     ]
    },
    {
     "data": {
      "image/png": "[encoded data removed]",
      "text/plain": [
       "<Figure size 640x480 with 1 Axes>"
      ]
     },
     "metadata": {},
     "output_type": "display_data"
    },
    {
     "name": "stdout",
     "output_type": "stream",
     "text": [
      "[ 5 -1] (33, 15) (32, 7)\n",
      "A   33 by   15 Rectangle cornered at (  32,    7).\n",
      "A   39 by   21 Rectangle cornered at (  29,    4).\n",
      "\n",
      "[-6 -1] (22, 15) (10, 38)\n",
      "A   22 by   15 Rectangle cornered at (  10,   38).\n",
      "A   28 by   21 Rectangle cornered at (   7,   35).\n",
      "\n",
      "[10 -1] (38, 15) (60, 27)\n",
      "A   38 by   15 Rectangle cornered at (  60,   27).\n",
      "A   44 by   21 Rectangle cornered at (  57,   24).\n",
      "\n",
      "[-9  1] (19, 17) (2, 11)\n",
      "A   19 by   17 Rectangle cornered at (   2,   11).\n",
      "A   25 by   23 Rectangle cornered at (   0,    8).\n",
      "\n",
      "[-12   2] (16, 18) (38, 41)\n",
      "A   16 by   18 Rectangle cornered at (  38,   41).\n",
      "A   22 by   24 Rectangle cornered at (  35,   38).\n",
      "\n",
      "[-12   1] (16, 17) (83, 3)\n",
      "A   16 by   17 Rectangle cornered at (  83,    3).\n",
      "A   22 by   23 Rectangle cornered at (  80,    0).\n",
      "\n",
      "[-8 -2] (20, 14) (76, 45)\n",
      "A   20 by   14 Rectangle cornered at (  76,   45).\n",
      "A   26 by   20 Rectangle cornered at (  73,   42).\n",
      "\n",
      "Warning: maximum room generation attempts reached.\n",
      "Your dungeon will only have 7 rooms\n",
      "Attemped room generations 5495 times.\n"
     ]
    },
    {
     "data": {
      "image/png": "[encoded data removed]",
      "text/plain": [
       "<Figure size 640x480 with 1 Axes>"
      ]
     },
     "metadata": {},
     "output_type": "display_data"
    },
    {
     "name": "stdout",
     "output_type": "stream",
     "text": [
      "[ 6 -2] (34, 14) (18, 22)\n",
      "A   34 by   14 Rectangle cornered at (  18,   22).\n",
      "A   40 by   20 Rectangle cornered at (  15,   19).\n",
      "\n",
      "[ 1 -2] (29, 14) (23, 44)\n",
      "A   29 by   14 Rectangle cornered at (  23,   44).\n",
      "A   35 by   20 Rectangle cornered at (  20,   41).\n",
      "\n",
      "[-5  2] (23, 18) (66, 20)\n",
      "A   23 by   18 Rectangle cornered at (  66,   20).\n",
      "A   29 by   24 Rectangle cornered at (  63,   17).\n",
      "\n",
      "[-7 -1] (21, 15) (57, 43)\n",
      "A   21 by   15 Rectangle cornered at (  57,   43).\n",
      "A   27 by   21 Rectangle cornered at (  54,   40).\n",
      "\n",
      "[-9 -1] (19, 15) (16, 3)\n",
      "A   19 by   15 Rectangle cornered at (  16,    3).\n",
      "A   25 by   21 Rectangle cornered at (  13,    0).\n",
      "\n",
      "[11 -2] (39, 14) (50, 3)\n",
      "A   39 by   14 Rectangle cornered at (  50,    3).\n",
      "A   45 by   20 Rectangle cornered at (  47,    0).\n",
      "\n",
      "[-12   2] (16, 18) (0, 39)\n",
      "A   16 by   18 Rectangle cornered at (   0,   39).\n",
      "A   22 by   24 Rectangle cornered at (   0,   36).\n",
      "\n",
      "[-10  -2] (18, 14) (81, 45)\n",
      "A   18 by   14 Rectangle cornered at (  81,   45).\n",
      "A   24 by   20 Rectangle cornered at (  78,   42).\n",
      "\n",
      "Attemped room generations 4560 times.\n"
     ]
    },
    {
     "data": {
      "image/png": "[encoded data removed]",
      "text/plain": [
       "<Figure size 640x480 with 1 Axes>"
      ]
     },
     "metadata": {},
     "output_type": "display_data"
    },
    {
     "name": "stdout",
     "output_type": "stream",
     "text": [
      "[7 2] (35, 18) (35, 22)\n",
      "A   35 by   18 Rectangle cornered at (  35,   22).\n",
      "A   41 by   24 Rectangle cornered at (  32,   19).\n",
      "\n",
      "[-6  1] (22, 17) (2, 14)\n",
      "A   22 by   17 Rectangle cornered at (   2,   14).\n",
      "A   28 by   23 Rectangle cornered at (   0,   11).\n",
      "\n",
      "[ 2 -2] (30, 14) (7, 44)\n",
      "A   30 by   14 Rectangle cornered at (   7,   44).\n",
      "A   36 by   20 Rectangle cornered at (   4,   41).\n",
      "\n",
      "[ 5 -1] (33, 15) (54, 2)\n",
      "A   33 by   15 Rectangle cornered at (  54,    2).\n",
      "A   39 by   21 Rectangle cornered at (  51,    0).\n",
      "\n",
      "[-8 -2] (20, 14) (45, 45)\n",
      "A   20 by   14 Rectangle cornered at (  45,   45).\n",
      "A   26 by   20 Rectangle cornered at (  42,   42).\n",
      "\n",
      "[-7 -1] (21, 15) (78, 26)\n",
      "A   21 by   15 Rectangle cornered at (  78,   26).\n",
      "A   27 by   21 Rectangle cornered at (  75,   23).\n",
      "\n",
      "[-8  0] (20, 16) (30, 2)\n",
      "A   20 by   16 Rectangle cornered at (  30,    2).\n",
      "A   26 by   22 Rectangle cornered at (  27,    0).\n",
      "\n",
      "[-11  -2] (17, 14) (69, 44)\n",
      "A   17 by   14 Rectangle cornered at (  69,   44).\n",
      "A   23 by   20 Rectangle cornered at (  66,   41).\n",
      "\n",
      "Attemped room generations 1741 times.\n"
     ]
    },
    {
     "data": {
      "image/png": "[encoded data removed]",
      "text/plain": [
       "<Figure size 640x480 with 1 Axes>"
      ]
     },
     "metadata": {},
     "output_type": "display_data"
    }
   ],
   "source": [
    "for i in range(10):\n",
    "    c.genRooms(reset = True)\n",
    "    plot.imshow(c.draw())\n",
    "    plot.show()"
   ]
  },
  {
   "cell_type": "code",
   "execution_count": 10,
   "id": "713d70f0-a055-4660-9416-e6f4162d292e",
   "metadata": {},
   "outputs": [
    {
     "data": {
      "text/plain": [
       "(4, 3)"
      ]
     },
     "execution_count": 10,
     "metadata": {},
     "output_type": "execute_result"
    }
   ],
   "source": [
    "v = np.random.randint(-5, 5 + 1, 2).tolist()\n",
    "Point(v[0], v[1])"
   ]
  },
  {
   "cell_type": "code",
   "execution_count": 11,
   "id": "21a1db99-685b-4e04-950d-2ed4d077e4bc",
   "metadata": {},
   "outputs": [
    {
     "name": "stdout",
     "output_type": "stream",
     "text": [
      "Object `cv.imshow` not found.\n"
     ]
    }
   ],
   "source": [
    "?cv.imshow"
   ]
  },
  {
   "cell_type": "code",
   "execution_count": 12,
   "id": "682cd0e0-3ff1-49a6-ac55-f2039185772d",
   "metadata": {},
   "outputs": [
    {
     "data": {
      "text/plain": [
       "array([-10,   1])"
      ]
     },
     "execution_count": 12,
     "metadata": {},
     "output_type": "execute_result"
    }
   ],
   "source": [
    "np.random.randint([-10, -2], [11, 3], 2)"
   ]
  },
  {
   "cell_type": "code",
   "execution_count": 13,
   "id": "619001f1-925c-4e50-9acb-e00a180521e2",
   "metadata": {},
   "outputs": [
    {
     "data": {
      "text/plain": [
       "array([ 2.996,  2.303,  1.897,  1.609,  1.386,  1.204,  1.05 ,  0.916,  0.799,  0.693,  0.598,  0.511,  0.431,  0.357,  0.288,\n",
       "        0.223,  0.163,  0.105,  0.051, -0.   ])"
      ]
     },
     "execution_count": 13,
     "metadata": {},
     "output_type": "execute_result"
    }
   ],
   "source": [
    "-np.log(np.linspace(0.05, 1., 20))"
   ]
  },
  {
   "cell_type": "code",
   "execution_count": 14,
   "id": "25408094-9f42-416d-a2f0-b6b9638a8ac3",
   "metadata": {},
   "outputs": [
    {
     "data": {
      "text/plain": [
       "(array([99022, 20071,  7890,  4068,  2433,  1599,  1121,   824,   628,   493,   396,   324,   269,   227,   193,   167,   145,\n",
       "          127,   112,   100]),\n",
       " array([507846, 102940,  40468,  20865,  12482,   8203,   5752,   4229,   3224,   2530,   2031,   1662,   1382,   1165,    994,\n",
       "           857,    745,    653,    577,    512]))"
      ]
     },
     "execution_count": 14,
     "metadata": {},
     "output_type": "execute_result"
    }
   ],
   "source": [
    "(10. ** (_ + 2.)).astype(int), (10. ** (_ + 2.71)).astype(int)"
   ]
  },
  {
   "cell_type": "code",
   "execution_count": 15,
   "id": "20effd7b-495b-4fd5-b992-59cc45d962d2",
   "metadata": {},
   "outputs": [
    {
     "data": {
      "text/plain": [
       "2.718281828459045"
      ]
     },
     "execution_count": 15,
     "metadata": {},
     "output_type": "execute_result"
    }
   ],
   "source": [
    "np.e"
   ]
  },
  {
   "cell_type": "code",
   "execution_count": null,
   "id": "b14035c9-0a7d-4859-b03f-a7fb3f6fea10",
   "metadata": {},
   "outputs": [],
   "source": []
  }
 ],
 "metadata": {
  "kernelspec": {
   "display_name": "Python 3 (ipykernel)",
   "language": "python",
   "name": "python3"
  },
  "language_info": {
   "codemirror_mode": {
    "name": "ipython",
    "version": 3
   },
   "file_extension": ".py",
   "mimetype": "text/x-python",
   "name": "python",
   "nbconvert_exporter": "python",
   "pygments_lexer": "ipython3",
   "version": "3.10.8"
  }
 },
 "nbformat": 4,
 "nbformat_minor": 5
}
