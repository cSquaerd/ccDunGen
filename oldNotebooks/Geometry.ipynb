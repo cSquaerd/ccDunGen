{
 "cells": [
  {
   "cell_type": "code",
   "execution_count": 1,
   "id": "ef94fee0-ca6d-4cb0-82c9-ab7f53c35482",
   "metadata": {},
   "outputs": [],
   "source": [
    "import numpy as np\n",
    "np.set_printoptions(linewidth = 128, precision = 3, formatter = {\"bool\" : lambda b : '#' if b else '_'})"
   ]
  },
  {
   "cell_type": "code",
   "execution_count": 2,
   "id": "acbc72ea-a1b3-4ee7-bba4-845cf742d754",
   "metadata": {},
   "outputs": [],
   "source": [
    "# Numpy supporting point class\n",
    "class Point:\n",
    "    # Needs a coordinate\n",
    "    def __init__(self, x : int, y : int):\n",
    "        self.x = x\n",
    "        self.y = y\n",
    "        self.dict = {'y': y, 'x': x}\n",
    "        self.npar = np.array([y, x], int)\n",
    "        self.tupl = (x, y)\n",
    "    # String representation\n",
    "    def __str__(self) -> str:\n",
    "        return str(self.tupl)\n",
    "    # Generic representation (just uses __str__)\n",
    "    def __repr__(self) -> str:\n",
    "        return self.__str__()"
   ]
  },
  {
   "cell_type": "code",
   "execution_count": 3,
   "id": "42fab21d-d25b-42c7-ae95-8ebaa7653495",
   "metadata": {},
   "outputs": [],
   "source": [
    "# Numpy supporting rectangle class\n",
    "class Rectangle:\n",
    "    # Needs a coordinate for the northwest corner (nearest to origin), a width, and height\n",
    "    def __init__(self, x : int, y : int, w : int, h : int):\n",
    "        self.origin = Point(x, y)\n",
    "        self.height = abs(h)\n",
    "        self.width = abs(w)\n",
    "        self.area = self.height * self.width\n",
    "        self.refreshEdgeCells()\n",
    "    # String representation\n",
    "    def __str__(self) -> str:\n",
    "        return \"A {: 4d} by {: 4d} Rectangle cornered at ({: 4d}, {: 4d}).\".format(\n",
    "            self.width, self.height, self.origin.x, self.origin.y\n",
    "        )\n",
    "    # Generic representation (just uses __str__)\n",
    "    def __repr__(self) -> str:\n",
    "        return self.__str__()\n",
    "    # Make six sets detailing the coordinates of cells in the rectangle on the edge of it\n",
    "    def refreshEdgeCells(self):\n",
    "        yi = self.origin.y\n",
    "        xi = self.origin.x\n",
    "        self.corners = {\n",
    "            Point(xi + xo, yi + yo)\n",
    "            for xo in (0, self.width - 1)\n",
    "            for yo in (0, self.height - 1)\n",
    "        }\n",
    "        self.edgeCellsNorth = {\n",
    "            Point(xe, yi)\n",
    "            for xe in range(xi + 1, xi + self.width - 1)\n",
    "        }\n",
    "        self.edgeCellsWest = {\n",
    "            Point(xi, ye)\n",
    "            for ye in range(yi + 1, yi + self.height - 1)\n",
    "        }\n",
    "        self.edgeCellsSouth = {\n",
    "            Point(xe, yi + self.height - 1)\n",
    "            for xe in range(xi + 1, xi + self.width - 1)\n",
    "        }\n",
    "        self.edgeCellsEast = {\n",
    "            Point(xi + self.width - 1, ye)\n",
    "            for ye in range(yi + 1, yi + self.height - 1)\n",
    "        }\n",
    "        \n",
    "        self.edgeCells = self.corners | self.edgeCellsNorth | self.edgeCellsWest \\\n",
    "            | self.edgeCellsSouth | self.edgeCellsEast\n",
    "    # Get a binary numpy mask array with the rectangle filled in, to arbitrary frame size\n",
    "    def getMaskFill(self, fw : int = 0, fh : int = 0) -> np.array:\n",
    "        if fw == 0 or fh == 0:\n",
    "            fw = self.origin.x + self.width\n",
    "            fh = self.origin.y + self.height\n",
    "        \n",
    "        M = np.zeros((fh, fw), bool)\n",
    "        \n",
    "        M[\n",
    "            self.origin.y : self.origin.y + self.height,\n",
    "            self.origin.x : self.origin.x + self.width\n",
    "        ] = 1\n",
    "        \n",
    "        return M\n",
    "    # Get a binary numpy mask array with the rectangle's edge only, to arbitrary frame size\n",
    "    def getMaskEdge(self, fw : int = 0, fh : int = 0) -> np.array:\n",
    "        M = self.getMaskFill(fw, fh)\n",
    "        \n",
    "        M[\n",
    "            self.origin.y + 1 : self.origin.y + self.height - 1,\n",
    "            self.origin.x + 1 : self.origin.x + self.width - 1\n",
    "        ] = 0\n",
    "        \n",
    "        return M\n",
    "    # Use the above mask method to determine if this rectangle overlaps with another\n",
    "    def overlaps(self, other) -> bool:\n",
    "        w = max(self.origin.x + self.width, other.origin.x + other.width)\n",
    "        h = max(self.origin.y + self.height, other.origin.y + other.height)\n",
    "        return np.count_nonzero(self.getMaskFill(w, h) & other.getMaskFill(w, h)) > 0\n",
    "    # Turn the overlap method into an operator (not commutative!)\n",
    "    def __and__(self, other) -> bool:\n",
    "        return self.overlaps(other)\n",
    "    # Compute the percentage of how much of this rectangle overlaps with another\n",
    "    def percentOverlap(self, other) -> float:\n",
    "        w = max(self.origin.x + self.width, other.origin.x + other.width)\n",
    "        h = max(self.origin.y + self.height, other.origin.y + other.height)\n",
    "        return np.count_nonzero(self.getMaskFill(w, h) & other.getMaskFill(w, h)) / self.area\n",
    "    # Determine the center cell of the rectangle\n",
    "    def getCentroid(self) -> np.array:\n",
    "        return self.origin.npar + np.array([self.height // 2, self.width // 2], int)\n",
    "    # Determine the bearing towards another rectangle\n",
    "    def getAzimuth(self, other) -> float:\n",
    "        vector = self.getCentroid() - other.getCentroid()\n",
    "        #print(vector, np.arctan2(vector[1], vector[0]) * 180. / np.pi, np.arctan2(vector[1], vector[0]) * 180. / np.pi - 90.)\n",
    "        \"\"\"\n",
    "        To go from trig angles (start at 3 o'clock, counterclockwise) to azimuths\n",
    "        (start at 6 o'clock (not noon since y increseas downward in graphics),\n",
    "        also counterclockwise), we need to rotate 90 degrees to the right\n",
    "        to bring the trig 0-axis to meet the place for the azimuth 0-axis.\n",
    "        Mathematcially, this is $\\theta + 90$. Since we don't want negative azimuths,\n",
    "        we mod by 360 to wind negatives around.\n",
    "        \"\"\"\n",
    "        return ((np.arctan2(vector[0], vector[1]) * 180. / np.pi) + 90.) % 360.\n",
    "    # Determine the closest wall that faces another rectangle\n",
    "    def getNearestWall(self, other) -> set:\n",
    "        a = self.getAzimuth(other)\n",
    "        if a > 315. or a <= 45.:\n",
    "            return self.edgeCellsSouth\n",
    "        elif a > 45. and a <= 135.:\n",
    "            return self.edgeCellsWest\n",
    "        elif a > 135. and a <= 225.:\n",
    "            return self.edgeCellsNorth\n",
    "        elif a > 225. and a <= 315.:\n",
    "            return self.edgeCellsEast\n",
    "        return {}"
   ]
  },
  {
   "cell_type": "code",
   "execution_count": 4,
   "id": "064dcee3-f684-4d98-92e4-d5680df799ca",
   "metadata": {},
   "outputs": [
    {
     "data": {
      "text/plain": [
       "\u001b[0;31mInit signature:\u001b[0m \u001b[0mRectangle\u001b[0m\u001b[0;34m(\u001b[0m\u001b[0mx\u001b[0m\u001b[0;34m:\u001b[0m \u001b[0mint\u001b[0m\u001b[0;34m,\u001b[0m \u001b[0my\u001b[0m\u001b[0;34m:\u001b[0m \u001b[0mint\u001b[0m\u001b[0;34m,\u001b[0m \u001b[0mw\u001b[0m\u001b[0;34m:\u001b[0m \u001b[0mint\u001b[0m\u001b[0;34m,\u001b[0m \u001b[0mh\u001b[0m\u001b[0;34m:\u001b[0m \u001b[0mint\u001b[0m\u001b[0;34m)\u001b[0m\u001b[0;34m\u001b[0m\u001b[0;34m\u001b[0m\u001b[0m\n",
       "\u001b[0;31mDocstring:\u001b[0m      <no docstring>\n",
       "\u001b[0;31mType:\u001b[0m           type\n",
       "\u001b[0;31mSubclasses:\u001b[0m     \n"
      ]
     },
     "metadata": {},
     "output_type": "display_data"
    }
   ],
   "source": [
    "?Rectangle"
   ]
  },
  {
   "cell_type": "code",
   "execution_count": 5,
   "id": "d0ae1a31-f4f1-496d-a589-0f7f301b408b",
   "metadata": {},
   "outputs": [
    {
     "name": "stdout",
     "output_type": "stream",
     "text": [
      "Help on class Rectangle in module __main__:\n",
      "\n",
      "class Rectangle(builtins.object)\n",
      " |  Rectangle(x: int, y: int, w: int, h: int)\n",
      " |  \n",
      " |  Methods defined here:\n",
      " |  \n",
      " |  __and__(self, other) -> bool\n",
      " |      # Turn the overlap method into an operator (not commutative!)\n",
      " |  \n",
      " |  __init__(self, x: int, y: int, w: int, h: int)\n",
      " |      Initialize self.  See help(type(self)) for accurate signature.\n",
      " |  \n",
      " |  __repr__(self) -> str\n",
      " |      Return repr(self).\n",
      " |  \n",
      " |  __str__(self) -> str\n",
      " |      Return str(self).\n",
      " |  \n",
      " |  getAzimuth(self, other) -> float\n",
      " |      # Determine the bearing towards another rectangle\n",
      " |  \n",
      " |  getCentroid(self) -> <built-in function array>\n",
      " |      # Determine the center cell of the rectangle\n",
      " |  \n",
      " |  getMaskEdge(self, fw: int = 0, fh: int = 0) -> <built-in function array>\n",
      " |      # Get a binary numpy mask array with the rectangle's edge only, to arbitrary frame size\n",
      " |  \n",
      " |  getMaskFill(self, fw: int = 0, fh: int = 0) -> <built-in function array>\n",
      " |      # Get a binary numpy mask array with the rectangle filled in, to arbitrary frame size\n",
      " |  \n",
      " |  getNearestWall(self, other) -> set\n",
      " |      # Determine the closest wall that faces another rectangle\n",
      " |  \n",
      " |  overlaps(self, other) -> bool\n",
      " |      # Use the above mask method to determine if this rectangle overlaps with another\n",
      " |  \n",
      " |  percentOverlap(self, other) -> float\n",
      " |      # Compute the percentage of how much of this rectangle overlaps with another\n",
      " |  \n",
      " |  refreshEdgeCells(self)\n",
      " |      # Make six sets detailing the coordinates of cells in the rectangle on the edge of it\n",
      " |  \n",
      " |  ----------------------------------------------------------------------\n",
      " |  Data descriptors defined here:\n",
      " |  \n",
      " |  __dict__\n",
      " |      dictionary for instance variables (if defined)\n",
      " |  \n",
      " |  __weakref__\n",
      " |      list of weak references to the object (if defined)\n",
      "\n"
     ]
    }
   ],
   "source": [
    "help(Rectangle)"
   ]
  },
  {
   "cell_type": "code",
   "execution_count": 6,
   "id": "12411e3b-b458-4ba8-8add-aca5a23151f9",
   "metadata": {},
   "outputs": [],
   "source": [
    "r = Rectangle(2, 4, 8, 6)"
   ]
  },
  {
   "cell_type": "code",
   "execution_count": 7,
   "id": "48d431b7-6e05-4c08-9c47-f356ce05ef42",
   "metadata": {},
   "outputs": [
    {
     "data": {
      "text/plain": [
       "A    8 by    6 Rectangle cornered at (   2,    4)."
      ]
     },
     "execution_count": 7,
     "metadata": {},
     "output_type": "execute_result"
    }
   ],
   "source": [
    "r"
   ]
  },
  {
   "cell_type": "code",
   "execution_count": 8,
   "id": "6abdd3df-8178-4f6b-b5e7-b6f576728d91",
   "metadata": {},
   "outputs": [
    {
     "data": {
      "text/plain": [
       "48"
      ]
     },
     "execution_count": 8,
     "metadata": {},
     "output_type": "execute_result"
    }
   ],
   "source": [
    "r.area"
   ]
  },
  {
   "cell_type": "code",
   "execution_count": 9,
   "id": "443de40a-30f3-4715-901f-6b96a596f528",
   "metadata": {},
   "outputs": [
    {
     "data": {
      "text/plain": [
       "(2, 4)"
      ]
     },
     "execution_count": 9,
     "metadata": {},
     "output_type": "execute_result"
    }
   ],
   "source": [
    "r.origin"
   ]
  },
  {
   "cell_type": "code",
   "execution_count": 10,
   "id": "7f8f8628-0305-451b-ac0f-c14921f00c36",
   "metadata": {},
   "outputs": [
    {
     "data": {
      "text/plain": [
       "{(2, 4), (2, 9), (9, 4), (9, 9)}"
      ]
     },
     "execution_count": 10,
     "metadata": {},
     "output_type": "execute_result"
    }
   ],
   "source": [
    "r.corners"
   ]
  },
  {
   "cell_type": "code",
   "execution_count": 11,
   "id": "4e4237a2-b6fe-4e7a-bf2a-14f6f454a958",
   "metadata": {},
   "outputs": [
    {
     "data": {
      "text/plain": [
       "{(3, 4), (4, 4), (5, 4), (6, 4), (7, 4), (8, 4)}"
      ]
     },
     "execution_count": 11,
     "metadata": {},
     "output_type": "execute_result"
    }
   ],
   "source": [
    "r.edgeCellsNorth"
   ]
  },
  {
   "cell_type": "code",
   "execution_count": 12,
   "id": "43da1246-e56a-40ee-a328-c1784f713622",
   "metadata": {},
   "outputs": [
    {
     "data": {
      "text/plain": [
       "{(2, 5), (2, 6), (2, 7), (2, 8)}"
      ]
     },
     "execution_count": 12,
     "metadata": {},
     "output_type": "execute_result"
    }
   ],
   "source": [
    "r.edgeCellsWest"
   ]
  },
  {
   "cell_type": "code",
   "execution_count": 13,
   "id": "7be762e0-384c-4685-a096-056e167d420f",
   "metadata": {},
   "outputs": [
    {
     "data": {
      "text/plain": [
       "{(3, 9), (4, 9), (5, 9), (6, 9), (7, 9), (8, 9)}"
      ]
     },
     "execution_count": 13,
     "metadata": {},
     "output_type": "execute_result"
    }
   ],
   "source": [
    "r.edgeCellsSouth"
   ]
  },
  {
   "cell_type": "code",
   "execution_count": 14,
   "id": "570e4b76-abc3-428c-aec2-474b242ec81c",
   "metadata": {},
   "outputs": [
    {
     "data": {
      "text/plain": [
       "{(9, 5), (9, 6), (9, 7), (9, 8)}"
      ]
     },
     "execution_count": 14,
     "metadata": {},
     "output_type": "execute_result"
    }
   ],
   "source": [
    "r.edgeCellsEast"
   ]
  },
  {
   "cell_type": "code",
   "execution_count": 15,
   "id": "0fb6c60f-b512-4e17-a6e5-11bba9748b91",
   "metadata": {},
   "outputs": [
    {
     "data": {
      "text/plain": [
       "{(2, 4),\n",
       " (2, 5),\n",
       " (2, 6),\n",
       " (2, 7),\n",
       " (2, 8),\n",
       " (2, 9),\n",
       " (3, 4),\n",
       " (3, 9),\n",
       " (4, 4),\n",
       " (4, 9),\n",
       " (5, 4),\n",
       " (5, 9),\n",
       " (6, 4),\n",
       " (6, 9),\n",
       " (7, 4),\n",
       " (7, 9),\n",
       " (8, 4),\n",
       " (8, 9),\n",
       " (9, 4),\n",
       " (9, 5),\n",
       " (9, 6),\n",
       " (9, 7),\n",
       " (9, 8),\n",
       " (9, 9)}"
      ]
     },
     "execution_count": 15,
     "metadata": {},
     "output_type": "execute_result"
    }
   ],
   "source": [
    "r.edgeCells"
   ]
  },
  {
   "cell_type": "code",
   "execution_count": 16,
   "id": "2dce35c1-bc42-4aaa-ad45-270351bac2c3",
   "metadata": {},
   "outputs": [
    {
     "data": {
      "text/plain": [
       "array([[_, _, _, _, _, _, _, _, _, _],\n",
       "       [_, _, _, _, _, _, _, _, _, _],\n",
       "       [_, _, _, _, _, _, _, _, _, _],\n",
       "       [_, _, _, _, _, _, _, _, _, _],\n",
       "       [_, _, #, #, #, #, #, #, #, #],\n",
       "       [_, _, #, _, _, _, _, _, _, #],\n",
       "       [_, _, #, _, _, _, _, _, _, #],\n",
       "       [_, _, #, _, _, _, _, _, _, #],\n",
       "       [_, _, #, _, _, _, _, _, _, #],\n",
       "       [_, _, #, #, #, #, #, #, #, #]])"
      ]
     },
     "execution_count": 16,
     "metadata": {},
     "output_type": "execute_result"
    }
   ],
   "source": [
    "r.getMaskEdge()"
   ]
  },
  {
   "cell_type": "code",
   "execution_count": 17,
   "id": "4499e14a-342c-437b-828d-11bcbd22b60d",
   "metadata": {},
   "outputs": [
    {
     "data": {
      "text/plain": [
       "array([[_, _, _, _, _, _, _, _, _, _],\n",
       "       [_, _, _, _, _, _, _, _, _, _],\n",
       "       [_, _, _, _, _, _, _, _, _, _],\n",
       "       [_, _, _, _, _, _, _, _, _, _],\n",
       "       [_, _, #, #, #, #, #, #, #, #],\n",
       "       [_, _, #, #, #, #, #, #, #, #],\n",
       "       [_, _, #, #, #, #, #, #, #, #],\n",
       "       [_, _, #, #, #, #, #, #, #, #],\n",
       "       [_, _, #, #, #, #, #, #, #, #],\n",
       "       [_, _, #, #, #, #, #, #, #, #]])"
      ]
     },
     "execution_count": 17,
     "metadata": {},
     "output_type": "execute_result"
    }
   ],
   "source": [
    "r.getMaskFill()"
   ]
  },
  {
   "cell_type": "code",
   "execution_count": 18,
   "id": "12b2efe0-b42d-4ae4-af47-9725ae35110f",
   "metadata": {},
   "outputs": [],
   "source": [
    "r2 = Rectangle(5, 1, 4, 6)"
   ]
  },
  {
   "cell_type": "code",
   "execution_count": 19,
   "id": "dd1bebf1-c675-4848-826c-4a887c1a2943",
   "metadata": {},
   "outputs": [
    {
     "data": {
      "text/plain": [
       "array([[_, _, _, _, _, _, _, _, _],\n",
       "       [_, _, _, _, _, #, #, #, #],\n",
       "       [_, _, _, _, _, #, #, #, #],\n",
       "       [_, _, _, _, _, #, #, #, #],\n",
       "       [_, _, _, _, _, #, #, #, #],\n",
       "       [_, _, _, _, _, #, #, #, #],\n",
       "       [_, _, _, _, _, #, #, #, #]])"
      ]
     },
     "execution_count": 19,
     "metadata": {},
     "output_type": "execute_result"
    }
   ],
   "source": [
    "r2.getMaskFill()"
   ]
  },
  {
   "cell_type": "code",
   "execution_count": 20,
   "id": "66e6bfe0-86ab-4fd2-a908-e689da983e76",
   "metadata": {},
   "outputs": [
    {
     "data": {
      "text/plain": [
       "True"
      ]
     },
     "execution_count": 20,
     "metadata": {},
     "output_type": "execute_result"
    }
   ],
   "source": [
    "r.overlaps(r2)"
   ]
  },
  {
   "cell_type": "code",
   "execution_count": 21,
   "id": "75c0f38b-c7bf-437d-b7bf-e0353c79d48f",
   "metadata": {},
   "outputs": [
    {
     "data": {
      "text/plain": [
       "True"
      ]
     },
     "execution_count": 21,
     "metadata": {},
     "output_type": "execute_result"
    }
   ],
   "source": [
    "r & r2"
   ]
  },
  {
   "cell_type": "code",
   "execution_count": 22,
   "id": "0e7c9528-571c-447c-8b0c-39f31bdbecde",
   "metadata": {},
   "outputs": [],
   "source": [
    "r3 = Rectangle(5, 1, 4, 3)"
   ]
  },
  {
   "cell_type": "code",
   "execution_count": 23,
   "id": "68f7e564-2348-4b04-80fb-50aa2479263c",
   "metadata": {},
   "outputs": [
    {
     "data": {
      "text/plain": [
       "array([[_, _, _, _, _, _, _, _, _],\n",
       "       [_, _, _, _, _, #, #, #, #],\n",
       "       [_, _, _, _, _, #, #, #, #],\n",
       "       [_, _, _, _, _, #, #, #, #]])"
      ]
     },
     "execution_count": 23,
     "metadata": {},
     "output_type": "execute_result"
    }
   ],
   "source": [
    "r3.getMaskFill()"
   ]
  },
  {
   "cell_type": "code",
   "execution_count": 24,
   "id": "909f6e20-f793-412c-a420-e9e7f8428bac",
   "metadata": {},
   "outputs": [
    {
     "data": {
      "text/plain": [
       "False"
      ]
     },
     "execution_count": 24,
     "metadata": {},
     "output_type": "execute_result"
    }
   ],
   "source": [
    "r & r3"
   ]
  },
  {
   "cell_type": "code",
   "execution_count": 25,
   "id": "dbe16a61-dea4-479b-a7aa-1366a0a048c8",
   "metadata": {},
   "outputs": [
    {
     "data": {
      "text/plain": [
       "True"
      ]
     },
     "execution_count": 25,
     "metadata": {},
     "output_type": "execute_result"
    }
   ],
   "source": [
    "r2 & r3"
   ]
  },
  {
   "cell_type": "code",
   "execution_count": 26,
   "id": "93a19139-1019-4460-a9ab-b75bb2a097c0",
   "metadata": {},
   "outputs": [
    {
     "data": {
      "text/plain": [
       "24"
      ]
     },
     "execution_count": 26,
     "metadata": {},
     "output_type": "execute_result"
    }
   ],
   "source": [
    "r2.area"
   ]
  },
  {
   "cell_type": "code",
   "execution_count": 27,
   "id": "251a445f-1853-475d-9c60-77494a90d1ce",
   "metadata": {},
   "outputs": [
    {
     "data": {
      "text/plain": [
       "12"
      ]
     },
     "execution_count": 27,
     "metadata": {},
     "output_type": "execute_result"
    }
   ],
   "source": [
    "r3.area"
   ]
  },
  {
   "cell_type": "code",
   "execution_count": 28,
   "id": "65684b57-f286-4332-b138-a50dd4bf6bfa",
   "metadata": {},
   "outputs": [
    {
     "data": {
      "text/plain": [
       "0.25"
      ]
     },
     "execution_count": 28,
     "metadata": {},
     "output_type": "execute_result"
    }
   ],
   "source": [
    "r.percentOverlap(r2)"
   ]
  },
  {
   "cell_type": "code",
   "execution_count": 29,
   "id": "839ea37f-a883-4293-be3e-28c128756593",
   "metadata": {},
   "outputs": [
    {
     "data": {
      "text/plain": [
       "0.0"
      ]
     },
     "execution_count": 29,
     "metadata": {},
     "output_type": "execute_result"
    }
   ],
   "source": [
    "r.percentOverlap(r3)"
   ]
  },
  {
   "cell_type": "code",
   "execution_count": 30,
   "id": "404131b9-a114-42ab-99be-b045e130b931",
   "metadata": {},
   "outputs": [
    {
     "data": {
      "text/plain": [
       "0.5"
      ]
     },
     "execution_count": 30,
     "metadata": {},
     "output_type": "execute_result"
    }
   ],
   "source": [
    "r2.percentOverlap(r)"
   ]
  },
  {
   "cell_type": "code",
   "execution_count": 31,
   "id": "0c0c8674-6b1f-427e-833c-6b37a53429dc",
   "metadata": {},
   "outputs": [
    {
     "data": {
      "text/plain": [
       "0.5"
      ]
     },
     "execution_count": 31,
     "metadata": {},
     "output_type": "execute_result"
    }
   ],
   "source": [
    "r2.percentOverlap(r3)"
   ]
  },
  {
   "cell_type": "code",
   "execution_count": 32,
   "id": "70e45cd2-dd28-471b-b63b-70a0d3c8a9ee",
   "metadata": {},
   "outputs": [
    {
     "data": {
      "text/plain": [
       "1.0"
      ]
     },
     "execution_count": 32,
     "metadata": {},
     "output_type": "execute_result"
    }
   ],
   "source": [
    "r3.percentOverlap(r2)"
   ]
  },
  {
   "cell_type": "code",
   "execution_count": 33,
   "id": "1947a09b-927f-4d44-a77f-c40911c848bf",
   "metadata": {},
   "outputs": [
    {
     "data": {
      "text/plain": [
       "(A    8 by    6 Rectangle cornered at (   2,    4).,\n",
       " array([7, 6]),\n",
       " A    4 by    6 Rectangle cornered at (   5,    1).,\n",
       " array([4, 7]),\n",
       " A    4 by    3 Rectangle cornered at (   5,    1).,\n",
       " array([2, 7]))"
      ]
     },
     "execution_count": 33,
     "metadata": {},
     "output_type": "execute_result"
    }
   ],
   "source": [
    "r, r.getCentroid(), r2, r2.getCentroid(), r3, r3.getCentroid()"
   ]
  },
  {
   "cell_type": "code",
   "execution_count": 34,
   "id": "0c1b94f5-d9be-4c5e-b926-5739a8851c3c",
   "metadata": {},
   "outputs": [
    {
     "data": {
      "text/plain": [
       "array([ 3, -1])"
      ]
     },
     "execution_count": 34,
     "metadata": {},
     "output_type": "execute_result"
    }
   ],
   "source": [
    "r.getCentroid() - r2.getCentroid()"
   ]
  },
  {
   "cell_type": "code",
   "execution_count": 35,
   "id": "7e79b486-684e-4ca7-a806-6d01fe3dd6af",
   "metadata": {},
   "outputs": [
    {
     "data": {
      "text/plain": [
       "198.43494882292202"
      ]
     },
     "execution_count": 35,
     "metadata": {},
     "output_type": "execute_result"
    }
   ],
   "source": [
    "(np.arctan2(_[0], _[1]) * 180. / np.pi + 90.) % 360."
   ]
  },
  {
   "cell_type": "code",
   "execution_count": 36,
   "id": "cf81b8f8-4b06-459d-9cb3-695fb3567bcb",
   "metadata": {},
   "outputs": [
    {
     "data": {
      "text/plain": [
       "198.43494882292202"
      ]
     },
     "execution_count": 36,
     "metadata": {},
     "output_type": "execute_result"
    }
   ],
   "source": [
    "r.getAzimuth(r2)"
   ]
  },
  {
   "cell_type": "code",
   "execution_count": 37,
   "id": "a80bc520-e1d3-4eb9-9993-fab262fdb337",
   "metadata": {},
   "outputs": [
    {
     "data": {
      "text/plain": [
       "array([[-2, -2, -2, -2, -2, -1, -1, -1, -1, -1,  0,  0,  0,  0,  0,  1,  1,  1,  1,  1,  2,  2,  2,  2,  2],\n",
       "       [-2, -1,  0,  1,  2, -2, -1,  0,  1,  2, -2, -1,  0,  1,  2, -2, -1,  0,  1,  2, -2, -1,  0,  1,  2]])"
      ]
     },
     "execution_count": 37,
     "metadata": {},
     "output_type": "execute_result"
    }
   ],
   "source": [
    "np.array([(x, y) for x in range(-2, 3) for y in range(-2, 3)]).T"
   ]
  },
  {
   "cell_type": "code",
   "execution_count": 38,
   "id": "692f80f8-5e9f-48e4-8c87-f7db25685d43",
   "metadata": {},
   "outputs": [
    {
     "data": {
      "text/plain": [
       "(array([-135.   , -153.435,  180.   ,  153.435,  135.   , -116.565, -135.   ,  180.   ,  135.   ,  116.565,  -90.   ,  -90.   ,\n",
       "           0.   ,   90.   ,   90.   ,  -63.435,  -45.   ,    0.   ,   45.   ,   63.435,  -45.   ,  -26.565,    0.   ,   26.565,\n",
       "          45.   ]),\n",
       " array([135.   , 116.565,  90.   ,  63.435,  45.   , 153.435, 135.   ,  90.   ,  45.   ,  26.565, 180.   , 180.   , 270.   ,\n",
       "          0.   ,   0.   , 206.565, 225.   , 270.   , 315.   , 333.435, 225.   , 243.435, 270.   , 296.565, 315.   ]))"
      ]
     },
     "execution_count": 38,
     "metadata": {},
     "output_type": "execute_result"
    }
   ],
   "source": [
    "(np.arctan2(_[1], _[0]) * 180. / np.pi), ((np.arctan2(_[1], _[0]) * 180. / np.pi) - 90.) % 360., "
   ]
  },
  {
   "cell_type": "code",
   "execution_count": 39,
   "id": "89719a6f-e7f4-4fe4-9476-6ac9e08c6ca0",
   "metadata": {},
   "outputs": [
    {
     "data": {
      "text/plain": [
       "18.43494882292201"
      ]
     },
     "execution_count": 39,
     "metadata": {},
     "output_type": "execute_result"
    }
   ],
   "source": [
    "r2.getAzimuth(r)"
   ]
  },
  {
   "cell_type": "code",
   "execution_count": 40,
   "id": "b761b6b7-339a-49a4-a176-2bfe76dfd997",
   "metadata": {},
   "outputs": [
    {
     "data": {
      "text/plain": [
       "{(3, 4), (4, 4), (5, 4), (6, 4), (7, 4), (8, 4)}"
      ]
     },
     "execution_count": 40,
     "metadata": {},
     "output_type": "execute_result"
    }
   ],
   "source": [
    "r.getNearestWall(r2)"
   ]
  },
  {
   "cell_type": "code",
   "execution_count": 41,
   "id": "26fed132-83e3-4ea2-9b6a-a60d318047b0",
   "metadata": {},
   "outputs": [
    {
     "data": {
      "text/plain": [
       "{(6, 6), (7, 6)}"
      ]
     },
     "execution_count": 41,
     "metadata": {},
     "output_type": "execute_result"
    }
   ],
   "source": [
    "r2.getNearestWall(r)"
   ]
  },
  {
   "cell_type": "code",
   "execution_count": 42,
   "id": "a2accae5-7a53-4eb8-85e5-5183d28a1b53",
   "metadata": {},
   "outputs": [
    {
     "data": {
      "text/plain": [
       "({(3, 4), (4, 4), (5, 4), (6, 4), (7, 4), (8, 4)}, {(6, 3), (7, 3)})"
      ]
     },
     "execution_count": 42,
     "metadata": {},
     "output_type": "execute_result"
    }
   ],
   "source": [
    "r.getNearestWall(r3), r3.getNearestWall(r)"
   ]
  },
  {
   "cell_type": "code",
   "execution_count": 43,
   "id": "683de075-a55a-4743-9a24-8834d9347240",
   "metadata": {},
   "outputs": [
    {
     "data": {
      "text/plain": [
       "array([[_, _, _, _, _, _, _, _, _],\n",
       "       [_, _, _, _, _, #, #, #, #],\n",
       "       [_, _, _, _, _, #, _, _, #],\n",
       "       [_, _, _, _, _, #, #, #, #]])"
      ]
     },
     "execution_count": 43,
     "metadata": {},
     "output_type": "execute_result"
    }
   ],
   "source": [
    "r3.getMaskEdge()"
   ]
  },
  {
   "cell_type": "code",
   "execution_count": 44,
   "id": "5c8372e3-e0ce-4987-b07a-0a19a03f2504",
   "metadata": {},
   "outputs": [
    {
     "data": {
      "text/plain": [
       "array([[_, _, _, _, _, _, _, _, _],\n",
       "       [_, _, _, _, _, #, #, #, #],\n",
       "       [_, _, _, _, _, #, _, _, #],\n",
       "       [_, _, _, _, _, #, _, _, #],\n",
       "       [_, _, _, _, _, #, _, _, #],\n",
       "       [_, _, _, _, _, #, _, _, #],\n",
       "       [_, _, _, _, _, #, #, #, #]])"
      ]
     },
     "execution_count": 44,
     "metadata": {},
     "output_type": "execute_result"
    }
   ],
   "source": [
    "r2.getMaskEdge()"
   ]
  },
  {
   "cell_type": "code",
   "execution_count": 45,
   "id": "06c11d50-b46e-4c02-ac65-90fd91dc6cac",
   "metadata": {},
   "outputs": [
    {
     "data": {
      "text/plain": [
       "array([[_, _, _, _, _, _, _, _, _, _],\n",
       "       [_, _, _, _, _, #, #, #, #, _],\n",
       "       [_, _, _, _, _, #, _, _, #, _],\n",
       "       [_, _, _, _, _, #, #, #, #, _],\n",
       "       [_, _, #, #, #, #, #, #, #, #],\n",
       "       [_, _, #, _, _, #, _, _, #, #],\n",
       "       [_, _, #, _, _, #, #, #, #, #],\n",
       "       [_, _, #, _, _, _, _, _, _, #],\n",
       "       [_, _, #, _, _, _, _, _, _, #],\n",
       "       [_, _, #, #, #, #, #, #, #, #]])"
      ]
     },
     "execution_count": 45,
     "metadata": {},
     "output_type": "execute_result"
    }
   ],
   "source": [
    "r.getMaskEdge(10, 10) | r2.getMaskEdge(10, 10) | r3.getMaskEdge(10, 10)"
   ]
  },
  {
   "cell_type": "code",
   "execution_count": 46,
   "id": "cba0afd4-34d5-4b1e-9105-a4a1b91ac2f7",
   "metadata": {},
   "outputs": [],
   "source": [
    "#?np.arctan2"
   ]
  },
  {
   "cell_type": "code",
   "execution_count": 47,
   "id": "fc44b325-4d89-4a13-9f97-6d4b4270ffd5",
   "metadata": {},
   "outputs": [
    {
     "name": "stdout",
     "output_type": "stream",
     "text": [
      "Help on class Rectangle in module __main__:\n",
      "\n",
      "class Rectangle(builtins.object)\n",
      " |  Rectangle(x: int, y: int, w: int, h: int)\n",
      " |  \n",
      " |  Methods defined here:\n",
      " |  \n",
      " |  __and__(self, other) -> bool\n",
      " |      # Turn the overlap method into an operator (not commutative!)\n",
      " |  \n",
      " |  __init__(self, x: int, y: int, w: int, h: int)\n",
      " |      Initialize self.  See help(type(self)) for accurate signature.\n",
      " |  \n",
      " |  __repr__(self) -> str\n",
      " |      Return repr(self).\n",
      " |  \n",
      " |  __str__(self) -> str\n",
      " |      Return str(self).\n",
      " |  \n",
      " |  getAzimuth(self, other) -> float\n",
      " |      # Determine the bearing towards another rectangle\n",
      " |  \n",
      " |  getCentroid(self) -> <built-in function array>\n",
      " |      # Determine the center cell of the rectangle\n",
      " |  \n",
      " |  getMaskEdge(self, fw: int = 0, fh: int = 0) -> <built-in function array>\n",
      " |      # Get a binary numpy mask array with the rectangle's edge only, to arbitrary frame size\n",
      " |  \n",
      " |  getMaskFill(self, fw: int = 0, fh: int = 0) -> <built-in function array>\n",
      " |      # Get a binary numpy mask array with the rectangle filled in, to arbitrary frame size\n",
      " |  \n",
      " |  getNearestWall(self, other) -> set\n",
      " |      # Determine the closest wall that faces another rectangle\n",
      " |  \n",
      " |  overlaps(self, other) -> bool\n",
      " |      # Use the above mask method to determine if this rectangle overlaps with another\n",
      " |  \n",
      " |  percentOverlap(self, other) -> float\n",
      " |      # Compute the percentage of how much of this rectangle overlaps with another\n",
      " |  \n",
      " |  refreshEdgeCells(self)\n",
      " |      # Make six sets detailing the coordinates of cells in the rectangle on the edge of it\n",
      " |  \n",
      " |  ----------------------------------------------------------------------\n",
      " |  Data descriptors defined here:\n",
      " |  \n",
      " |  __dict__\n",
      " |      dictionary for instance variables (if defined)\n",
      " |  \n",
      " |  __weakref__\n",
      " |      list of weak references to the object (if defined)\n",
      "\n"
     ]
    }
   ],
   "source": [
    "help(Rectangle)"
   ]
  },
  {
   "cell_type": "code",
   "execution_count": 48,
   "id": "70f16020-b73d-4904-a676-53c1f731cddd",
   "metadata": {},
   "outputs": [],
   "source": [
    "# Numpy supporting line class\n",
    "class Line:\n",
    "    # Needs a coordinate, a length, and an orientation\n",
    "    def __init__(self, x : int, y : int, l : int, o : str):\n",
    "        o = o.lower()[0]\n",
    "        self.origin = Point(x, y)\n",
    "        self.length = abs(l)\n",
    "        self.orient = Point(\n",
    "            -1 if o == 'w' else 1 if o == 'e' else 0,\n",
    "            -1 if o == 'n' else 1 if o == 's' else 0\n",
    "        )\n",
    "    # Get a binary numpy mask array with the line drawn, arbitrary frame size\n",
    "    def getMask(self, fw : int = 0, fh : int = 0) -> np.array:\n",
    "        xi = self.origin.x # the abs-abs thing is for the slice to work properly\n",
    "        xf = self.origin.x + self.length * self.orient.x + abs(abs(self.orient.x) - 1)\n",
    "        yi = self.origin.y\n",
    "        yf = self.origin.y + self.length * self.orient.y + abs(abs(self.orient.y) - 1)\n",
    "        if fw == 0 or fh == 0:\n",
    "            fw = max(xi, xf)\n",
    "            fh = max(yi, yf)\n",
    "        # Flip if need be for the slice to work properly\n",
    "        if xi > xf:\n",
    "            t = xf\n",
    "            xf = xi + 1\n",
    "            xi = t + 1\n",
    "        if yi > yf:\n",
    "            t = yf\n",
    "            yf = yi + 1\n",
    "            yi = t + 1\n",
    "            \n",
    "        M = np.zeros((fh, fw), bool)\n",
    "        \n",
    "        M[yi:yf, xi:xf] = 1\n",
    "        \n",
    "        return M\n",
    "    # Determine the center cell of the line\n",
    "    def getCentroid(self) -> np.array:\n",
    "        return self.origin.npar + self.orient.npar * (self.length // 2)\n",
    "    # Determine the cell at the end of the line\n",
    "    def getEndpoint(self) -> np.array:\n",
    "        return self.origin.npar + self.orient.npar * (self.length - 1)\n",
    "    # Determine the bearing to another line (or rectangle, centroid mode only!)\n",
    "    def getAzimuth(self, other, mode = 'c') -> float:\n",
    "        if mode.lower()[0] == 'e':\n",
    "            vector = self.getEndpoint() - other.getEndpoint()\n",
    "        else:\n",
    "            vector = self.getCentroid() - other.getCentroid()\n",
    "        # See description in Rectangle class for why this works\n",
    "        return ((np.arctan2(vector[0], vector[1]) * 180. / np.pi) + 90.) % 360.\n",
    "    # Determine which cardinal direction leads closest to another line\n",
    "    # (or rectangle, centroid mode only like above!)\n",
    "    def getNearestOrientation(self, other, mode = 'c') -> tuple:\n",
    "        a = self.getAzimuth(other, mode)\n",
    "        if a > 315. or a <= 45.:\n",
    "            return ('s', Point(0, 1))\n",
    "        elif a > 45. and a <= 135.:\n",
    "            return ('w', Point(-1, 0))\n",
    "        elif a > 135. and a <= 225.:\n",
    "            return ('n', Point(0, -1))\n",
    "        elif a > 225. and a <= 315.:\n",
    "            return ('e', Point(1, 0))\n",
    "        return ()"
   ]
  },
  {
   "cell_type": "code",
   "execution_count": 49,
   "id": "170528f5-4744-448d-92f0-bdd39842d631",
   "metadata": {},
   "outputs": [],
   "source": [
    "l1 = Line(2, 2, 3, 'e')"
   ]
  },
  {
   "cell_type": "code",
   "execution_count": 50,
   "id": "d0f25187-1e00-4ec7-9c49-9357c918e985",
   "metadata": {},
   "outputs": [
    {
     "data": {
      "text/plain": [
       "(1, 0)"
      ]
     },
     "execution_count": 50,
     "metadata": {},
     "output_type": "execute_result"
    }
   ],
   "source": [
    "l1.orient"
   ]
  },
  {
   "cell_type": "code",
   "execution_count": 51,
   "id": "17f8f457-658e-40f1-9fb8-edef514e2c9e",
   "metadata": {},
   "outputs": [
    {
     "data": {
      "text/plain": [
       "array([[_, _, _, _, _, _, _, _, _, _, _, _, _, _, _, _, _, _, _, _],\n",
       "       [_, _, _, _, _, _, _, _, _, _, _, _, _, _, _, _, _, _, _, _],\n",
       "       [_, _, #, #, #, _, _, _, _, _, _, _, _, _, _, _, _, _, _, _],\n",
       "       [_, _, _, _, _, _, _, _, _, _, _, _, _, _, _, _, _, _, _, _],\n",
       "       [_, _, _, _, _, _, _, _, _, _, _, _, _, _, _, _, _, _, _, _],\n",
       "       [_, _, _, _, _, _, _, _, _, _, _, _, _, _, _, _, _, _, _, _],\n",
       "       [_, _, _, _, _, _, _, _, _, _, _, _, _, _, _, _, _, _, _, _],\n",
       "       [_, _, _, _, _, _, _, _, _, _, _, _, _, _, _, _, _, _, _, _]])"
      ]
     },
     "execution_count": 51,
     "metadata": {},
     "output_type": "execute_result"
    }
   ],
   "source": [
    "l1.getMask(20, 8)"
   ]
  },
  {
   "cell_type": "code",
   "execution_count": 52,
   "id": "4fba8475-51b1-429c-b5d2-b5975832e59c",
   "metadata": {},
   "outputs": [
    {
     "data": {
      "text/plain": [
       "array([2, 3])"
      ]
     },
     "execution_count": 52,
     "metadata": {},
     "output_type": "execute_result"
    }
   ],
   "source": [
    "l1.getCentroid()"
   ]
  },
  {
   "cell_type": "code",
   "execution_count": 53,
   "id": "c453bd91-68e2-4d45-a5f6-8ea426115ff6",
   "metadata": {},
   "outputs": [
    {
     "data": {
      "text/plain": [
       "(2, 2)"
      ]
     },
     "execution_count": 53,
     "metadata": {},
     "output_type": "execute_result"
    }
   ],
   "source": [
    "l1.origin"
   ]
  },
  {
   "cell_type": "code",
   "execution_count": 54,
   "id": "0d5a04f2-3516-4d2f-b01e-8001d1940127",
   "metadata": {},
   "outputs": [
    {
     "data": {
      "text/plain": [
       "array([2, 4])"
      ]
     },
     "execution_count": 54,
     "metadata": {},
     "output_type": "execute_result"
    }
   ],
   "source": [
    "l1.getEndpoint()"
   ]
  },
  {
   "cell_type": "code",
   "execution_count": 55,
   "id": "15facb32-d8d2-439e-b2ed-aed8ea48bca3",
   "metadata": {},
   "outputs": [],
   "source": [
    "l2 = Line(10, 4, 7, 'w')"
   ]
  },
  {
   "cell_type": "code",
   "execution_count": 56,
   "id": "119317f9-d96c-4f19-a78e-a2050796ef4a",
   "metadata": {},
   "outputs": [
    {
     "data": {
      "text/plain": [
       "(7, 3)"
      ]
     },
     "execution_count": 56,
     "metadata": {},
     "output_type": "execute_result"
    }
   ],
   "source": [
    "l2.length, l2.length // 2"
   ]
  },
  {
   "cell_type": "code",
   "execution_count": 57,
   "id": "e2574ac5-4186-405f-bb56-b7513755d07f",
   "metadata": {},
   "outputs": [
    {
     "data": {
      "text/plain": [
       "(array([ 4, 10]), array([4, 7]), array([4, 4]))"
      ]
     },
     "execution_count": 57,
     "metadata": {},
     "output_type": "execute_result"
    }
   ],
   "source": [
    "l2.origin.npar, l2.getCentroid(), l2.getEndpoint()"
   ]
  },
  {
   "cell_type": "code",
   "execution_count": 58,
   "id": "24947a8c-7a6b-42aa-bc53-8c82a776a798",
   "metadata": {},
   "outputs": [
    {
     "data": {
      "text/plain": [
       "array([[_, _, _, _, _, _, _, _, _, _, _, _, _, _, _, _, _, _, _, _],\n",
       "       [_, _, _, _, _, _, _, _, _, _, _, _, _, _, _, _, _, _, _, _],\n",
       "       [_, _, _, _, _, _, _, _, _, _, _, _, _, _, _, _, _, _, _, _],\n",
       "       [_, _, _, _, _, _, _, _, _, _, _, _, _, _, _, _, _, _, _, _],\n",
       "       [_, _, _, _, #, #, #, #, #, #, #, _, _, _, _, _, _, _, _, _],\n",
       "       [_, _, _, _, _, _, _, _, _, _, _, _, _, _, _, _, _, _, _, _],\n",
       "       [_, _, _, _, _, _, _, _, _, _, _, _, _, _, _, _, _, _, _, _],\n",
       "       [_, _, _, _, _, _, _, _, _, _, _, _, _, _, _, _, _, _, _, _]])"
      ]
     },
     "execution_count": 58,
     "metadata": {},
     "output_type": "execute_result"
    }
   ],
   "source": [
    "l2.getMask(20, 8)"
   ]
  },
  {
   "cell_type": "code",
   "execution_count": 59,
   "id": "9e5498e3-c222-48f6-9bbb-f43b53709c8d",
   "metadata": {},
   "outputs": [
    {
     "data": {
      "text/plain": [
       "array([[_, _, _, _, _, _, _, _, _, _, _, _, _, _, _, _, _, _, _, _],\n",
       "       [_, _, _, _, _, _, _, _, _, _, _, _, _, _, _, _, _, _, _, _],\n",
       "       [_, _, #, #, #, _, _, _, _, _, _, _, _, _, _, _, _, _, _, _],\n",
       "       [_, _, _, _, _, _, _, _, _, _, _, _, _, _, _, _, _, _, _, _],\n",
       "       [_, _, _, _, #, #, #, #, #, #, #, _, _, _, _, _, _, _, _, _],\n",
       "       [_, _, _, _, _, _, _, _, _, _, _, _, _, _, _, _, _, _, _, _],\n",
       "       [_, _, _, _, _, _, _, _, _, _, _, _, _, _, _, _, _, _, _, _],\n",
       "       [_, _, _, _, _, _, _, _, _, _, _, _, _, _, _, _, _, _, _, _]])"
      ]
     },
     "execution_count": 59,
     "metadata": {},
     "output_type": "execute_result"
    }
   ],
   "source": [
    "l1.getMask(20, 8) | l2.getMask(20, 8)"
   ]
  },
  {
   "cell_type": "code",
   "execution_count": 60,
   "id": "19ab252b-6356-4e0e-9a79-ab4b39159752",
   "metadata": {},
   "outputs": [
    {
     "data": {
      "text/plain": [
       "116.56505117707799"
      ]
     },
     "execution_count": 60,
     "metadata": {},
     "output_type": "execute_result"
    }
   ],
   "source": [
    "l2.getAzimuth(l1)"
   ]
  },
  {
   "cell_type": "code",
   "execution_count": 61,
   "id": "ba506dad-202d-4343-a6da-133937fbbc77",
   "metadata": {},
   "outputs": [
    {
     "data": {
      "text/plain": [
       "180.0"
      ]
     },
     "execution_count": 61,
     "metadata": {},
     "output_type": "execute_result"
    }
   ],
   "source": [
    "l2.getAzimuth(l1, mode = \"endpoint\")"
   ]
  },
  {
   "cell_type": "code",
   "execution_count": 62,
   "id": "aaba664b-17a7-4414-bc1f-302027f24994",
   "metadata": {},
   "outputs": [
    {
     "data": {
      "text/plain": [
       "('w', (-1, 0))"
      ]
     },
     "execution_count": 62,
     "metadata": {},
     "output_type": "execute_result"
    }
   ],
   "source": [
    "l2.getNearestOrientation(l1)"
   ]
  },
  {
   "cell_type": "code",
   "execution_count": 63,
   "id": "482dcd36-4085-4757-85b2-03a00bc5939e",
   "metadata": {},
   "outputs": [
    {
     "data": {
      "text/plain": [
       "('n', (0, -1))"
      ]
     },
     "execution_count": 63,
     "metadata": {},
     "output_type": "execute_result"
    }
   ],
   "source": [
    "l2.getNearestOrientation(l1, 'e')"
   ]
  },
  {
   "cell_type": "code",
   "execution_count": 64,
   "id": "d4fdb97e-a0de-4fd3-9a2f-a5de9fd44fa2",
   "metadata": {},
   "outputs": [
    {
     "name": "stdout",
     "output_type": "stream",
     "text": [
      "Help on class Point in module __main__:\n",
      "\n",
      "class Point(builtins.object)\n",
      " |  Point(x: int, y: int)\n",
      " |  \n",
      " |  Methods defined here:\n",
      " |  \n",
      " |  __init__(self, x: int, y: int)\n",
      " |      Initialize self.  See help(type(self)) for accurate signature.\n",
      " |  \n",
      " |  __repr__(self) -> str\n",
      " |      Return repr(self).\n",
      " |  \n",
      " |  __str__(self) -> str\n",
      " |      Return str(self).\n",
      " |  \n",
      " |  ----------------------------------------------------------------------\n",
      " |  Data descriptors defined here:\n",
      " |  \n",
      " |  __dict__\n",
      " |      dictionary for instance variables (if defined)\n",
      " |  \n",
      " |  __weakref__\n",
      " |      list of weak references to the object (if defined)\n",
      "\n"
     ]
    }
   ],
   "source": [
    "help(Point)"
   ]
  },
  {
   "cell_type": "code",
   "execution_count": 65,
   "id": "c1021ccf-7f1b-45bc-84f3-3a273a56aadd",
   "metadata": {},
   "outputs": [
    {
     "name": "stdout",
     "output_type": "stream",
     "text": [
      "Help on class Line in module __main__:\n",
      "\n",
      "class Line(builtins.object)\n",
      " |  Line(x: int, y: int, l: int, o: str)\n",
      " |  \n",
      " |  Methods defined here:\n",
      " |  \n",
      " |  __init__(self, x: int, y: int, l: int, o: str)\n",
      " |      Initialize self.  See help(type(self)) for accurate signature.\n",
      " |  \n",
      " |  getAzimuth(self, other, mode='c') -> float\n",
      " |      # Determine the bearing to another line (or rectangle, centroid mode only!)\n",
      " |  \n",
      " |  getCentroid(self) -> <built-in function array>\n",
      " |      # Determine the center cell of the line\n",
      " |  \n",
      " |  getEndpoint(self) -> <built-in function array>\n",
      " |      # Determine the cell at the end of the line\n",
      " |  \n",
      " |  getMask(self, fw: int = 0, fh: int = 0) -> <built-in function array>\n",
      " |      # Get a binary numpy mask array with the line drawn, arbitrary frame size\n",
      " |  \n",
      " |  getNearestOrientation(self, other, mode='c') -> tuple\n",
      " |      # Determine which cardinal direction leads closest to another line\n",
      " |      # (or rectangle, centroid mode only like above!)\n",
      " |  \n",
      " |  ----------------------------------------------------------------------\n",
      " |  Data descriptors defined here:\n",
      " |  \n",
      " |  __dict__\n",
      " |      dictionary for instance variables (if defined)\n",
      " |  \n",
      " |  __weakref__\n",
      " |      list of weak references to the object (if defined)\n",
      "\n"
     ]
    }
   ],
   "source": [
    "help(Line)"
   ]
  },
  {
   "cell_type": "code",
   "execution_count": null,
   "id": "b72cb6e2-ac55-4e76-ac53-fe5453609501",
   "metadata": {},
   "outputs": [],
   "source": []
  }
 ],
 "metadata": {
  "kernelspec": {
   "display_name": "Python 3 (ipykernel)",
   "language": "python",
   "name": "python3"
  },
  "language_info": {
   "codemirror_mode": {
    "name": "ipython",
    "version": 3
   },
   "file_extension": ".py",
   "mimetype": "text/x-python",
   "name": "python",
   "nbconvert_exporter": "python",
   "pygments_lexer": "ipython3",
   "version": "3.10.8"
  }
 },
 "nbformat": 4,
 "nbformat_minor": 5
}
