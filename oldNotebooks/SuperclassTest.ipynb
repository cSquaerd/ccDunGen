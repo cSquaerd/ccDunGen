{
 "cells": [
  {
   "cell_type": "code",
   "execution_count": 1,
   "id": "146c26bf-2c15-45b5-92a9-7ac0391995e2",
   "metadata": {},
   "outputs": [],
   "source": [
    "from ccDGGeom import np, Point, Rectangle, Line, Circle"
   ]
  },
  {
   "cell_type": "code",
   "execution_count": 2,
   "id": "c9a4a905-c116-42c6-85e8-dda78ca05b21",
   "metadata": {},
   "outputs": [],
   "source": [
    "class Base:\n",
    "    \n",
    "    def foo(self):\n",
    "        return 0\n",
    "    \n",
    "class Der(Base):\n",
    "    def __init__(self, x):\n",
    "        self.n = x\n",
    "        \n",
    "    def foo(self):\n",
    "        return self.n"
   ]
  },
  {
   "cell_type": "code",
   "execution_count": 3,
   "id": "50197cd9-7a58-4579-b756-2dd9e2150695",
   "metadata": {},
   "outputs": [
    {
     "data": {
      "text/plain": [
       "(0, 22)"
      ]
     },
     "execution_count": 3,
     "metadata": {},
     "output_type": "execute_result"
    }
   ],
   "source": [
    "b = Base()\n",
    "d = Der(22)\n",
    "b.foo(), d.foo()"
   ]
  },
  {
   "cell_type": "code",
   "execution_count": 4,
   "id": "3190edeb-2b34-432d-95da-599a851c05e6",
   "metadata": {},
   "outputs": [
    {
     "data": {
      "text/plain": [
       "\u001b[0;31mSignature:\u001b[0m  \u001b[0misinstance\u001b[0m\u001b[0;34m(\u001b[0m\u001b[0mobj\u001b[0m\u001b[0;34m,\u001b[0m \u001b[0mclass_or_tuple\u001b[0m\u001b[0;34m,\u001b[0m \u001b[0;34m/\u001b[0m\u001b[0;34m)\u001b[0m\u001b[0;34m\u001b[0m\u001b[0;34m\u001b[0m\u001b[0m\n",
       "\u001b[0;31mDocstring:\u001b[0m\n",
       "Return whether an object is an instance of a class or of a subclass thereof.\n",
       "\n",
       "A tuple, as in ``isinstance(x, (A, B, ...))``, may be given as the target to\n",
       "check against. This is equivalent to ``isinstance(x, A) or isinstance(x, B)\n",
       "or ...`` etc.\n",
       "\u001b[0;31mType:\u001b[0m      builtin_function_or_method\n"
      ]
     },
     "metadata": {},
     "output_type": "display_data"
    }
   ],
   "source": [
    "? isinstance"
   ]
  },
  {
   "cell_type": "code",
   "execution_count": 5,
   "id": "c7ad7351-5caf-48dc-83de-9e4c46cb3ba1",
   "metadata": {},
   "outputs": [
    {
     "data": {
      "text/plain": [
       "True"
      ]
     },
     "execution_count": 5,
     "metadata": {},
     "output_type": "execute_result"
    }
   ],
   "source": [
    "isinstance(d, Der)"
   ]
  },
  {
   "cell_type": "code",
   "execution_count": 6,
   "id": "987b4146-c8b3-4d77-b898-e7fb82ed3e8e",
   "metadata": {},
   "outputs": [
    {
     "data": {
      "text/plain": [
       "\u001b[0;31mSignature:\u001b[0m  \u001b[0missubclass\u001b[0m\u001b[0;34m(\u001b[0m\u001b[0mcls\u001b[0m\u001b[0;34m,\u001b[0m \u001b[0mclass_or_tuple\u001b[0m\u001b[0;34m,\u001b[0m \u001b[0;34m/\u001b[0m\u001b[0;34m)\u001b[0m\u001b[0;34m\u001b[0m\u001b[0;34m\u001b[0m\u001b[0m\n",
       "\u001b[0;31mDocstring:\u001b[0m\n",
       "Return whether 'cls' is derived from another class or is the same class.\n",
       "\n",
       "A tuple, as in ``issubclass(x, (A, B, ...))``, may be given as the target to\n",
       "check against. This is equivalent to ``issubclass(x, A) or issubclass(x, B)\n",
       "or ...``.\n",
       "\u001b[0;31mType:\u001b[0m      builtin_function_or_method\n"
      ]
     },
     "metadata": {},
     "output_type": "display_data"
    }
   ],
   "source": [
    "? issubclass"
   ]
  },
  {
   "cell_type": "code",
   "execution_count": 7,
   "id": "cd1c632e-6c2a-4046-9537-63c9689e1be1",
   "metadata": {},
   "outputs": [
    {
     "data": {
      "text/plain": [
       "True"
      ]
     },
     "execution_count": 7,
     "metadata": {},
     "output_type": "execute_result"
    }
   ],
   "source": [
    "issubclass(Der, Base)"
   ]
  },
  {
   "cell_type": "code",
   "execution_count": 8,
   "id": "8a6560a0-1d08-49b9-9955-3508025c2876",
   "metadata": {},
   "outputs": [
    {
     "data": {
      "text/plain": [
       "True"
      ]
     },
     "execution_count": 8,
     "metadata": {},
     "output_type": "execute_result"
    }
   ],
   "source": [
    "isinstance(d, Base)"
   ]
  },
  {
   "cell_type": "code",
   "execution_count": 9,
   "id": "cf505c15-2d22-49b7-828b-d14c3cbd0421",
   "metadata": {},
   "outputs": [
    {
     "data": {
      "text/plain": [
       "(array([[_, _, _, _, _, _, _, _, _, _, _, _, _],\n",
       "        [_, _, _, _, _, _, _, _, _, _, _, _, _],\n",
       "        [_, _, _, _, _, _, _, _, _, _, _, _, _],\n",
       "        [_, _, _, #, #, #, #, #, #, #, #, #, #],\n",
       "        [_, _, _, #, #, #, #, #, #, #, #, #, #],\n",
       "        [_, _, _, #, #, #, #, #, #, #, #, #, #],\n",
       "        [_, _, _, #, #, #, #, #, #, #, #, #, #],\n",
       "        [_, _, _, #, #, #, #, #, #, #, #, #, #]]),\n",
       " array([[_, _, _, _, _, _, _, _, _, _, _, #, #, #, _, _, _, _],\n",
       "        [_, _, _, _, _, _, _, _, _, #, #, #, #, #, #, #, _, _],\n",
       "        [_, _, _, _, _, _, _, _, #, #, #, #, #, #, #, #, #, _],\n",
       "        [_, _, _, _, _, _, _, _, #, #, #, #, #, #, #, #, #, _],\n",
       "        [_, _, _, _, _, _, _, #, #, #, #, #, #, #, #, #, #, #],\n",
       "        [_, _, _, _, _, _, _, #, #, #, #, #, #, #, #, #, #, #],\n",
       "        [_, _, _, _, _, _, _, #, #, #, #, #, #, #, #, #, #, #],\n",
       "        [_, _, _, _, _, _, _, _, #, #, #, #, #, #, #, #, #, _],\n",
       "        [_, _, _, _, _, _, _, _, #, #, #, #, #, #, #, #, #, _],\n",
       "        [_, _, _, _, _, _, _, _, _, #, #, #, #, #, #, #, _, _],\n",
       "        [_, _, _, _, _, _, _, _, _, _, _, #, #, #, _, _, _, _]]))"
      ]
     },
     "execution_count": 9,
     "metadata": {},
     "output_type": "execute_result"
    }
   ],
   "source": [
    "r = Rectangle(3, 3, 10, 5)\n",
    "c = Circle(12, 5, 5)\n",
    "r.getMaskFill(), c.getMaskFill()"
   ]
  },
  {
   "cell_type": "code",
   "execution_count": 10,
   "id": "51f77ca0-89e9-4516-a470-d09caaf6dc79",
   "metadata": {},
   "outputs": [
    {
     "data": {
      "text/plain": [
       "((13, 8), (18, 11))"
      ]
     },
     "execution_count": 10,
     "metadata": {},
     "output_type": "execute_result"
    }
   ],
   "source": [
    "r.getMinFrame(), c.getMinFrame()"
   ]
  },
  {
   "cell_type": "code",
   "execution_count": 11,
   "id": "88f2b3b8-f7a3-4ae5-a07b-5e2992185899",
   "metadata": {},
   "outputs": [
    {
     "data": {
      "text/plain": [
       "(True, True)"
      ]
     },
     "execution_count": 11,
     "metadata": {},
     "output_type": "execute_result"
    }
   ],
   "source": [
    "r & c, c & r"
   ]
  },
  {
   "cell_type": "code",
   "execution_count": 12,
   "id": "69ab00a5-f9b0-436c-8dc1-7c8821db4dd4",
   "metadata": {},
   "outputs": [
    {
     "data": {
      "text/plain": [
       "array([[_, _, _, _, _, _, _, _, _, _, _, #, #, #, _, _, _, _],\n",
       "       [_, _, _, _, _, _, _, _, _, #, #, _, _, _, #, #, _, _],\n",
       "       [_, _, _, _, _, _, _, _, #, _, _, _, _, _, _, _, #, _],\n",
       "       [_, _, _, #, #, #, #, #, #, #, #, #, #, _, _, _, #, _],\n",
       "       [_, _, _, #, _, _, _, #, _, _, _, _, #, _, _, _, _, #],\n",
       "       [_, _, _, #, _, _, _, #, _, _, _, _, #, _, _, _, _, #],\n",
       "       [_, _, _, #, _, _, _, #, _, _, _, _, #, _, _, _, _, #],\n",
       "       [_, _, _, #, #, #, #, #, #, #, #, #, #, _, _, _, #, _],\n",
       "       [_, _, _, _, _, _, _, _, #, _, _, _, _, _, _, _, #, _],\n",
       "       [_, _, _, _, _, _, _, _, _, #, #, _, _, _, #, #, _, _],\n",
       "       [_, _, _, _, _, _, _, _, _, _, _, #, #, #, _, _, _, _]])"
      ]
     },
     "execution_count": 12,
     "metadata": {},
     "output_type": "execute_result"
    }
   ],
   "source": [
    "r.getMaskEdge(18, 11) | c.getMaskEdge(18, 11)"
   ]
  },
  {
   "cell_type": "code",
   "execution_count": null,
   "id": "d24e2b0a-d520-4c03-8b8a-ee08d316b1c3",
   "metadata": {},
   "outputs": [],
   "source": []
  }
 ],
 "metadata": {
  "kernelspec": {
   "display_name": "Python 3 (ipykernel)",
   "language": "python",
   "name": "python3"
  },
  "language_info": {
   "codemirror_mode": {
    "name": "ipython",
    "version": 3
   },
   "file_extension": ".py",
   "mimetype": "text/x-python",
   "name": "python",
   "nbconvert_exporter": "python",
   "pygments_lexer": "ipython3",
   "version": "3.10.8"
  }
 },
 "nbformat": 4,
 "nbformat_minor": 5
}
